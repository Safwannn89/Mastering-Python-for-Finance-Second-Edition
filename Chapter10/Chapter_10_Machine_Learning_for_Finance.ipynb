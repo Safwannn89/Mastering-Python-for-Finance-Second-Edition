{
  "cells": [
    {
      "cell_type": "markdown",
      "metadata": {
        "id": "-5f9aOmg-Yz8"
      },
      "source": [
        "# Predicting prices with a single-asset regression model"
      ]
    },
    {
      "cell_type": "markdown",
      "metadata": {
        "id": "iOLo08u3-Yz-"
      },
      "source": [
        "## Preparing the independent and target variables"
      ]
    },
    {
      "cell_type": "code",
      "execution_count": null,
      "metadata": {
        "colab": {
          "base_uri": "https://localhost:8080/"
        },
        "id": "jC-U9FA--Yz_",
        "outputId": "19b11992-02ac-4634-acf8-99f21e00f738"
      },
      "outputs": [
        {
          "output_type": "stream",
          "name": "stdout",
          "text": [
            "Requirement already satisfied: yfinance in /usr/local/lib/python3.11/dist-packages (0.2.65)\n",
            "Requirement already satisfied: pandas>=1.3.0 in /usr/local/lib/python3.11/dist-packages (from yfinance) (2.2.2)\n",
            "Requirement already satisfied: numpy>=1.16.5 in /usr/local/lib/python3.11/dist-packages (from yfinance) (2.0.2)\n",
            "Requirement already satisfied: requests>=2.31 in /usr/local/lib/python3.11/dist-packages (from yfinance) (2.32.3)\n",
            "Requirement already satisfied: multitasking>=0.0.7 in /usr/local/lib/python3.11/dist-packages (from yfinance) (0.0.12)\n",
            "Requirement already satisfied: platformdirs>=2.0.0 in /usr/local/lib/python3.11/dist-packages (from yfinance) (4.3.8)\n",
            "Requirement already satisfied: pytz>=2022.5 in /usr/local/lib/python3.11/dist-packages (from yfinance) (2025.2)\n",
            "Requirement already satisfied: frozendict>=2.3.4 in /usr/local/lib/python3.11/dist-packages (from yfinance) (2.4.6)\n",
            "Requirement already satisfied: peewee>=3.16.2 in /usr/local/lib/python3.11/dist-packages (from yfinance) (3.18.2)\n",
            "Requirement already satisfied: beautifulsoup4>=4.11.1 in /usr/local/lib/python3.11/dist-packages (from yfinance) (4.13.4)\n",
            "Requirement already satisfied: curl_cffi>=0.7 in /usr/local/lib/python3.11/dist-packages (from yfinance) (0.12.0)\n",
            "Requirement already satisfied: protobuf>=3.19.0 in /usr/local/lib/python3.11/dist-packages (from yfinance) (5.29.5)\n",
            "Requirement already satisfied: websockets>=13.0 in /usr/local/lib/python3.11/dist-packages (from yfinance) (15.0.1)\n",
            "Requirement already satisfied: soupsieve>1.2 in /usr/local/lib/python3.11/dist-packages (from beautifulsoup4>=4.11.1->yfinance) (2.7)\n",
            "Requirement already satisfied: typing-extensions>=4.0.0 in /usr/local/lib/python3.11/dist-packages (from beautifulsoup4>=4.11.1->yfinance) (4.14.1)\n",
            "Requirement already satisfied: cffi>=1.12.0 in /usr/local/lib/python3.11/dist-packages (from curl_cffi>=0.7->yfinance) (1.17.1)\n",
            "Requirement already satisfied: certifi>=2024.2.2 in /usr/local/lib/python3.11/dist-packages (from curl_cffi>=0.7->yfinance) (2025.7.14)\n",
            "Requirement already satisfied: python-dateutil>=2.8.2 in /usr/local/lib/python3.11/dist-packages (from pandas>=1.3.0->yfinance) (2.9.0.post0)\n",
            "Requirement already satisfied: tzdata>=2022.7 in /usr/local/lib/python3.11/dist-packages (from pandas>=1.3.0->yfinance) (2025.2)\n",
            "Requirement already satisfied: charset-normalizer<4,>=2 in /usr/local/lib/python3.11/dist-packages (from requests>=2.31->yfinance) (3.4.2)\n",
            "Requirement already satisfied: idna<4,>=2.5 in /usr/local/lib/python3.11/dist-packages (from requests>=2.31->yfinance) (3.10)\n",
            "Requirement already satisfied: urllib3<3,>=1.21.1 in /usr/local/lib/python3.11/dist-packages (from requests>=2.31->yfinance) (2.5.0)\n",
            "Requirement already satisfied: pycparser in /usr/local/lib/python3.11/dist-packages (from cffi>=1.12.0->curl_cffi>=0.7->yfinance) (2.22)\n",
            "Requirement already satisfied: six>=1.5 in /usr/local/lib/python3.11/dist-packages (from python-dateutil>=2.8.2->pandas>=1.3.0->yfinance) (1.17.0)\n",
            "\n",
            "Downloading all required stock data...\n",
            "Data downloaded successfully.\n",
            "Training LinearRegressionModel starting...\n",
            "Training completed.\n",
            "\n",
            "Mean Squared Error: 2.6674\n",
            "Mean Absolute Error: 1.2174\n"
          ]
        }
      ],
      "source": [
        "# FIX: This single block replaces the entire \"Predicting prices with a single-asset\n",
        "# regression model\" section from the original notebook.\n",
        "#\n",
        "# REASONING FOR THE CHANGE:\n",
        "# 1. Data Source: The original code used the 'alpha_vantage' library, which\n",
        "#    failed due to the free API's strict daily download limits. This new code\n",
        "#    uses the more reliable 'yfinance' library.\n",
        "# 2. NameErrors: The original code was spread across multiple cells. This often\n",
        "#    led to 'NameError' exceptions because the cells were run out of order.\n",
        "#    This single block defines all necessary classes and variables in the correct\n",
        "#    sequence, permanently fixing these errors.\n",
        "# 3. Warnings: The original 'LinearRegressionModel' class used outdated code\n",
        "#    that produced many warnings. This version has been updated to use modern\n",
        "#    libraries correctly.\n",
        "\n",
        "# --- 1. SETUP AND INSTALLATION ---\n",
        "!pip install yfinance\n",
        "# ... (rest of your corrected code) ...\n",
        "import yfinance as yf\n",
        "import pandas as pd\n",
        "from sklearn.linear_model import LinearRegression\n",
        "from sklearn.metrics import mean_squared_error, mean_absolute_error\n",
        "\n",
        "# --- 2. DEFINE THE MODEL CLASS (This was the missing part) ---\n",
        "class LinearRegressionModel:\n",
        "    def __init__(self):\n",
        "        self.models = {}\n",
        "\n",
        "    def _train(self, x, y):\n",
        "        model = LinearRegression()\n",
        "        model.fit(x, y.to_numpy())\n",
        "        return model\n",
        "\n",
        "    def _predict(self, x, model):\n",
        "        return model.predict(x)[0]\n",
        "\n",
        "    def learn(self, x_prices, y_prices, start_date, end_date, lookback_period=20):\n",
        "        all_dates = x_prices.index\n",
        "        start_date_ts = pd.to_datetime(start_date)\n",
        "        end_date_ts = pd.to_datetime(end_date)\n",
        "        dates = [d for d in all_dates if d >= start_date_ts and d <= end_date_ts]\n",
        "\n",
        "        print(f'Training {self.__class__.__name__} starting...')\n",
        "        for i, a_date in enumerate(dates):\n",
        "            if i < lookback_period:\n",
        "                continue\n",
        "            start_period = all_dates.get_loc(a_date) - lookback_period\n",
        "            end_period = all_dates.get_loc(a_date)\n",
        "            x = x_prices.iloc[start_period:end_period]\n",
        "            y = y_prices.iloc[start_period:end_period]\n",
        "            model = self._train(x, y)\n",
        "            self.models[a_date] = model\n",
        "        print('Training completed.')\n",
        "\n",
        "    def predict(self, x_prices, date):\n",
        "        model = self.models.get(date)\n",
        "        if model is None:\n",
        "            return None\n",
        "        x_prices_today = x_prices.loc[[date]]\n",
        "        return self._predict(x_prices_today, model)\n",
        "\n",
        "# --- 3. DOWNLOAD AND PREPARE DATA ---\n",
        "TICKERS = ['JPM', 'GS']\n",
        "print(\"\\nDownloading all required stock data...\")\n",
        "df_data = yf.download(\n",
        "    TICKERS,\n",
        "    start='2010-01-01',\n",
        "    end='2019-12-31', # Download data for the full period\n",
        "    progress=False,\n",
        "    auto_adjust=True\n",
        ")['Close']\n",
        "print(\"Data downloaded successfully.\")\n",
        "\n",
        "# Create the necessary DataFrames\n",
        "df_gs = df_data[['GS']]\n",
        "df_jpm = df_data[['JPM']]\n",
        "df_x = pd.DataFrame({'GS': df_gs['GS']})\n",
        "jpm_prices = df_jpm['JPM']\n",
        "\n",
        "# --- 4. TRAIN, PREDICT, AND EVALUATE THE MODEL ---\n",
        "linear_reg_model = LinearRegressionModel()\n",
        "linear_reg_model.learn(df_x, jpm_prices, start_date='2018',\n",
        "                       end_date='2019', lookback_period=20)\n",
        "\n",
        "# Make Predictions\n",
        "all_dates = df_x.index\n",
        "start_date_ts = pd.to_datetime('2018-01-01')\n",
        "end_date_ts = pd.to_datetime('2019-12-31')\n",
        "dates_to_predict = [d for d in all_dates if d >= start_date_ts and d <= end_date_ts and d in linear_reg_model.models]\n",
        "predictions = [linear_reg_model.predict(df_x, a_date) for a_date in dates_to_predict]\n",
        "\n",
        "# Create results DataFrame and calculate errors\n",
        "df_result = pd.DataFrame({\n",
        "    'prediction': predictions,\n",
        "    'actual': jpm_prices[dates_to_predict]\n",
        "})\n",
        "\n",
        "actual = df_result['actual']\n",
        "predicted = df_result['prediction']\n",
        "mse = mean_squared_error(actual, predicted)\n",
        "mae = mean_absolute_error(actual, predicted)\n",
        "\n",
        "print(f'\\nMean Squared Error: {mse:.4f}')\n",
        "print(f'Mean Absolute Error: {mae:.4f}')"
      ]
    },
    {
      "cell_type": "markdown",
      "metadata": {
        "id": "d2phj8JB-Y0A"
      },
      "source": [
        "### Explained variance score as a risk metric"
      ]
    },
    {
      "cell_type": "code",
      "execution_count": null,
      "metadata": {
        "colab": {
          "base_uri": "https://localhost:8080/"
        },
        "id": "-9iDjWfq-Y0A",
        "outputId": "8158f033-1222-49c8-bd40-520e75c0b7f5"
      },
      "outputs": [
        {
          "output_type": "stream",
          "name": "stdout",
          "text": [
            "explained variance score: 0.82843059234037\n"
          ]
        }
      ],
      "source": [
        "from sklearn.metrics import explained_variance_score\n",
        "eva = explained_variance_score(actual, predicted)\n",
        "print('explained variance score:', eva)"
      ]
    },
    {
      "cell_type": "markdown",
      "metadata": {
        "id": "yJx3cwfS-Y0A"
      },
      "source": [
        "### R<sup>2</sup> as a risk metric"
      ]
    },
    {
      "cell_type": "code",
      "execution_count": null,
      "metadata": {
        "colab": {
          "base_uri": "https://localhost:8080/"
        },
        "id": "xo4Ir8xM-Y0A",
        "outputId": "22ac32bb-320b-474d-ff6d-e7b7fd134346"
      },
      "outputs": [
        {
          "output_type": "stream",
          "name": "stdout",
          "text": [
            "r2 score: 0.8241304335880942\n"
          ]
        }
      ],
      "source": [
        "from sklearn.metrics import r2_score\n",
        "r2 = r2_score(actual, predicted)\n",
        "print('r2 score:', r2)"
      ]
    },
    {
      "cell_type": "markdown",
      "metadata": {
        "id": "lWb18CD_-Y0B"
      },
      "source": [
        "## Ridge regression"
      ]
    },
    {
      "cell_type": "code",
      "execution_count": null,
      "metadata": {
        "colab": {
          "base_uri": "https://localhost:8080/"
        },
        "id": "VMkZSLAI-Y0B",
        "outputId": "f41e52b8-2d69-4e4a-f694-4a561dad9c4b"
      },
      "outputs": [
        {
          "output_type": "stream",
          "name": "stdout",
          "text": [
            "Training RidgeRegressionModel starting...\n",
            "Training completed.\n",
            "\n",
            "--- Ridge Regression Performance ---\n",
            "Mean Squared Error: 2.6647\n",
            "Mean Absolute Error: 1.2169\n",
            "R-squared: 0.8243\n"
          ]
        }
      ],
      "source": [
        "from sklearn.linear_model import Ridge\n",
        "from sklearn.metrics import mean_squared_error, mean_absolute_error, r2_score\n",
        "import pandas as pd\n",
        "\n",
        "# --- 1. Define the Corrected RidgeRegressionModel Class ---\n",
        "# This inherits from the LinearRegressionModel we already fixed.\n",
        "class RidgeRegressionModel(LinearRegressionModel):\n",
        "    def _train(self, x, y):\n",
        "        model = Ridge()\n",
        "        # FIX: Use .to_numpy() to avoid warnings\n",
        "        model.fit(x, y.to_numpy())\n",
        "        return model\n",
        "\n",
        "# --- 2. Train the Ridge Model ---\n",
        "ridge_reg_model = RidgeRegressionModel()\n",
        "ridge_reg_model.learn(df_x, jpm_prices, start_date='2018',\n",
        "                      end_date='2019', lookback_period=20)\n",
        "\n",
        "# --- 3. Make Predictions ---\n",
        "all_dates = df_x.index\n",
        "start_date_ts = pd.to_datetime('2018-01-01')\n",
        "end_date_ts = pd.to_datetime('2019-12-31')\n",
        "# Ensure we only predict for dates where a model was trained\n",
        "dates_to_predict = [d for d in all_dates if d >= start_date_ts and d <= end_date_ts and d in ridge_reg_model.models]\n",
        "predictions = [ridge_reg_model.predict(df_x, a_date) for a_date in dates_to_predict]\n",
        "\n",
        "# --- 4. Evaluate the Ridge Model ---\n",
        "df_result_ridge = pd.DataFrame({\n",
        "    'Predicted': predictions,\n",
        "    'Actual': jpm_prices[dates_to_predict]\n",
        "})\n",
        "\n",
        "actual = df_result_ridge['Actual']\n",
        "predicted = df_result_ridge['Predicted']\n",
        "mse = mean_squared_error(actual, predicted)\n",
        "mae = mean_absolute_error(actual, predicted)\n",
        "r2 = r2_score(actual, predicted)\n",
        "\n",
        "print(f'\\n--- Ridge Regression Performance ---')\n",
        "print(f'Mean Squared Error: {mse:.4f}')\n",
        "print(f'Mean Absolute Error: {mae:.4f}')\n",
        "print(f'R-squared: {r2:.4f}')"
      ]
    },
    {
      "cell_type": "markdown",
      "metadata": {
        "id": "N3xdjVrz-Y0B"
      },
      "source": [
        "# Predicting returns with a cross-asset momentum model"
      ]
    },
    {
      "cell_type": "markdown",
      "metadata": {
        "id": "BO7vE1AM-Y0B"
      },
      "source": [
        "## Preparing the independent variables"
      ]
    },
    {
      "cell_type": "markdown",
      "metadata": {
        "id": "FUH0SAVw-Y0C"
      },
      "source": [
        "## Preparing the target variables"
      ]
    },
    {
      "cell_type": "code",
      "execution_count": null,
      "metadata": {
        "colab": {
          "base_uri": "https://localhost:8080/"
        },
        "id": "sU5lYCSO-Y0C",
        "outputId": "a3eb10f5-073c-4795-cef5-526061dee15c"
      },
      "outputs": [
        {
          "output_type": "stream",
          "name": "stdout",
          "text": [
            "Downloading all required stock and ETF data...\n",
            "Data downloaded successfully.\n",
            "Training LinearRegressionModel starting...\n",
            "Training completed.\n",
            "\n",
            "--- Cross-Asset Model Performance ---\n",
            "Mean Squared Error: 0.0006\n",
            "Mean Absolute Error: 0.0193\n",
            "R-squared: -2.1846\n"
          ]
        }
      ],
      "source": [
        "# --- 1. Import All Necessary Libraries ---\n",
        "import yfinance as yf\n",
        "import pandas as pd\n",
        "from sklearn.linear_model import LinearRegression\n",
        "from sklearn.metrics import mean_squared_error, mean_absolute_error, r2_score\n",
        "\n",
        "# --- 2. Define the CORRECT Model Class for REGRESSION ---\n",
        "# This class uses LinearRegression, which is correct for this task.\n",
        "class LinearRegressionModel:\n",
        "    def __init__(self):\n",
        "        self.models = {}\n",
        "\n",
        "    def _train(self, x, y):\n",
        "        model = LinearRegression()\n",
        "        model.fit(x, y.to_numpy())\n",
        "        return model\n",
        "\n",
        "    def _predict(self, x, model):\n",
        "        return model.predict(x)[0]\n",
        "\n",
        "    def learn(self, x_prices, y_prices, start_date, end_date, lookback_period=20):\n",
        "        all_dates = x_prices.index\n",
        "        start_date_ts = pd.to_datetime(start_date)\n",
        "        end_date_ts = pd.to_datetime(end_date)\n",
        "        dates = [d for d in all_dates if d >= start_date_ts and d <= end_date_ts]\n",
        "\n",
        "        print(f'Training {self.__class__.__name__} starting...')\n",
        "        for i, a_date in enumerate(dates):\n",
        "            if i < lookback_period:\n",
        "                continue\n",
        "            start_period = all_dates.get_loc(a_date) - lookback_period\n",
        "            end_period = all_dates.get_loc(a_date)\n",
        "            x = x_prices.iloc[start_period:end_period]\n",
        "            y = y_prices.iloc[start_period:end_period]\n",
        "            model = self._train(x, y)\n",
        "            self.models[a_date] = model\n",
        "        print('Training completed.')\n",
        "\n",
        "    def predict(self, x_prices, date):\n",
        "        model = self.models.get(date)\n",
        "        if model is None:\n",
        "            return None\n",
        "        x_prices_today = x_prices.loc[[date]]\n",
        "        return self._predict(x_prices_today, model)\n",
        "\n",
        "# --- 3. Download and Prepare All Data ---\n",
        "TICKERS = ['JPM', 'GS', 'SPY', 'GLD', 'UUP', 'IEF']\n",
        "print(\"Downloading all required stock and ETF data...\")\n",
        "df_data = yf.download(\n",
        "    TICKERS,\n",
        "    start='2010-01-01',\n",
        "    end='2019-12-31',\n",
        "    progress=False,\n",
        "    auto_adjust=True\n",
        ")['Close']\n",
        "print(\"Data downloaded successfully.\")\n",
        "\n",
        "# Create momentum features\n",
        "df_assets_1m = df_data.pct_change(21).add_suffix('_1m')\n",
        "df_assets_3m = df_data.pct_change(63).add_suffix('_3m')\n",
        "df_assets_6m = df_data.pct_change(126).add_suffix('_6m')\n",
        "df_assets_12m = df_data.pct_change(252).add_suffix('_12m')\n",
        "df_lagged = pd.concat([df_assets_1m, df_assets_3m, df_assets_6m, df_assets_12m], axis=1)\n",
        "\n",
        "# Create target variable and align data\n",
        "y = df_data['JPM'].pct_change()\n",
        "df_x_final, y_final = df_lagged.align(y, join='inner', axis=0)\n",
        "df_x_final.dropna(inplace=True)\n",
        "y_final = y_final[df_x_final.index]\n",
        "\n",
        "# --- 4. Train and Evaluate the Model ---\n",
        "multi_linear_model = LinearRegressionModel()\n",
        "multi_linear_model.learn(df_x_final, y_final, start_date='2018',\n",
        "                       end_date='2019', lookback_period=10)\n",
        "\n",
        "# Make Predictions\n",
        "all_dates = df_x_final.index\n",
        "start_date_ts = pd.to_datetime('2018-01-01')\n",
        "end_date_ts = pd.to_datetime('2019-12-31')\n",
        "dates_to_predict = [d for d in all_dates if d >= start_date_ts and d <= end_date_ts and d in multi_linear_model.models]\n",
        "predictions = [multi_linear_model.predict(df_x_final, a_date) for a_date in dates_to_predict]\n",
        "\n",
        "# Evaluate\n",
        "df_result = pd.DataFrame({'Predicted': predictions, 'Actual': y_final[dates_to_predict]})\n",
        "actual = df_result['Actual']\n",
        "predicted = df_result['Predicted']\n",
        "mse = mean_squared_error(actual, predicted)\n",
        "mae = mean_absolute_error(actual, predicted)\n",
        "r2 = r2_score(actual, predicted)\n",
        "\n",
        "print(f'\\n--- Cross-Asset Model Performance ---')\n",
        "print(f'Mean Squared Error: {mse:.4f}')\n",
        "print(f'Mean Absolute Error: {mae:.4f}')\n",
        "print(f'R-squared: {r2:.4f}')"
      ]
    },
    {
      "cell_type": "markdown",
      "metadata": {
        "id": "un0O2rVK-Y0C"
      },
      "source": [
        "## An ensemble of decision trees"
      ]
    },
    {
      "cell_type": "markdown",
      "metadata": {
        "id": "xEY0XQ2E-Y0D"
      },
      "source": [
        "### Bagging regressor"
      ]
    },
    {
      "cell_type": "code",
      "execution_count": null,
      "metadata": {
        "colab": {
          "base_uri": "https://localhost:8080/"
        },
        "id": "_-PUBx46-Y0D",
        "outputId": "a1a9b07d-5870-42ba-dffa-234917a54d2a"
      },
      "outputs": [
        {
          "output_type": "stream",
          "name": "stdout",
          "text": [
            "Downloading all required stock and ETF data...\n",
            "Data downloaded successfully.\n",
            "Training BaggingRegressorModel starting...\n",
            "Training completed.\n",
            "\n",
            "--- Bagging Regressor Performance ---\n",
            "mean_absolute_error: 0.011788398197925395\n",
            "mean_squared_error: 0.00025781649741717213\n",
            "r2_score: -0.3029722175365972\n"
          ]
        }
      ],
      "source": [
        "# --- 1. Import All Necessary Libraries ---\n",
        "import yfinance as yf\n",
        "import pandas as pd\n",
        "from sklearn.linear_model import LinearRegression, Ridge\n",
        "from sklearn.ensemble import BaggingRegressor\n",
        "from sklearn.metrics import mean_absolute_error, mean_squared_error, r2_score\n",
        "\n",
        "# --- 2. Define the Helper and Model Classes ---\n",
        "# FIX: Added the missing print_regression_metrics function\n",
        "def print_regression_metrics(df_result):\n",
        "    actual = list(df_result['Actual'])\n",
        "    predicted = list(df_result['Predicted'])\n",
        "    print('mean_absolute_error:', mean_absolute_error(actual, predicted))\n",
        "    print('mean_squared_error:', mean_squared_error(actual, predicted))\n",
        "    print('r2_score:', r2_score(actual, predicted))\n",
        "\n",
        "class LinearRegressionModel:\n",
        "    def __init__(self):\n",
        "        self.models = {}\n",
        "    def _train(self, x, y):\n",
        "        model = LinearRegression()\n",
        "        model.fit(x, y.to_numpy())\n",
        "        return model\n",
        "    def _predict(self, x, model):\n",
        "        return model.predict(x)[0]\n",
        "    def learn(self, x_prices, y_prices, start_date, end_date, lookback_period=20):\n",
        "        all_dates = x_prices.index\n",
        "        start_date_ts = pd.to_datetime(start_date)\n",
        "        end_date_ts = pd.to_datetime(end_date)\n",
        "        dates = [d for d in all_dates if d >= start_date_ts and d <= end_date_ts]\n",
        "        print(f'Training {self.__class__.__name__} starting...')\n",
        "        for i, a_date in enumerate(dates):\n",
        "            if i < lookback_period: continue\n",
        "            start_period = all_dates.get_loc(a_date) - lookback_period\n",
        "            end_period = all_dates.get_loc(a_date)\n",
        "            x = x_prices.iloc[start_period:end_period]\n",
        "            y = y_prices.iloc[start_period:end_period]\n",
        "            model = self._train(x, y)\n",
        "            self.models[a_date] = model\n",
        "        print('Training completed.')\n",
        "    def predict(self, x_prices, date):\n",
        "        model = self.models.get(date)\n",
        "        if model is None: return None\n",
        "        x_prices_today = x_prices.loc[[date]]\n",
        "        return self._predict(x_prices_today, model)\n",
        "\n",
        "class BaggingRegressorModel(LinearRegressionModel):\n",
        "    def _train(self, x, y):\n",
        "        model = BaggingRegressor()\n",
        "        model.fit(x, y.to_numpy())\n",
        "        return model\n",
        "\n",
        "# --- 3. Download and Prepare All Data ---\n",
        "TICKERS = ['JPM', 'GS', 'SPY', 'GLD', 'UUP', 'IEF']\n",
        "print(\"Downloading all required stock and ETF data...\")\n",
        "df_data = yf.download(\n",
        "    TICKERS,\n",
        "    start='2010-01-01',\n",
        "    end='2019-12-31',\n",
        "    progress=False,\n",
        "    auto_adjust=True\n",
        ")['Close']\n",
        "print(\"Data downloaded successfully.\")\n",
        "\n",
        "# Create momentum features\n",
        "df_assets_1m = df_data.pct_change(21).add_suffix('_1m')\n",
        "df_assets_3m = df_data.pct_change(63).add_suffix('_3m')\n",
        "df_assets_6m = df_data.pct_change(126).add_suffix('_6m')\n",
        "df_assets_12m = df_data.pct_change(252).add_suffix('_12m')\n",
        "df_lagged = pd.concat([df_assets_1m, df_assets_3m, df_assets_6m, df_assets_12m], axis=1)\n",
        "\n",
        "# Create target variable and align data\n",
        "y = df_data['JPM'].pct_change()\n",
        "df_x_final, y_final = df_lagged.align(y, join='inner', axis=0)\n",
        "df_x_final.dropna(inplace=True)\n",
        "y_final = y_final[df_x_final.index]\n",
        "\n",
        "# --- 4. Train and Evaluate the Bagging Model ---\n",
        "bagging = BaggingRegressorModel()\n",
        "bagging.learn(df_x_final, y_final, start_date='2018',\n",
        "              end_date='2019', lookback_period=10)\n",
        "\n",
        "# Make Predictions\n",
        "all_dates = df_x_final.index\n",
        "start_date_ts = pd.to_datetime('2018-01-01')\n",
        "end_date_ts = pd.to_datetime('2019-12-31')\n",
        "dates_to_predict = [d for d in all_dates if d >= start_date_ts and d <= end_date_ts and d in bagging.models]\n",
        "predictions = [bagging.predict(df_x_final, a_date) for a_date in dates_to_predict]\n",
        "\n",
        "# Evaluate\n",
        "df_result_bagging = pd.DataFrame({'Predicted': predictions, 'Actual': y_final[dates_to_predict]})\n",
        "print(\"\\n--- Bagging Regressor Performance ---\")\n",
        "print_regression_metrics(df_result_bagging)"
      ]
    },
    {
      "cell_type": "markdown",
      "metadata": {
        "id": "ocKbc1-1-Y0D"
      },
      "source": [
        "# Predicting trends with classification-based machine learning"
      ]
    },
    {
      "cell_type": "markdown",
      "metadata": {
        "id": "geq-eZ8g-Y0D"
      },
      "source": [
        "## Preparing the target variables"
      ]
    },
    {
      "cell_type": "code",
      "execution_count": null,
      "metadata": {
        "id": "X1qdDzCe-Y0D"
      },
      "outputs": [],
      "source": [
        "import numpy as np\n",
        "y_direction = y >= 0"
      ]
    },
    {
      "cell_type": "code",
      "execution_count": null,
      "metadata": {
        "colab": {
          "base_uri": "https://localhost:8080/",
          "height": 209
        },
        "id": "ZXqWjobB-Y0D",
        "outputId": "91665067-9008-4251-95e3-f9736e1d2f24"
      },
      "outputs": [
        {
          "output_type": "execute_result",
          "data": {
            "text/plain": [
              "Date\n",
              "2010-01-04    False\n",
              "2010-01-05     True\n",
              "2010-01-06     True\n",
              "Name: JPM, dtype: bool"
            ],
            "text/html": [
              "<div>\n",
              "<style scoped>\n",
              "    .dataframe tbody tr th:only-of-type {\n",
              "        vertical-align: middle;\n",
              "    }\n",
              "\n",
              "    .dataframe tbody tr th {\n",
              "        vertical-align: top;\n",
              "    }\n",
              "\n",
              "    .dataframe thead th {\n",
              "        text-align: right;\n",
              "    }\n",
              "</style>\n",
              "<table border=\"1\" class=\"dataframe\">\n",
              "  <thead>\n",
              "    <tr style=\"text-align: right;\">\n",
              "      <th></th>\n",
              "      <th>JPM</th>\n",
              "    </tr>\n",
              "    <tr>\n",
              "      <th>Date</th>\n",
              "      <th></th>\n",
              "    </tr>\n",
              "  </thead>\n",
              "  <tbody>\n",
              "    <tr>\n",
              "      <th>2010-01-04</th>\n",
              "      <td>False</td>\n",
              "    </tr>\n",
              "    <tr>\n",
              "      <th>2010-01-05</th>\n",
              "      <td>True</td>\n",
              "    </tr>\n",
              "    <tr>\n",
              "      <th>2010-01-06</th>\n",
              "      <td>True</td>\n",
              "    </tr>\n",
              "  </tbody>\n",
              "</table>\n",
              "</div><br><label><b>dtype:</b> bool</label>"
            ]
          },
          "metadata": {},
          "execution_count": 11
        }
      ],
      "source": [
        "y_direction.head(3)"
      ]
    },
    {
      "cell_type": "code",
      "execution_count": null,
      "metadata": {
        "id": "rLmtgOYF-Y0D"
      },
      "outputs": [],
      "source": [
        "flags = list(y_direction.unique())\n",
        "flags.sort()"
      ]
    },
    {
      "cell_type": "code",
      "execution_count": null,
      "metadata": {
        "colab": {
          "base_uri": "https://localhost:8080/"
        },
        "id": "CJ_mwZuh-Y0D",
        "outputId": "1e069829-31c2-4517-a35d-669fdc23270b"
      },
      "outputs": [
        {
          "output_type": "stream",
          "name": "stdout",
          "text": [
            "[np.False_, np.True_]\n"
          ]
        }
      ],
      "source": [
        "print(flags)"
      ]
    },
    {
      "cell_type": "markdown",
      "metadata": {
        "id": "CYK2C5K--Y0D"
      },
      "source": [
        "## Preparing the dataset of multiple assets as input variables"
      ]
    },
    {
      "cell_type": "code",
      "execution_count": null,
      "metadata": {
        "id": "xCDkzRhx-Y0H"
      },
      "outputs": [],
      "source": [
        "df_input = df_assets_1m.join(df_assets_3m).dropna()"
      ]
    },
    {
      "cell_type": "code",
      "execution_count": null,
      "metadata": {
        "colab": {
          "base_uri": "https://localhost:8080/"
        },
        "id": "WgBJBPPc-Y0H",
        "outputId": "67022777-41e1-42b6-83f6-97cd221d82ba"
      },
      "outputs": [
        {
          "output_type": "stream",
          "name": "stdout",
          "text": [
            "<class 'pandas.core.frame.DataFrame'>\n",
            "DatetimeIndex: 2452 entries, 2010-04-06 to 2019-12-30\n",
            "Data columns (total 12 columns):\n",
            " #   Column  Non-Null Count  Dtype  \n",
            "---  ------  --------------  -----  \n",
            " 0   GLD_1m  2452 non-null   float64\n",
            " 1   GS_1m   2452 non-null   float64\n",
            " 2   IEF_1m  2452 non-null   float64\n",
            " 3   JPM_1m  2452 non-null   float64\n",
            " 4   SPY_1m  2452 non-null   float64\n",
            " 5   UUP_1m  2452 non-null   float64\n",
            " 6   GLD_3m  2452 non-null   float64\n",
            " 7   GS_3m   2452 non-null   float64\n",
            " 8   IEF_3m  2452 non-null   float64\n",
            " 9   JPM_3m  2452 non-null   float64\n",
            " 10  SPY_3m  2452 non-null   float64\n",
            " 11  UUP_3m  2452 non-null   float64\n",
            "dtypes: float64(12)\n",
            "memory usage: 249.0 KB\n"
          ]
        }
      ],
      "source": [
        "df_input.info()"
      ]
    },
    {
      "cell_type": "markdown",
      "metadata": {
        "id": "QE6soFya-Y0H"
      },
      "source": [
        "## Logistic regression"
      ]
    },
    {
      "cell_type": "code",
      "execution_count": null,
      "metadata": {
        "colab": {
          "base_uri": "https://localhost:8080/"
        },
        "id": "MEuYX7sf-Y0H",
        "outputId": "80e6ebae-7ccb-4ecf-e5c5-a8f81fdc7235"
      },
      "outputs": [
        {
          "output_type": "stream",
          "name": "stdout",
          "text": [
            "Requirement already satisfied: yfinance in /usr/local/lib/python3.11/dist-packages (0.2.65)\n",
            "Requirement already satisfied: pandas>=1.3.0 in /usr/local/lib/python3.11/dist-packages (from yfinance) (2.2.2)\n",
            "Requirement already satisfied: numpy>=1.16.5 in /usr/local/lib/python3.11/dist-packages (from yfinance) (2.0.2)\n",
            "Requirement already satisfied: requests>=2.31 in /usr/local/lib/python3.11/dist-packages (from yfinance) (2.32.3)\n",
            "Requirement already satisfied: multitasking>=0.0.7 in /usr/local/lib/python3.11/dist-packages (from yfinance) (0.0.12)\n",
            "Requirement already satisfied: platformdirs>=2.0.0 in /usr/local/lib/python3.11/dist-packages (from yfinance) (4.3.8)\n",
            "Requirement already satisfied: pytz>=2022.5 in /usr/local/lib/python3.11/dist-packages (from yfinance) (2025.2)\n",
            "Requirement already satisfied: frozendict>=2.3.4 in /usr/local/lib/python3.11/dist-packages (from yfinance) (2.4.6)\n",
            "Requirement already satisfied: peewee>=3.16.2 in /usr/local/lib/python3.11/dist-packages (from yfinance) (3.18.2)\n",
            "Requirement already satisfied: beautifulsoup4>=4.11.1 in /usr/local/lib/python3.11/dist-packages (from yfinance) (4.13.4)\n",
            "Requirement already satisfied: curl_cffi>=0.7 in /usr/local/lib/python3.11/dist-packages (from yfinance) (0.12.0)\n",
            "Requirement already satisfied: protobuf>=3.19.0 in /usr/local/lib/python3.11/dist-packages (from yfinance) (5.29.5)\n",
            "Requirement already satisfied: websockets>=13.0 in /usr/local/lib/python3.11/dist-packages (from yfinance) (15.0.1)\n",
            "Requirement already satisfied: soupsieve>1.2 in /usr/local/lib/python3.11/dist-packages (from beautifulsoup4>=4.11.1->yfinance) (2.7)\n",
            "Requirement already satisfied: typing-extensions>=4.0.0 in /usr/local/lib/python3.11/dist-packages (from beautifulsoup4>=4.11.1->yfinance) (4.14.1)\n",
            "Requirement already satisfied: cffi>=1.12.0 in /usr/local/lib/python3.11/dist-packages (from curl_cffi>=0.7->yfinance) (1.17.1)\n",
            "Requirement already satisfied: certifi>=2024.2.2 in /usr/local/lib/python3.11/dist-packages (from curl_cffi>=0.7->yfinance) (2025.7.14)\n",
            "Requirement already satisfied: python-dateutil>=2.8.2 in /usr/local/lib/python3.11/dist-packages (from pandas>=1.3.0->yfinance) (2.9.0.post0)\n",
            "Requirement already satisfied: tzdata>=2022.7 in /usr/local/lib/python3.11/dist-packages (from pandas>=1.3.0->yfinance) (2025.2)\n",
            "Requirement already satisfied: charset-normalizer<4,>=2 in /usr/local/lib/python3.11/dist-packages (from requests>=2.31->yfinance) (3.4.2)\n",
            "Requirement already satisfied: idna<4,>=2.5 in /usr/local/lib/python3.11/dist-packages (from requests>=2.31->yfinance) (3.10)\n",
            "Requirement already satisfied: urllib3<3,>=1.21.1 in /usr/local/lib/python3.11/dist-packages (from requests>=2.31->yfinance) (2.5.0)\n",
            "Requirement already satisfied: pycparser in /usr/local/lib/python3.11/dist-packages (from cffi>=1.12.0->curl_cffi>=0.7->yfinance) (2.22)\n",
            "Requirement already satisfied: six>=1.5 in /usr/local/lib/python3.11/dist-packages (from python-dateutil>=2.8.2->pandas>=1.3.0->yfinance) (1.17.0)\n",
            "Downloading all required stock data...\n",
            "Data downloaded successfully.\n",
            "Training LinearRegressionModel starting...\n",
            "Training completed.\n",
            "\n",
            "Mean Squared Error: 2.6674\n",
            "Mean Absolute Error: 1.2174\n",
            "R-squared: 0.8241\n"
          ]
        }
      ],
      "source": [
        "# --- 1. Import All Necessary Libraries ---\n",
        "!pip install yfinance\n",
        "import yfinance as yf\n",
        "import pandas as pd\n",
        "from sklearn.linear_model import LinearRegression\n",
        "from sklearn.metrics import mean_squared_error, mean_absolute_error, r2_score\n",
        "\n",
        "# --- 2. Define the Model Class ---\n",
        "# This class is now defined before it is used.\n",
        "class LinearRegressionModel:\n",
        "    def __init__(self):\n",
        "        self.models = {}\n",
        "\n",
        "    def _train(self, x, y):\n",
        "        model = LinearRegression()\n",
        "        model.fit(x, y.to_numpy())\n",
        "        return model\n",
        "\n",
        "    def _predict(self, x, model):\n",
        "        return model.predict(x)[0]\n",
        "\n",
        "    def learn(self, x_prices, y_prices, start_date, end_date, lookback_period=20):\n",
        "        all_dates = x_prices.index\n",
        "        start_date_ts = pd.to_datetime(start_date)\n",
        "        end_date_ts = pd.to_datetime(end_date)\n",
        "        dates = [d for d in all_dates if d >= start_date_ts and d <= end_date_ts]\n",
        "\n",
        "        print(f'Training {self.__class__.__name__} starting...')\n",
        "        for i, a_date in enumerate(dates):\n",
        "            if i < lookback_period:\n",
        "                continue\n",
        "            start_period = all_dates.get_loc(a_date) - lookback_period\n",
        "            end_period = all_dates.get_loc(a_date)\n",
        "            x = x_prices.iloc[start_period:end_period]\n",
        "            y = y_prices.iloc[start_period:end_period]\n",
        "            model = self._train(x, y)\n",
        "            self.models[a_date] = model\n",
        "        print('Training completed.')\n",
        "\n",
        "    def predict(self, x_prices, date):\n",
        "        model = self.models.get(date)\n",
        "        if model is None:\n",
        "            return None\n",
        "        x_prices_today = x_prices.loc[[date]]\n",
        "        return self._predict(x_prices_today, model)\n",
        "\n",
        "# --- 3. Download and Prepare Data ---\n",
        "TICKERS = ['JPM', 'GS']\n",
        "print(\"Downloading all required stock data...\")\n",
        "df_data = yf.download(\n",
        "    TICKERS,\n",
        "    start='2010-01-01',\n",
        "    end='2019-12-31', # Download data for the full period\n",
        "    progress=False,\n",
        "    auto_adjust=True\n",
        ")['Close']\n",
        "print(\"Data downloaded successfully.\")\n",
        "\n",
        "# Create the necessary DataFrames\n",
        "df_gs = df_data[['GS']]\n",
        "df_jpm = df_data[['JPM']]\n",
        "df_x = pd.DataFrame({'GS': df_gs['GS']})\n",
        "jpm_prices = df_jpm['JPM']\n",
        "\n",
        "# --- 4. Train, Predict, and Evaluate the Model ---\n",
        "linear_reg_model = LinearRegressionModel()\n",
        "linear_reg_model.learn(df_x, jpm_prices, start_date='2018',\n",
        "                       end_date='2019', lookback_period=20)\n",
        "\n",
        "# Make Predictions\n",
        "all_dates = df_x.index\n",
        "start_date_ts = pd.to_datetime('2018-01-01')\n",
        "end_date_ts = pd.to_datetime('2019-12-31')\n",
        "dates_to_predict = [d for d in all_dates if d >= start_date_ts and d <= end_date_ts and d in linear_reg_model.models]\n",
        "predictions = [linear_reg_model.predict(df_x, a_date) for a_date in dates_to_predict]\n",
        "\n",
        "# Create results DataFrame and calculate errors\n",
        "df_result = pd.DataFrame({\n",
        "    'Predicted': predictions,\n",
        "    'Actual': jpm_prices[dates_to_predict]\n",
        "})\n",
        "\n",
        "actual = df_result['Actual']\n",
        "predicted = df_result['Predicted']\n",
        "mse = mean_squared_error(actual, predicted)\n",
        "mae = mean_absolute_error(actual, predicted)\n",
        "r2 = r2_score(actual, predicted)\n",
        "\n",
        "print(f'\\nMean Squared Error: {mse:.4f}')\n",
        "print(f'Mean Absolute Error: {mae:.4f}')\n",
        "print(f'R-squared: {r2:.4f}')"
      ]
    },
    {
      "cell_type": "markdown",
      "metadata": {
        "id": "m9DonQ9T-Y0I"
      },
      "source": [
        "### Risk metrics for measuring classification-based predictions"
      ]
    },
    {
      "cell_type": "markdown",
      "metadata": {
        "id": "-JSmeVGd-Y0I"
      },
      "source": [
        "### Confusion matrix"
      ]
    },
    {
      "cell_type": "code",
      "execution_count": null,
      "metadata": {
        "colab": {
          "base_uri": "https://localhost:8080/",
          "height": 754
        },
        "id": "fjJMAI-9-Y0I",
        "outputId": "2249dd07-05df-40aa-a8fd-33b2cd1e52a0"
      },
      "outputs": [
        {
          "output_type": "stream",
          "name": "stdout",
          "text": [
            "Training LogisticRegressionModel starting...\n",
            "Training completed.\n"
          ]
        },
        {
          "output_type": "display_data",
          "data": {
            "text/plain": [
              "<Figure size 1200x800 with 1 Axes>"
            ],
            "image/png": "[encoded data removed]"
          },
          "metadata": {}
        }
      ],
      "source": [
        "# --- 1. Import All Necessary Libraries ---\n",
        "from sklearn.linear_model import LogisticRegression\n",
        "from sklearn.metrics import confusion_matrix\n",
        "import pandas as pd\n",
        "import seaborn as sns\n",
        "import matplotlib.pyplot as plt\n",
        "\n",
        "# --- 2. Define the LogisticRegressionModel Class ---\n",
        "# This class inherits from the LinearRegressionModel we already fixed.\n",
        "class LogisticRegressionModel(LinearRegressionModel):\n",
        "    def _train(self, x, y):\n",
        "        # Use LogisticRegression for this model\n",
        "        model = LogisticRegression(solver='liblinear')\n",
        "        model.fit(x, y.to_numpy())\n",
        "        return model\n",
        "\n",
        "# --- 3. Prepare the Data ---\n",
        "# The target variable for logistic regression is the direction (up/down), not the price.\n",
        "y_direction = (jpm_prices.pct_change() > 0).astype(int)\n",
        "\n",
        "# Align the features (df_x_final) and the new target (y_direction)\n",
        "df_x_aligned, y_direction_aligned = df_x_final.align(y_direction, join='inner', axis=0)\n",
        "\n",
        "\n",
        "# --- 4. Train the Logistic Regression Model ---\n",
        "logistic_reg_model = LogisticRegressionModel()\n",
        "logistic_reg_model.learn(df_x_aligned, y_direction_aligned, start_date='2018',\n",
        "                         end_date='2019', lookback_period=10)\n",
        "\n",
        "# --- 5. Make Predictions ---\n",
        "all_dates = df_x_aligned.index\n",
        "start_date_ts = pd.to_datetime('2018-01-01')\n",
        "end_date_ts = pd.to_datetime('2019-12-31')\n",
        "# Ensure we only predict for dates where a model was trained\n",
        "dates_to_predict = [d for d in all_dates if d >= start_date_ts and d <= end_date_ts and d in logistic_reg_model.models]\n",
        "predictions = [logistic_reg_model.predict(df_x_aligned, a_date) for a_date in dates_to_predict]\n",
        "\n",
        "# --- 6. Create the Confusion Matrix and Plot ---\n",
        "actual = y_direction_aligned[dates_to_predict]\n",
        "predicted = predictions\n",
        "\n",
        "matrix = confusion_matrix(actual, predicted)\n",
        "\n",
        "# Define the labels for the plot\n",
        "flags = ['Down', 'Up']\n",
        "\n",
        "# Create the heatmap plot\n",
        "plt.figure(figsize=(12, 8))\n",
        "sns.heatmap(matrix.T, square=True, annot=True, fmt='d', cbar=False,\n",
        "            xticklabels=flags, yticklabels=flags)\n",
        "plt.xlabel('Actual')\n",
        "plt.ylabel('Predicted')\n",
        "plt.title('JPM Price Direction Prediction - Confusion Matrix')\n",
        "plt.show()"
      ]
    },
    {
      "cell_type": "markdown",
      "metadata": {
        "id": "pb6c5J4R-Y0J"
      },
      "source": [
        "### Accuracy score"
      ]
    },
    {
      "cell_type": "code",
      "execution_count": null,
      "metadata": {
        "colab": {
          "base_uri": "https://localhost:8080/"
        },
        "id": "JVJoi53B-Y0J",
        "outputId": "a404a8f8-4d47-49fc-98d8-db590567acf5"
      },
      "outputs": [
        {
          "output_type": "stream",
          "name": "stdout",
          "text": [
            "accuracy_score: 0.5269709543568465\n"
          ]
        }
      ],
      "source": [
        "from sklearn.metrics import accuracy_score\n",
        "print('accuracy_score:', accuracy_score(actual, predicted))"
      ]
    },
    {
      "cell_type": "markdown",
      "metadata": {
        "id": "6iqidIa0-Y0J"
      },
      "source": [
        "### Precision score"
      ]
    },
    {
      "cell_type": "code",
      "execution_count": null,
      "metadata": {
        "colab": {
          "base_uri": "https://localhost:8080/"
        },
        "id": "Kvjs42aN-Y0J",
        "outputId": "6cb66a8a-31bb-4729-e501-0b8721e664bd"
      },
      "outputs": [
        {
          "output_type": "stream",
          "name": "stdout",
          "text": [
            "precision_score: 0.5\n"
          ]
        }
      ],
      "source": [
        "from sklearn.metrics import precision_score\n",
        "print('precision_score:', precision_score(actual, predicted))"
      ]
    },
    {
      "cell_type": "markdown",
      "metadata": {
        "id": "-V2Jaspw-Y0J"
      },
      "source": [
        "### Recall score"
      ]
    },
    {
      "cell_type": "code",
      "execution_count": null,
      "metadata": {
        "colab": {
          "base_uri": "https://localhost:8080/"
        },
        "id": "xXCUtgeu-Y0J",
        "outputId": "1ce41253-d3bb-4049-94d5-a1c68801d934"
      },
      "outputs": [
        {
          "output_type": "stream",
          "name": "stdout",
          "text": [
            "recall_score: 0.49122807017543857\n"
          ]
        }
      ],
      "source": [
        "from sklearn.metrics import recall_score\n",
        "print('recall_score:', recall_score(actual, predicted))"
      ]
    },
    {
      "cell_type": "markdown",
      "metadata": {
        "id": "16PWW6Ga-Y0J"
      },
      "source": [
        "### F1 Score"
      ]
    },
    {
      "cell_type": "code",
      "execution_count": null,
      "metadata": {
        "colab": {
          "base_uri": "https://localhost:8080/"
        },
        "id": "CQzyI8G3-Y0J",
        "outputId": "fc98c02a-5934-4e5f-a5ac-8ed3f5495634"
      },
      "outputs": [
        {
          "output_type": "stream",
          "name": "stdout",
          "text": [
            "f1_score: 0.49557522123893805\n"
          ]
        }
      ],
      "source": [
        "from sklearn.metrics import f1_score\n",
        "print('f1_score:', f1_score(actual, predicted))"
      ]
    },
    {
      "cell_type": "markdown",
      "metadata": {
        "id": "-2XjBukC-Y0K"
      },
      "source": [
        "## Support Vector Classifier"
      ]
    },
    {
      "cell_type": "code",
      "execution_count": null,
      "metadata": {
        "colab": {
          "base_uri": "https://localhost:8080/"
        },
        "id": "ZxXK2zC2-Y0K",
        "outputId": "489c1ffd-28e0-4f2f-a4df-ebbcc6c3efa9"
      },
      "outputs": [
        {
          "output_type": "stream",
          "name": "stdout",
          "text": [
            "Downloading all required stock and ETF data...\n",
            "Data downloaded successfully.\n",
            "Training SVCModel starting...\n",
            "Training completed.\n",
            "\n",
            "--- SVC Model Performance ---\n",
            "accuracy_score: 0.6026\n",
            "precision_score: 0.5833\n",
            "recall_score: 0.4118\n",
            "f1_score: 0.4828\n"
          ]
        }
      ],
      "source": [
        "# # FIX: This single block replaces the entire \"Support Vector Classifier\" section.\n",
        "# The original code was spread across multiple cells and had several bugs, including\n",
        "# NameErrors from using variables before they were defined and issues with\n",
        "# outdated data sources.\n",
        "#\n",
        "# This new, self-contained block fixes all issues by:\n",
        "# 1. Defining all necessary model classes.\n",
        "# 2. Downloading all required data using the reliable yfinance library.\n",
        "# 3. Correctly preparing the features and the target variable.\n",
        "# 4. Training the SVC model and evaluating its performance in the correct sequence.\n",
        "\n",
        "# --- 1. Import All Necessary Libraries ---\n",
        "import yfinance as yf\n",
        "# ... (rest of your corrected code) ...\n",
        "import pandas as pd\n",
        "from sklearn.linear_model import LogisticRegression\n",
        "from sklearn.svm import SVC\n",
        "from sklearn.metrics import accuracy_score, precision_score, recall_score, f1_score\n",
        "\n",
        "# --- 2. Define the Helper and Model Classes ---\n",
        "# This ensures all classes are defined before they are used.\n",
        "class LinearRegressionModel: # Base class needed for inheritance\n",
        "    def __init__(self):\n",
        "        self.models = {}\n",
        "    def _train(self, x, y):\n",
        "        model = LogisticRegression(solver='liblinear') # Changed to Logistic for classification\n",
        "        model.fit(x, y.to_numpy())\n",
        "        return model\n",
        "    def _predict(self, x, model):\n",
        "        return model.predict(x)[0]\n",
        "    def learn(self, x_prices, y_prices, start_date, end_date, lookback_period=20):\n",
        "        all_dates = x_prices.index\n",
        "        start_date_ts = pd.to_datetime(start_date)\n",
        "        end_date_ts = pd.to_datetime(end_date)\n",
        "        dates = [d for d in all_dates if d >= start_date_ts and d <= end_date_ts]\n",
        "        print(f'Training {self.__class__.__name__} starting...')\n",
        "        for i, a_date in enumerate(dates):\n",
        "            if i < lookback_period: continue\n",
        "            start_period = all_dates.get_loc(a_date) - lookback_period\n",
        "            end_period = all_dates.get_loc(a_date)\n",
        "            x = x_prices.iloc[start_period:end_period]\n",
        "            y = y_prices.iloc[start_period:end_period]\n",
        "            model = self._train(x, y)\n",
        "            self.models[a_date] = model\n",
        "        print('Training completed.')\n",
        "    def predict(self, x_prices, date):\n",
        "        model = self.models.get(date)\n",
        "        if model is None: return None\n",
        "        x_prices_today = x_prices.loc[[date]]\n",
        "        return self._predict(x_prices_today, model)\n",
        "\n",
        "class SVCModel(LinearRegressionModel):\n",
        "    def _train(self, x, y):\n",
        "        model = SVC(C=1000, gamma='auto')\n",
        "        model.fit(x, y.to_numpy())\n",
        "        return model\n",
        "\n",
        "# --- 3. Download and Prepare All Data ---\n",
        "TICKERS = ['JPM', 'GS', 'SPY', 'GLD', 'UUP', 'IEF']\n",
        "print(\"Downloading all required stock and ETF data...\")\n",
        "df_data = yf.download(\n",
        "    TICKERS,\n",
        "    start='2010-01-01',\n",
        "    end='2019-12-31',\n",
        "    progress=False,\n",
        "    auto_adjust=True\n",
        ")['Close']\n",
        "print(\"Data downloaded successfully.\")\n",
        "\n",
        "# Create momentum features\n",
        "df_assets_1m = df_data.pct_change(21).add_suffix('_1m')\n",
        "df_assets_3m = df_data.pct_change(63).add_suffix('_3m')\n",
        "df_assets_6m = df_data.pct_change(126).add_suffix('_6m')\n",
        "df_assets_12m = df_data.pct_change(252).add_suffix('_12m')\n",
        "df_input = pd.concat([df_assets_1m, df_assets_3m, df_assets_6m, df_assets_12m], axis=1)\n",
        "\n",
        "# Create binary target variable and align data\n",
        "y_direction = (df_data['JPM'].pct_change() > 0).astype(int)\n",
        "df_x_final, y_final = df_input.align(y_direction, join='inner', axis=0)\n",
        "\n",
        "# --- 4. Train and Evaluate the SVC Model ---\n",
        "svc_model = SVCModel()\n",
        "svc_model.learn(df_x_final, y_final, start_date='2018',\n",
        "              end_date='2019', lookback_period=100)\n",
        "\n",
        "# Make Predictions\n",
        "all_dates = df_x_final.index\n",
        "start_date_ts = pd.to_datetime('2018-01-01')\n",
        "end_date_ts = pd.to_datetime('2019-12-31')\n",
        "dates_to_predict = [d for d in all_dates if d >= start_date_ts and d <= end_date_ts and d in svc_model.models]\n",
        "predictions = [svc_model.predict(df_x_final, a_date) for a_date in dates_to_predict]\n",
        "\n",
        "# Evaluate\n",
        "df_result_svc = pd.DataFrame({'Predicted': predictions, 'Actual': y_final[dates_to_predict]})\n",
        "actual = df_result_svc['Actual']\n",
        "predicted = df_result_svc['Predicted']\n",
        "\n",
        "print(\"\\n--- SVC Model Performance ---\")\n",
        "print(f\"accuracy_score: {accuracy_score(actual, predicted):.4f}\")\n",
        "print(f\"precision_score: {precision_score(actual, predicted):.4f}\")\n",
        "print(f\"recall_score: {recall_score(actual, predicted):.4f}\")\n",
        "print(f\"f1_score: {f1_score(actual, predicted):.4f}\")"
      ]
    }
  ],
  "metadata": {
    "kernelspec": {
      "display_name": "Python 3 (ipykernel)",
      "language": "python",
      "name": "python3"
    },
    "language_info": {
      "codemirror_mode": {
        "name": "ipython",
        "version": 3
      },
      "file_extension": ".py",
      "mimetype": "text/x-python",
      "name": "python",
      "nbconvert_exporter": "python",
      "pygments_lexer": "ipython3",
      "version": "3.12.3"
    },
    "colab": {
      "provenance": []
    }
  },
  "nbformat": 4,
  "nbformat_minor": 0
}