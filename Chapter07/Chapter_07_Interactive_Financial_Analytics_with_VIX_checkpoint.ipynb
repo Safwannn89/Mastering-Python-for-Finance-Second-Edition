{
  "cells": [
    {
      "cell_type": "markdown",
      "metadata": {
        "id": "ad_si4-yvVTG"
      },
      "source": [
        "# Financial analytics of S&P 500 and the VIX"
      ]
    },
    {
      "cell_type": "markdown",
      "metadata": {
        "id": "rj-Ivi-7vVTH"
      },
      "source": [
        "## Gathering the data"
      ]
    },
    {
      "cell_type": "code",
      "execution_count": null,
      "metadata": {
        "colab": {
          "base_uri": "https://localhost:8080/"
        },
        "id": "wcwtuRjivVTI",
        "outputId": "4a72412a-a2a1-4176-ba53-9fe818b617fb"
      },
      "outputs": [
        {
          "output_type": "stream",
          "name": "stdout",
          "text": [
            "/bin/bash: line 1: conda: command not found\n"
          ]
        }
      ],
      "source": [
        "# FIX: Use conda to force a clean reinstall of numpy and pandas\n",
        "!conda install --yes -c conda-forge numpy pandas"
      ]
    },
    {
      "cell_type": "code",
      "source": [
        "# FIX: Install the backtrader library\n",
        "!pip install backtrader\n",
        "\n",
        "# Now your original imports will work\n",
        "from datetime import datetime\n",
        "import backtrader as bt"
      ],
      "metadata": {
        "colab": {
          "base_uri": "https://localhost:8080/"
        },
        "id": "2lq0_cPOGq_B",
        "outputId": "fd5e06a3-5419-409f-bd6c-5744cd041424"
      },
      "execution_count": null,
      "outputs": [
        {
          "output_type": "stream",
          "name": "stdout",
          "text": [
            "Collecting backtrader\n",
            "  Downloading backtrader-1.9.78.123-py2.py3-none-any.whl.metadata (6.8 kB)\n",
            "Downloading backtrader-1.9.78.123-py2.py3-none-any.whl (419 kB)\n",
            "\u001b[?25l   \u001b[90m━━━━━━━━━━━━━━━━━━━━━━━━━━━━━━━━━━━━━━━━\u001b[0m \u001b[32m0.0/419.5 kB\u001b[0m \u001b[31m?\u001b[0m eta \u001b[36m-:--:--\u001b[0m\r\u001b[2K   \u001b[90m━━━━━━━━━━━━━━━━━━━━━━━━━━━━━━━━━━━━━━━━\u001b[0m \u001b[32m419.5/419.5 kB\u001b[0m \u001b[31m16.1 MB/s\u001b[0m eta \u001b[36m0:00:00\u001b[0m\n",
            "\u001b[?25hInstalling collected packages: backtrader\n",
            "Successfully installed backtrader-1.9.78.123\n"
          ]
        }
      ]
    },
    {
      "cell_type": "code",
      "execution_count": null,
      "metadata": {
        "colab": {
          "base_uri": "https://localhost:8080/"
        },
        "id": "LI6AKfz0vVTJ",
        "outputId": "4794d608-e28d-43b3-a96d-ee8a18c8e81b"
      },
      "outputs": [
        {
          "output_type": "stream",
          "name": "stdout",
          "text": [
            "Requirement already satisfied: yfinance in /usr/local/lib/python3.11/dist-packages (0.2.65)\n",
            "Requirement already satisfied: pandas>=1.3.0 in /usr/local/lib/python3.11/dist-packages (from yfinance) (2.2.2)\n",
            "Requirement already satisfied: numpy>=1.16.5 in /usr/local/lib/python3.11/dist-packages (from yfinance) (2.0.2)\n",
            "Requirement already satisfied: requests>=2.31 in /usr/local/lib/python3.11/dist-packages (from yfinance) (2.32.3)\n",
            "Requirement already satisfied: multitasking>=0.0.7 in /usr/local/lib/python3.11/dist-packages (from yfinance) (0.0.12)\n",
            "Requirement already satisfied: platformdirs>=2.0.0 in /usr/local/lib/python3.11/dist-packages (from yfinance) (4.3.8)\n",
            "Requirement already satisfied: pytz>=2022.5 in /usr/local/lib/python3.11/dist-packages (from yfinance) (2025.2)\n",
            "Requirement already satisfied: frozendict>=2.3.4 in /usr/local/lib/python3.11/dist-packages (from yfinance) (2.4.6)\n",
            "Requirement already satisfied: peewee>=3.16.2 in /usr/local/lib/python3.11/dist-packages (from yfinance) (3.18.2)\n",
            "Requirement already satisfied: beautifulsoup4>=4.11.1 in /usr/local/lib/python3.11/dist-packages (from yfinance) (4.13.4)\n",
            "Requirement already satisfied: curl_cffi>=0.7 in /usr/local/lib/python3.11/dist-packages (from yfinance) (0.12.0)\n",
            "Requirement already satisfied: protobuf>=3.19.0 in /usr/local/lib/python3.11/dist-packages (from yfinance) (5.29.5)\n",
            "Requirement already satisfied: websockets>=13.0 in /usr/local/lib/python3.11/dist-packages (from yfinance) (15.0.1)\n",
            "Requirement already satisfied: soupsieve>1.2 in /usr/local/lib/python3.11/dist-packages (from beautifulsoup4>=4.11.1->yfinance) (2.7)\n",
            "Requirement already satisfied: typing-extensions>=4.0.0 in /usr/local/lib/python3.11/dist-packages (from beautifulsoup4>=4.11.1->yfinance) (4.14.1)\n",
            "Requirement already satisfied: cffi>=1.12.0 in /usr/local/lib/python3.11/dist-packages (from curl_cffi>=0.7->yfinance) (1.17.1)\n",
            "Requirement already satisfied: certifi>=2024.2.2 in /usr/local/lib/python3.11/dist-packages (from curl_cffi>=0.7->yfinance) (2025.7.14)\n",
            "Requirement already satisfied: python-dateutil>=2.8.2 in /usr/local/lib/python3.11/dist-packages (from pandas>=1.3.0->yfinance) (2.9.0.post0)\n",
            "Requirement already satisfied: tzdata>=2022.7 in /usr/local/lib/python3.11/dist-packages (from pandas>=1.3.0->yfinance) (2025.2)\n",
            "Requirement already satisfied: charset-normalizer<4,>=2 in /usr/local/lib/python3.11/dist-packages (from requests>=2.31->yfinance) (3.4.2)\n",
            "Requirement already satisfied: idna<4,>=2.5 in /usr/local/lib/python3.11/dist-packages (from requests>=2.31->yfinance) (3.10)\n",
            "Requirement already satisfied: urllib3<3,>=1.21.1 in /usr/local/lib/python3.11/dist-packages (from requests>=2.31->yfinance) (2.5.0)\n",
            "Requirement already satisfied: pycparser in /usr/local/lib/python3.11/dist-packages (from cffi>=1.12.0->curl_cffi>=0.7->yfinance) (2.22)\n",
            "Requirement already satisfied: six>=1.5 in /usr/local/lib/python3.11/dist-packages (from python-dateutil>=2.8.2->pandas>=1.3.0->yfinance) (1.17.0)\n"
          ]
        }
      ],
      "source": [
        "# Install yfinance if not already installed\n",
        "!pip install yfinance --upgrade\n",
        "\n",
        "import yfinance as yf\n",
        "import pandas as pd\n",
        "\n",
        "# Download S&P 500 (^GSPC) and VIX (^VIX) data\n",
        "tickers = ['^GSPC', '^VIX']\n",
        "df_data = yf.download(\n",
        "    tickers,\n",
        "    start='2000-01-01',  # Adjust start date to match notebook's data range\n",
        "    end='2018-12-31',    # Adjust end date to match notebook's data range\n",
        "    auto_adjust=True,\n",
        "    progress=False\n",
        ")['Close']\n",
        "\n",
        "# Create separate DataFrames for SPX and VIX\n",
        "df_spx_data = df_data['^GSPC'].to_frame(name='5. adjusted close')\n",
        "df_vix_data = df_data['^VIX'].to_frame(name='5. adjusted close')\n",
        "\n",
        "# Ensure the index is datetime\n",
        "df_spx_data.index = pd.to_datetime(df_spx_data.index)\n",
        "df_vix_data.index = pd.to_datetime(df_vix_data.index)"
      ]
    },
    {
      "cell_type": "code",
      "execution_count": null,
      "metadata": {
        "colab": {
          "base_uri": "https://localhost:8080/"
        },
        "id": "zoqJXXXuvVTJ",
        "outputId": "a08af53c-dc22-4832-ba71-7f5a53494988"
      },
      "outputs": [
        {
          "output_type": "stream",
          "name": "stdout",
          "text": [
            "<class 'pandas.core.frame.DataFrame'>\n",
            "DatetimeIndex: 4778 entries, 2000-01-03 to 2018-12-28\n",
            "Data columns (total 1 columns):\n",
            " #   Column             Non-Null Count  Dtype  \n",
            "---  ------             --------------  -----  \n",
            " 0   5. adjusted close  4778 non-null   float64\n",
            "dtypes: float64(1)\n",
            "memory usage: 74.7 KB\n"
          ]
        }
      ],
      "source": [
        "df_spx_data.info()"
      ]
    },
    {
      "cell_type": "code",
      "execution_count": null,
      "metadata": {
        "colab": {
          "base_uri": "https://localhost:8080/"
        },
        "id": "UC0lLjzevVTK",
        "outputId": "9d6abe6b-5b46-43f7-a1ad-edb74a5fcefa"
      },
      "outputs": [
        {
          "output_type": "stream",
          "name": "stdout",
          "text": [
            "<class 'pandas.core.frame.DataFrame'>\n",
            "DatetimeIndex: 4778 entries, 2000-01-03 to 2018-12-28\n",
            "Data columns (total 1 columns):\n",
            " #   Column             Non-Null Count  Dtype  \n",
            "---  ------             --------------  -----  \n",
            " 0   5. adjusted close  4778 non-null   float64\n",
            "dtypes: float64(1)\n",
            "memory usage: 74.7 KB\n"
          ]
        }
      ],
      "source": [
        "df_vix_data.info()"
      ]
    },
    {
      "cell_type": "code",
      "execution_count": null,
      "metadata": {
        "id": "ajkTyxE8vVTK"
      },
      "outputs": [],
      "source": [
        "import pandas as pd\n",
        "\n",
        "df = pd.DataFrame(columns=['SPX', 'VIX'])\n",
        "df['SPX'] = df_spx_data['5. adjusted close']\n",
        "df['VIX'] = df_vix_data['5. adjusted close']\n",
        "\n",
        "df.index = pd.to_datetime(df.index)"
      ]
    },
    {
      "cell_type": "code",
      "execution_count": null,
      "metadata": {
        "colab": {
          "base_uri": "https://localhost:8080/",
          "height": 175
        },
        "id": "M2FLmWD4vVTK",
        "outputId": "8fb83922-2009-456f-cccf-e7b5b490f069"
      },
      "outputs": [
        {
          "output_type": "execute_result",
          "data": {
            "text/plain": [
              "                    SPX        VIX\n",
              "Date                              \n",
              "2000-01-03  1455.219971  24.209999\n",
              "2000-01-04  1399.420044  27.010000\n",
              "2000-01-05  1402.109985  26.410000"
            ],
            "text/html": [
              "\n",
              "  <div id=\"df-5ffec1e1-8c4e-4804-9bb0-52b791d13710\" class=\"colab-df-container\">\n",
              "    <div>\n",
              "<style scoped>\n",
              "    .dataframe tbody tr th:only-of-type {\n",
              "        vertical-align: middle;\n",
              "    }\n",
              "\n",
              "    .dataframe tbody tr th {\n",
              "        vertical-align: top;\n",
              "    }\n",
              "\n",
              "    .dataframe thead th {\n",
              "        text-align: right;\n",
              "    }\n",
              "</style>\n",
              "<table border=\"1\" class=\"dataframe\">\n",
              "  <thead>\n",
              "    <tr style=\"text-align: right;\">\n",
              "      <th></th>\n",
              "      <th>SPX</th>\n",
              "      <th>VIX</th>\n",
              "    </tr>\n",
              "    <tr>\n",
              "      <th>Date</th>\n",
              "      <th></th>\n",
              "      <th></th>\n",
              "    </tr>\n",
              "  </thead>\n",
              "  <tbody>\n",
              "    <tr>\n",
              "      <th>2000-01-03</th>\n",
              "      <td>1455.219971</td>\n",
              "      <td>24.209999</td>\n",
              "    </tr>\n",
              "    <tr>\n",
              "      <th>2000-01-04</th>\n",
              "      <td>1399.420044</td>\n",
              "      <td>27.010000</td>\n",
              "    </tr>\n",
              "    <tr>\n",
              "      <th>2000-01-05</th>\n",
              "      <td>1402.109985</td>\n",
              "      <td>26.410000</td>\n",
              "    </tr>\n",
              "  </tbody>\n",
              "</table>\n",
              "</div>\n",
              "    <div class=\"colab-df-buttons\">\n",
              "\n",
              "  <div class=\"colab-df-container\">\n",
              "    <button class=\"colab-df-convert\" onclick=\"convertToInteractive('df-5ffec1e1-8c4e-4804-9bb0-52b791d13710')\"\n",
              "            title=\"Convert this dataframe to an interactive table.\"\n",
              "            style=\"display:none;\">\n",
              "\n",
              "  <svg xmlns=\"http://www.w3.org/2000/svg\" height=\"24px\" viewBox=\"0 -960 960 960\">\n",
              "    <path d=\"M120-120v-720h720v720H120Zm60-500h600v-160H180v160Zm220 220h160v-160H400v160Zm0 220h160v-160H400v160ZM180-400h160v-160H180v160Zm440 0h160v-160H620v160ZM180-180h160v-160H180v160Zm440 0h160v-160H620v160Z\"/>\n",
              "  </svg>\n",
              "    </button>\n",
              "\n",
              "  <style>\n",
              "    .colab-df-container {\n",
              "      display:flex;\n",
              "      gap: 12px;\n",
              "    }\n",
              "\n",
              "    .colab-df-convert {\n",
              "      background-color: #E8F0FE;\n",
              "      border: none;\n",
              "      border-radius: 50%;\n",
              "      cursor: pointer;\n",
              "      display: none;\n",
              "      fill: #1967D2;\n",
              "      height: 32px;\n",
              "      padding: 0 0 0 0;\n",
              "      width: 32px;\n",
              "    }\n",
              "\n",
              "    .colab-df-convert:hover {\n",
              "      background-color: #E2EBFA;\n",
              "      box-shadow: 0px 1px 2px rgba(60, 64, 67, 0.3), 0px 1px 3px 1px rgba(60, 64, 67, 0.15);\n",
              "      fill: #174EA6;\n",
              "    }\n",
              "\n",
              "    .colab-df-buttons div {\n",
              "      margin-bottom: 4px;\n",
              "    }\n",
              "\n",
              "    [theme=dark] .colab-df-convert {\n",
              "      background-color: #3B4455;\n",
              "      fill: #D2E3FC;\n",
              "    }\n",
              "\n",
              "    [theme=dark] .colab-df-convert:hover {\n",
              "      background-color: #434B5C;\n",
              "      box-shadow: 0px 1px 3px 1px rgba(0, 0, 0, 0.15);\n",
              "      filter: drop-shadow(0px 1px 2px rgba(0, 0, 0, 0.3));\n",
              "      fill: #FFFFFF;\n",
              "    }\n",
              "  </style>\n",
              "\n",
              "    <script>\n",
              "      const buttonEl =\n",
              "        document.querySelector('#df-5ffec1e1-8c4e-4804-9bb0-52b791d13710 button.colab-df-convert');\n",
              "      buttonEl.style.display =\n",
              "        google.colab.kernel.accessAllowed ? 'block' : 'none';\n",
              "\n",
              "      async function convertToInteractive(key) {\n",
              "        const element = document.querySelector('#df-5ffec1e1-8c4e-4804-9bb0-52b791d13710');\n",
              "        const dataTable =\n",
              "          await google.colab.kernel.invokeFunction('convertToInteractive',\n",
              "                                                    [key], {});\n",
              "        if (!dataTable) return;\n",
              "\n",
              "        const docLinkHtml = 'Like what you see? Visit the ' +\n",
              "          '<a target=\"_blank\" href=https://colab.research.google.com/notebooks/data_table.ipynb>data table notebook</a>'\n",
              "          + ' to learn more about interactive tables.';\n",
              "        element.innerHTML = '';\n",
              "        dataTable['output_type'] = 'display_data';\n",
              "        await google.colab.output.renderOutput(dataTable, element);\n",
              "        const docLink = document.createElement('div');\n",
              "        docLink.innerHTML = docLinkHtml;\n",
              "        element.appendChild(docLink);\n",
              "      }\n",
              "    </script>\n",
              "  </div>\n",
              "\n",
              "\n",
              "    <div id=\"df-4d74bc98-ba99-4a1b-bf21-b4b28eec6931\">\n",
              "      <button class=\"colab-df-quickchart\" onclick=\"quickchart('df-4d74bc98-ba99-4a1b-bf21-b4b28eec6931')\"\n",
              "                title=\"Suggest charts\"\n",
              "                style=\"display:none;\">\n",
              "\n",
              "<svg xmlns=\"http://www.w3.org/2000/svg\" height=\"24px\"viewBox=\"0 0 24 24\"\n",
              "     width=\"24px\">\n",
              "    <g>\n",
              "        <path d=\"M19 3H5c-1.1 0-2 .9-2 2v14c0 1.1.9 2 2 2h14c1.1 0 2-.9 2-2V5c0-1.1-.9-2-2-2zM9 17H7v-7h2v7zm4 0h-2V7h2v10zm4 0h-2v-4h2v4z\"/>\n",
              "    </g>\n",
              "</svg>\n",
              "      </button>\n",
              "\n",
              "<style>\n",
              "  .colab-df-quickchart {\n",
              "      --bg-color: #E8F0FE;\n",
              "      --fill-color: #1967D2;\n",
              "      --hover-bg-color: #E2EBFA;\n",
              "      --hover-fill-color: #174EA6;\n",
              "      --disabled-fill-color: #AAA;\n",
              "      --disabled-bg-color: #DDD;\n",
              "  }\n",
              "\n",
              "  [theme=dark] .colab-df-quickchart {\n",
              "      --bg-color: #3B4455;\n",
              "      --fill-color: #D2E3FC;\n",
              "      --hover-bg-color: #434B5C;\n",
              "      --hover-fill-color: #FFFFFF;\n",
              "      --disabled-bg-color: #3B4455;\n",
              "      --disabled-fill-color: #666;\n",
              "  }\n",
              "\n",
              "  .colab-df-quickchart {\n",
              "    background-color: var(--bg-color);\n",
              "    border: none;\n",
              "    border-radius: 50%;\n",
              "    cursor: pointer;\n",
              "    display: none;\n",
              "    fill: var(--fill-color);\n",
              "    height: 32px;\n",
              "    padding: 0;\n",
              "    width: 32px;\n",
              "  }\n",
              "\n",
              "  .colab-df-quickchart:hover {\n",
              "    background-color: var(--hover-bg-color);\n",
              "    box-shadow: 0 1px 2px rgba(60, 64, 67, 0.3), 0 1px 3px 1px rgba(60, 64, 67, 0.15);\n",
              "    fill: var(--button-hover-fill-color);\n",
              "  }\n",
              "\n",
              "  .colab-df-quickchart-complete:disabled,\n",
              "  .colab-df-quickchart-complete:disabled:hover {\n",
              "    background-color: var(--disabled-bg-color);\n",
              "    fill: var(--disabled-fill-color);\n",
              "    box-shadow: none;\n",
              "  }\n",
              "\n",
              "  .colab-df-spinner {\n",
              "    border: 2px solid var(--fill-color);\n",
              "    border-color: transparent;\n",
              "    border-bottom-color: var(--fill-color);\n",
              "    animation:\n",
              "      spin 1s steps(1) infinite;\n",
              "  }\n",
              "\n",
              "  @keyframes spin {\n",
              "    0% {\n",
              "      border-color: transparent;\n",
              "      border-bottom-color: var(--fill-color);\n",
              "      border-left-color: var(--fill-color);\n",
              "    }\n",
              "    20% {\n",
              "      border-color: transparent;\n",
              "      border-left-color: var(--fill-color);\n",
              "      border-top-color: var(--fill-color);\n",
              "    }\n",
              "    30% {\n",
              "      border-color: transparent;\n",
              "      border-left-color: var(--fill-color);\n",
              "      border-top-color: var(--fill-color);\n",
              "      border-right-color: var(--fill-color);\n",
              "    }\n",
              "    40% {\n",
              "      border-color: transparent;\n",
              "      border-right-color: var(--fill-color);\n",
              "      border-top-color: var(--fill-color);\n",
              "    }\n",
              "    60% {\n",
              "      border-color: transparent;\n",
              "      border-right-color: var(--fill-color);\n",
              "    }\n",
              "    80% {\n",
              "      border-color: transparent;\n",
              "      border-right-color: var(--fill-color);\n",
              "      border-bottom-color: var(--fill-color);\n",
              "    }\n",
              "    90% {\n",
              "      border-color: transparent;\n",
              "      border-bottom-color: var(--fill-color);\n",
              "    }\n",
              "  }\n",
              "</style>\n",
              "\n",
              "      <script>\n",
              "        async function quickchart(key) {\n",
              "          const quickchartButtonEl =\n",
              "            document.querySelector('#' + key + ' button');\n",
              "          quickchartButtonEl.disabled = true;  // To prevent multiple clicks.\n",
              "          quickchartButtonEl.classList.add('colab-df-spinner');\n",
              "          try {\n",
              "            const charts = await google.colab.kernel.invokeFunction(\n",
              "                'suggestCharts', [key], {});\n",
              "          } catch (error) {\n",
              "            console.error('Error during call to suggestCharts:', error);\n",
              "          }\n",
              "          quickchartButtonEl.classList.remove('colab-df-spinner');\n",
              "          quickchartButtonEl.classList.add('colab-df-quickchart-complete');\n",
              "        }\n",
              "        (() => {\n",
              "          let quickchartButtonEl =\n",
              "            document.querySelector('#df-4d74bc98-ba99-4a1b-bf21-b4b28eec6931 button');\n",
              "          quickchartButtonEl.style.display =\n",
              "            google.colab.kernel.accessAllowed ? 'block' : 'none';\n",
              "        })();\n",
              "      </script>\n",
              "    </div>\n",
              "\n",
              "    </div>\n",
              "  </div>\n"
            ],
            "application/vnd.google.colaboratory.intrinsic+json": {
              "type": "dataframe",
              "variable_name": "df",
              "summary": "{\n  \"name\": \"df\",\n  \"rows\": 4778,\n  \"fields\": [\n    {\n      \"column\": \"Date\",\n      \"properties\": {\n        \"dtype\": \"date\",\n        \"min\": \"2000-01-03 00:00:00\",\n        \"max\": \"2018-12-28 00:00:00\",\n        \"num_unique_values\": 4778,\n        \"samples\": [\n          \"2000-02-18 00:00:00\",\n          \"2002-03-22 00:00:00\",\n          \"2013-07-30 00:00:00\"\n        ],\n        \"semantic_type\": \"\",\n        \"description\": \"\"\n      }\n    },\n    {\n      \"column\": \"SPX\",\n      \"properties\": {\n        \"dtype\": \"number\",\n        \"std\": 510.5216087209333,\n        \"min\": 676.530029296875,\n        \"max\": 2930.75,\n        \"num_unique_values\": 4673,\n        \"samples\": [\n          1867.6099853515625,\n          1078.469970703125,\n          2063.5\n        ],\n        \"semantic_type\": \"\",\n        \"description\": \"\"\n      }\n    },\n    {\n      \"column\": \"VIX\",\n      \"properties\": {\n        \"dtype\": \"number\",\n        \"std\": 8.617418119508217,\n        \"min\": 9.140000343322754,\n        \"max\": 80.86000061035156,\n        \"num_unique_values\": 2117,\n        \"samples\": [\n          25.770000457763672,\n          11.239999771118164,\n          26.760000228881836\n        ],\n        \"semantic_type\": \"\",\n        \"description\": \"\"\n      }\n    }\n  ]\n}"
            }
          },
          "metadata": {},
          "execution_count": 7
        }
      ],
      "source": [
        "df.head(3)"
      ]
    },
    {
      "cell_type": "code",
      "execution_count": null,
      "metadata": {
        "colab": {
          "base_uri": "https://localhost:8080/"
        },
        "id": "2EzL10kEvVTK",
        "outputId": "7ef6b291-3264-48ed-eddc-c5f088f962c5"
      },
      "outputs": [
        {
          "output_type": "execute_result",
          "data": {
            "text/plain": [
              "DatetimeIndex(['2000-01-03', '2000-01-04', '2000-01-05', '2000-01-06',\n",
              "               '2000-01-07', '2000-01-10', '2000-01-11', '2000-01-12',\n",
              "               '2000-01-13', '2000-01-14',\n",
              "               ...\n",
              "               '2018-12-14', '2018-12-17', '2018-12-18', '2018-12-19',\n",
              "               '2018-12-20', '2018-12-21', '2018-12-24', '2018-12-26',\n",
              "               '2018-12-27', '2018-12-28'],\n",
              "              dtype='datetime64[ns]', name='Date', length=4778, freq=None)"
            ]
          },
          "metadata": {},
          "execution_count": 8
        }
      ],
      "source": [
        "df.index"
      ]
    },
    {
      "cell_type": "markdown",
      "metadata": {
        "id": "VpAeKlzKvVTK"
      },
      "source": [
        "## Performing analytics"
      ]
    },
    {
      "cell_type": "code",
      "execution_count": null,
      "metadata": {
        "colab": {
          "base_uri": "https://localhost:8080/",
          "height": 300
        },
        "id": "xwz85WN2vVTL",
        "outputId": "51c67af7-2db5-48a5-93be-74031e8de59e"
      },
      "outputs": [
        {
          "output_type": "execute_result",
          "data": {
            "text/plain": [
              "               SPX          VIX\n",
              "count  4778.000000  4778.000000\n",
              "mean   1504.227518    19.702943\n",
              "std     510.521609     8.617418\n",
              "min     676.530029     9.140000\n",
              "25%    1142.195038    13.510000\n",
              "50%    1336.614990    17.580000\n",
              "75%    1862.692505    23.337500\n",
              "max    2930.750000    80.860001"
            ],
            "text/html": [
              "\n",
              "  <div id=\"df-db2e842b-f1a4-4749-8dc7-e2a4e2d72c8e\" class=\"colab-df-container\">\n",
              "    <div>\n",
              "<style scoped>\n",
              "    .dataframe tbody tr th:only-of-type {\n",
              "        vertical-align: middle;\n",
              "    }\n",
              "\n",
              "    .dataframe tbody tr th {\n",
              "        vertical-align: top;\n",
              "    }\n",
              "\n",
              "    .dataframe thead th {\n",
              "        text-align: right;\n",
              "    }\n",
              "</style>\n",
              "<table border=\"1\" class=\"dataframe\">\n",
              "  <thead>\n",
              "    <tr style=\"text-align: right;\">\n",
              "      <th></th>\n",
              "      <th>SPX</th>\n",
              "      <th>VIX</th>\n",
              "    </tr>\n",
              "  </thead>\n",
              "  <tbody>\n",
              "    <tr>\n",
              "      <th>count</th>\n",
              "      <td>4778.000000</td>\n",
              "      <td>4778.000000</td>\n",
              "    </tr>\n",
              "    <tr>\n",
              "      <th>mean</th>\n",
              "      <td>1504.227518</td>\n",
              "      <td>19.702943</td>\n",
              "    </tr>\n",
              "    <tr>\n",
              "      <th>std</th>\n",
              "      <td>510.521609</td>\n",
              "      <td>8.617418</td>\n",
              "    </tr>\n",
              "    <tr>\n",
              "      <th>min</th>\n",
              "      <td>676.530029</td>\n",
              "      <td>9.140000</td>\n",
              "    </tr>\n",
              "    <tr>\n",
              "      <th>25%</th>\n",
              "      <td>1142.195038</td>\n",
              "      <td>13.510000</td>\n",
              "    </tr>\n",
              "    <tr>\n",
              "      <th>50%</th>\n",
              "      <td>1336.614990</td>\n",
              "      <td>17.580000</td>\n",
              "    </tr>\n",
              "    <tr>\n",
              "      <th>75%</th>\n",
              "      <td>1862.692505</td>\n",
              "      <td>23.337500</td>\n",
              "    </tr>\n",
              "    <tr>\n",
              "      <th>max</th>\n",
              "      <td>2930.750000</td>\n",
              "      <td>80.860001</td>\n",
              "    </tr>\n",
              "  </tbody>\n",
              "</table>\n",
              "</div>\n",
              "    <div class=\"colab-df-buttons\">\n",
              "\n",
              "  <div class=\"colab-df-container\">\n",
              "    <button class=\"colab-df-convert\" onclick=\"convertToInteractive('df-db2e842b-f1a4-4749-8dc7-e2a4e2d72c8e')\"\n",
              "            title=\"Convert this dataframe to an interactive table.\"\n",
              "            style=\"display:none;\">\n",
              "\n",
              "  <svg xmlns=\"http://www.w3.org/2000/svg\" height=\"24px\" viewBox=\"0 -960 960 960\">\n",
              "    <path d=\"M120-120v-720h720v720H120Zm60-500h600v-160H180v160Zm220 220h160v-160H400v160Zm0 220h160v-160H400v160ZM180-400h160v-160H180v160Zm440 0h160v-160H620v160ZM180-180h160v-160H180v160Zm440 0h160v-160H620v160Z\"/>\n",
              "  </svg>\n",
              "    </button>\n",
              "\n",
              "  <style>\n",
              "    .colab-df-container {\n",
              "      display:flex;\n",
              "      gap: 12px;\n",
              "    }\n",
              "\n",
              "    .colab-df-convert {\n",
              "      background-color: #E8F0FE;\n",
              "      border: none;\n",
              "      border-radius: 50%;\n",
              "      cursor: pointer;\n",
              "      display: none;\n",
              "      fill: #1967D2;\n",
              "      height: 32px;\n",
              "      padding: 0 0 0 0;\n",
              "      width: 32px;\n",
              "    }\n",
              "\n",
              "    .colab-df-convert:hover {\n",
              "      background-color: #E2EBFA;\n",
              "      box-shadow: 0px 1px 2px rgba(60, 64, 67, 0.3), 0px 1px 3px 1px rgba(60, 64, 67, 0.15);\n",
              "      fill: #174EA6;\n",
              "    }\n",
              "\n",
              "    .colab-df-buttons div {\n",
              "      margin-bottom: 4px;\n",
              "    }\n",
              "\n",
              "    [theme=dark] .colab-df-convert {\n",
              "      background-color: #3B4455;\n",
              "      fill: #D2E3FC;\n",
              "    }\n",
              "\n",
              "    [theme=dark] .colab-df-convert:hover {\n",
              "      background-color: #434B5C;\n",
              "      box-shadow: 0px 1px 3px 1px rgba(0, 0, 0, 0.15);\n",
              "      filter: drop-shadow(0px 1px 2px rgba(0, 0, 0, 0.3));\n",
              "      fill: #FFFFFF;\n",
              "    }\n",
              "  </style>\n",
              "\n",
              "    <script>\n",
              "      const buttonEl =\n",
              "        document.querySelector('#df-db2e842b-f1a4-4749-8dc7-e2a4e2d72c8e button.colab-df-convert');\n",
              "      buttonEl.style.display =\n",
              "        google.colab.kernel.accessAllowed ? 'block' : 'none';\n",
              "\n",
              "      async function convertToInteractive(key) {\n",
              "        const element = document.querySelector('#df-db2e842b-f1a4-4749-8dc7-e2a4e2d72c8e');\n",
              "        const dataTable =\n",
              "          await google.colab.kernel.invokeFunction('convertToInteractive',\n",
              "                                                    [key], {});\n",
              "        if (!dataTable) return;\n",
              "\n",
              "        const docLinkHtml = 'Like what you see? Visit the ' +\n",
              "          '<a target=\"_blank\" href=https://colab.research.google.com/notebooks/data_table.ipynb>data table notebook</a>'\n",
              "          + ' to learn more about interactive tables.';\n",
              "        element.innerHTML = '';\n",
              "        dataTable['output_type'] = 'display_data';\n",
              "        await google.colab.output.renderOutput(dataTable, element);\n",
              "        const docLink = document.createElement('div');\n",
              "        docLink.innerHTML = docLinkHtml;\n",
              "        element.appendChild(docLink);\n",
              "      }\n",
              "    </script>\n",
              "  </div>\n",
              "\n",
              "\n",
              "    <div id=\"df-38f520c8-c444-4cc4-8600-6977933c7448\">\n",
              "      <button class=\"colab-df-quickchart\" onclick=\"quickchart('df-38f520c8-c444-4cc4-8600-6977933c7448')\"\n",
              "                title=\"Suggest charts\"\n",
              "                style=\"display:none;\">\n",
              "\n",
              "<svg xmlns=\"http://www.w3.org/2000/svg\" height=\"24px\"viewBox=\"0 0 24 24\"\n",
              "     width=\"24px\">\n",
              "    <g>\n",
              "        <path d=\"M19 3H5c-1.1 0-2 .9-2 2v14c0 1.1.9 2 2 2h14c1.1 0 2-.9 2-2V5c0-1.1-.9-2-2-2zM9 17H7v-7h2v7zm4 0h-2V7h2v10zm4 0h-2v-4h2v4z\"/>\n",
              "    </g>\n",
              "</svg>\n",
              "      </button>\n",
              "\n",
              "<style>\n",
              "  .colab-df-quickchart {\n",
              "      --bg-color: #E8F0FE;\n",
              "      --fill-color: #1967D2;\n",
              "      --hover-bg-color: #E2EBFA;\n",
              "      --hover-fill-color: #174EA6;\n",
              "      --disabled-fill-color: #AAA;\n",
              "      --disabled-bg-color: #DDD;\n",
              "  }\n",
              "\n",
              "  [theme=dark] .colab-df-quickchart {\n",
              "      --bg-color: #3B4455;\n",
              "      --fill-color: #D2E3FC;\n",
              "      --hover-bg-color: #434B5C;\n",
              "      --hover-fill-color: #FFFFFF;\n",
              "      --disabled-bg-color: #3B4455;\n",
              "      --disabled-fill-color: #666;\n",
              "  }\n",
              "\n",
              "  .colab-df-quickchart {\n",
              "    background-color: var(--bg-color);\n",
              "    border: none;\n",
              "    border-radius: 50%;\n",
              "    cursor: pointer;\n",
              "    display: none;\n",
              "    fill: var(--fill-color);\n",
              "    height: 32px;\n",
              "    padding: 0;\n",
              "    width: 32px;\n",
              "  }\n",
              "\n",
              "  .colab-df-quickchart:hover {\n",
              "    background-color: var(--hover-bg-color);\n",
              "    box-shadow: 0 1px 2px rgba(60, 64, 67, 0.3), 0 1px 3px 1px rgba(60, 64, 67, 0.15);\n",
              "    fill: var(--button-hover-fill-color);\n",
              "  }\n",
              "\n",
              "  .colab-df-quickchart-complete:disabled,\n",
              "  .colab-df-quickchart-complete:disabled:hover {\n",
              "    background-color: var(--disabled-bg-color);\n",
              "    fill: var(--disabled-fill-color);\n",
              "    box-shadow: none;\n",
              "  }\n",
              "\n",
              "  .colab-df-spinner {\n",
              "    border: 2px solid var(--fill-color);\n",
              "    border-color: transparent;\n",
              "    border-bottom-color: var(--fill-color);\n",
              "    animation:\n",
              "      spin 1s steps(1) infinite;\n",
              "  }\n",
              "\n",
              "  @keyframes spin {\n",
              "    0% {\n",
              "      border-color: transparent;\n",
              "      border-bottom-color: var(--fill-color);\n",
              "      border-left-color: var(--fill-color);\n",
              "    }\n",
              "    20% {\n",
              "      border-color: transparent;\n",
              "      border-left-color: var(--fill-color);\n",
              "      border-top-color: var(--fill-color);\n",
              "    }\n",
              "    30% {\n",
              "      border-color: transparent;\n",
              "      border-left-color: var(--fill-color);\n",
              "      border-top-color: var(--fill-color);\n",
              "      border-right-color: var(--fill-color);\n",
              "    }\n",
              "    40% {\n",
              "      border-color: transparent;\n",
              "      border-right-color: var(--fill-color);\n",
              "      border-top-color: var(--fill-color);\n",
              "    }\n",
              "    60% {\n",
              "      border-color: transparent;\n",
              "      border-right-color: var(--fill-color);\n",
              "    }\n",
              "    80% {\n",
              "      border-color: transparent;\n",
              "      border-right-color: var(--fill-color);\n",
              "      border-bottom-color: var(--fill-color);\n",
              "    }\n",
              "    90% {\n",
              "      border-color: transparent;\n",
              "      border-bottom-color: var(--fill-color);\n",
              "    }\n",
              "  }\n",
              "</style>\n",
              "\n",
              "      <script>\n",
              "        async function quickchart(key) {\n",
              "          const quickchartButtonEl =\n",
              "            document.querySelector('#' + key + ' button');\n",
              "          quickchartButtonEl.disabled = true;  // To prevent multiple clicks.\n",
              "          quickchartButtonEl.classList.add('colab-df-spinner');\n",
              "          try {\n",
              "            const charts = await google.colab.kernel.invokeFunction(\n",
              "                'suggestCharts', [key], {});\n",
              "          } catch (error) {\n",
              "            console.error('Error during call to suggestCharts:', error);\n",
              "          }\n",
              "          quickchartButtonEl.classList.remove('colab-df-spinner');\n",
              "          quickchartButtonEl.classList.add('colab-df-quickchart-complete');\n",
              "        }\n",
              "        (() => {\n",
              "          let quickchartButtonEl =\n",
              "            document.querySelector('#df-38f520c8-c444-4cc4-8600-6977933c7448 button');\n",
              "          quickchartButtonEl.style.display =\n",
              "            google.colab.kernel.accessAllowed ? 'block' : 'none';\n",
              "        })();\n",
              "      </script>\n",
              "    </div>\n",
              "\n",
              "    </div>\n",
              "  </div>\n"
            ],
            "application/vnd.google.colaboratory.intrinsic+json": {
              "type": "dataframe",
              "summary": "{\n  \"name\": \"df\",\n  \"rows\": 8,\n  \"fields\": [\n    {\n      \"column\": \"SPX\",\n      \"properties\": {\n        \"dtype\": \"number\",\n        \"std\": 1403.8866010045808,\n        \"min\": 510.5216087209333,\n        \"max\": 4778.0,\n        \"num_unique_values\": 8,\n        \"samples\": [\n          1504.2275176401565,\n          1336.614990234375,\n          4778.0\n        ],\n        \"semantic_type\": \"\",\n        \"description\": \"\"\n      }\n    },\n    {\n      \"column\": \"VIX\",\n      \"properties\": {\n        \"dtype\": \"number\",\n        \"std\": 1680.716960596617,\n        \"min\": 8.617418119508217,\n        \"max\": 4778.0,\n        \"num_unique_values\": 8,\n        \"samples\": [\n          19.70294265160255,\n          17.579999923706055,\n          4778.0\n        ],\n        \"semantic_type\": \"\",\n        \"description\": \"\"\n      }\n    }\n  ]\n}"
            }
          },
          "metadata": {},
          "execution_count": 9
        }
      ],
      "source": [
        "df.describe()"
      ]
    },
    {
      "cell_type": "code",
      "execution_count": null,
      "metadata": {
        "colab": {
          "base_uri": "https://localhost:8080/"
        },
        "id": "9gor1UkNvVTL",
        "outputId": "723e9e20-c632-4511-edcf-2c443d4eee28"
      },
      "outputs": [
        {
          "output_type": "stream",
          "name": "stdout",
          "text": [
            "<class 'pandas.core.frame.DataFrame'>\n",
            "DatetimeIndex: 4778 entries, 2000-01-03 to 2018-12-28\n",
            "Data columns (total 2 columns):\n",
            " #   Column  Non-Null Count  Dtype  \n",
            "---  ------  --------------  -----  \n",
            " 0   SPX     4778 non-null   float64\n",
            " 1   VIX     4778 non-null   float64\n",
            "dtypes: float64(2)\n",
            "memory usage: 112.0 KB\n"
          ]
        }
      ],
      "source": [
        "df.info()"
      ]
    },
    {
      "cell_type": "code",
      "execution_count": null,
      "metadata": {
        "colab": {
          "base_uri": "https://localhost:8080/",
          "height": 640
        },
        "id": "SNaHxh5SvVTL",
        "outputId": "5ec3b77f-e3b1-4cc9-a1b0-9081a53f0dc1"
      },
      "outputs": [
        {
          "output_type": "display_data",
          "data": {
            "text/plain": [
              "<Figure size 1200x800 with 2 Axes>"
            ],
            "image/png": "[encoded data removed]"
          },
          "metadata": {}
        }
      ],
      "source": [
        "%matplotlib inline\n",
        "import matplotlib.pyplot as plt\n",
        "\n",
        "plt.figure(figsize = (12, 8))\n",
        "\n",
        "ax_spx = df['SPX'].plot()\n",
        "ax_vix = df['VIX'].plot(secondary_y=True)\n",
        "\n",
        "ax_spx.legend(loc=1)\n",
        "ax_vix.legend(loc=2)\n",
        "\n",
        "plt.show();"
      ]
    },
    {
      "cell_type": "code",
      "execution_count": null,
      "metadata": {
        "colab": {
          "base_uri": "https://localhost:8080/",
          "height": 468
        },
        "id": "wXoDdTkWvVTL",
        "outputId": "9844c595-6eb7-496c-d3a3-5f355f8d0392"
      },
      "outputs": [
        {
          "output_type": "display_data",
          "data": {
            "text/plain": [
              "<Figure size 1000x500 with 2 Axes>"
            ],
            "image/png": "[encoded data removed]"
          },
          "metadata": {}
        }
      ],
      "source": [
        "df.diff().hist(\n",
        "    figsize=(10, 5),\n",
        "    color='blue',\n",
        "    bins=100);"
      ]
    },
    {
      "cell_type": "code",
      "execution_count": null,
      "metadata": {
        "colab": {
          "base_uri": "https://localhost:8080/",
          "height": 468
        },
        "id": "H9didQ0vvVTL",
        "outputId": "099e2454-2939-4f40-dad6-8ff47fcbf17e"
      },
      "outputs": [
        {
          "output_type": "display_data",
          "data": {
            "text/plain": [
              "<Figure size 1000x500 with 2 Axes>"
            ],
            "image/png": "[encoded data removed]"
          },
          "metadata": {}
        }
      ],
      "source": [
        "df.pct_change().hist(\n",
        "    figsize=(10, 5),\n",
        "     color='blue',\n",
        "     bins=100);"
      ]
    },
    {
      "cell_type": "code",
      "execution_count": null,
      "metadata": {
        "colab": {
          "base_uri": "https://localhost:8080/",
          "height": 640
        },
        "id": "dez-1XhSvVTL",
        "outputId": "df5deecc-3c55-4df3-e505-ab5dd6e2c117"
      },
      "outputs": [
        {
          "output_type": "display_data",
          "data": {
            "text/plain": [
              "<Figure size 1000x800 with 2 Axes>"
            ],
            "image/png": "[encoded data removed]"
          },
          "metadata": {}
        }
      ],
      "source": [
        "import numpy as np\n",
        "\n",
        "log_returns = np.log(df / df.shift(1)).dropna()\n",
        "log_returns.plot(\n",
        "    subplots=True,\n",
        "    figsize=(10, 8),\n",
        "    color='blue',\n",
        "    grid=True\n",
        ");\n",
        "for ax in plt.gcf().axes:\n",
        "    ax.legend(loc='upper left')"
      ]
    },
    {
      "cell_type": "markdown",
      "metadata": {
        "id": "hssErWyRvVTL"
      },
      "source": [
        "## Correlation between SPX and VIX"
      ]
    },
    {
      "cell_type": "code",
      "execution_count": null,
      "metadata": {
        "colab": {
          "base_uri": "https://localhost:8080/",
          "height": 112
        },
        "id": "sf4LNZzHvVTL",
        "outputId": "2ac3a64b-3f44-4144-87fa-7bcff0644c4f"
      },
      "outputs": [
        {
          "output_type": "execute_result",
          "data": {
            "text/plain": [
              "          SPX       VIX\n",
              "SPX  1.000000 -0.733786\n",
              "VIX -0.733786  1.000000"
            ],
            "text/html": [
              "\n",
              "  <div id=\"df-bf81a6ed-191b-4bbb-aeca-0df1c2d131fd\" class=\"colab-df-container\">\n",
              "    <div>\n",
              "<style scoped>\n",
              "    .dataframe tbody tr th:only-of-type {\n",
              "        vertical-align: middle;\n",
              "    }\n",
              "\n",
              "    .dataframe tbody tr th {\n",
              "        vertical-align: top;\n",
              "    }\n",
              "\n",
              "    .dataframe thead th {\n",
              "        text-align: right;\n",
              "    }\n",
              "</style>\n",
              "<table border=\"1\" class=\"dataframe\">\n",
              "  <thead>\n",
              "    <tr style=\"text-align: right;\">\n",
              "      <th></th>\n",
              "      <th>SPX</th>\n",
              "      <th>VIX</th>\n",
              "    </tr>\n",
              "  </thead>\n",
              "  <tbody>\n",
              "    <tr>\n",
              "      <th>SPX</th>\n",
              "      <td>1.000000</td>\n",
              "      <td>-0.733786</td>\n",
              "    </tr>\n",
              "    <tr>\n",
              "      <th>VIX</th>\n",
              "      <td>-0.733786</td>\n",
              "      <td>1.000000</td>\n",
              "    </tr>\n",
              "  </tbody>\n",
              "</table>\n",
              "</div>\n",
              "    <div class=\"colab-df-buttons\">\n",
              "\n",
              "  <div class=\"colab-df-container\">\n",
              "    <button class=\"colab-df-convert\" onclick=\"convertToInteractive('df-bf81a6ed-191b-4bbb-aeca-0df1c2d131fd')\"\n",
              "            title=\"Convert this dataframe to an interactive table.\"\n",
              "            style=\"display:none;\">\n",
              "\n",
              "  <svg xmlns=\"http://www.w3.org/2000/svg\" height=\"24px\" viewBox=\"0 -960 960 960\">\n",
              "    <path d=\"M120-120v-720h720v720H120Zm60-500h600v-160H180v160Zm220 220h160v-160H400v160Zm0 220h160v-160H400v160ZM180-400h160v-160H180v160Zm440 0h160v-160H620v160ZM180-180h160v-160H180v160Zm440 0h160v-160H620v160Z\"/>\n",
              "  </svg>\n",
              "    </button>\n",
              "\n",
              "  <style>\n",
              "    .colab-df-container {\n",
              "      display:flex;\n",
              "      gap: 12px;\n",
              "    }\n",
              "\n",
              "    .colab-df-convert {\n",
              "      background-color: #E8F0FE;\n",
              "      border: none;\n",
              "      border-radius: 50%;\n",
              "      cursor: pointer;\n",
              "      display: none;\n",
              "      fill: #1967D2;\n",
              "      height: 32px;\n",
              "      padding: 0 0 0 0;\n",
              "      width: 32px;\n",
              "    }\n",
              "\n",
              "    .colab-df-convert:hover {\n",
              "      background-color: #E2EBFA;\n",
              "      box-shadow: 0px 1px 2px rgba(60, 64, 67, 0.3), 0px 1px 3px 1px rgba(60, 64, 67, 0.15);\n",
              "      fill: #174EA6;\n",
              "    }\n",
              "\n",
              "    .colab-df-buttons div {\n",
              "      margin-bottom: 4px;\n",
              "    }\n",
              "\n",
              "    [theme=dark] .colab-df-convert {\n",
              "      background-color: #3B4455;\n",
              "      fill: #D2E3FC;\n",
              "    }\n",
              "\n",
              "    [theme=dark] .colab-df-convert:hover {\n",
              "      background-color: #434B5C;\n",
              "      box-shadow: 0px 1px 3px 1px rgba(0, 0, 0, 0.15);\n",
              "      filter: drop-shadow(0px 1px 2px rgba(0, 0, 0, 0.3));\n",
              "      fill: #FFFFFF;\n",
              "    }\n",
              "  </style>\n",
              "\n",
              "    <script>\n",
              "      const buttonEl =\n",
              "        document.querySelector('#df-bf81a6ed-191b-4bbb-aeca-0df1c2d131fd button.colab-df-convert');\n",
              "      buttonEl.style.display =\n",
              "        google.colab.kernel.accessAllowed ? 'block' : 'none';\n",
              "\n",
              "      async function convertToInteractive(key) {\n",
              "        const element = document.querySelector('#df-bf81a6ed-191b-4bbb-aeca-0df1c2d131fd');\n",
              "        const dataTable =\n",
              "          await google.colab.kernel.invokeFunction('convertToInteractive',\n",
              "                                                    [key], {});\n",
              "        if (!dataTable) return;\n",
              "\n",
              "        const docLinkHtml = 'Like what you see? Visit the ' +\n",
              "          '<a target=\"_blank\" href=https://colab.research.google.com/notebooks/data_table.ipynb>data table notebook</a>'\n",
              "          + ' to learn more about interactive tables.';\n",
              "        element.innerHTML = '';\n",
              "        dataTable['output_type'] = 'display_data';\n",
              "        await google.colab.output.renderOutput(dataTable, element);\n",
              "        const docLink = document.createElement('div');\n",
              "        docLink.innerHTML = docLinkHtml;\n",
              "        element.appendChild(docLink);\n",
              "      }\n",
              "    </script>\n",
              "  </div>\n",
              "\n",
              "\n",
              "    <div id=\"df-9fa070bc-1335-4b1f-8fdf-99e6edd2f98e\">\n",
              "      <button class=\"colab-df-quickchart\" onclick=\"quickchart('df-9fa070bc-1335-4b1f-8fdf-99e6edd2f98e')\"\n",
              "                title=\"Suggest charts\"\n",
              "                style=\"display:none;\">\n",
              "\n",
              "<svg xmlns=\"http://www.w3.org/2000/svg\" height=\"24px\"viewBox=\"0 0 24 24\"\n",
              "     width=\"24px\">\n",
              "    <g>\n",
              "        <path d=\"M19 3H5c-1.1 0-2 .9-2 2v14c0 1.1.9 2 2 2h14c1.1 0 2-.9 2-2V5c0-1.1-.9-2-2-2zM9 17H7v-7h2v7zm4 0h-2V7h2v10zm4 0h-2v-4h2v4z\"/>\n",
              "    </g>\n",
              "</svg>\n",
              "      </button>\n",
              "\n",
              "<style>\n",
              "  .colab-df-quickchart {\n",
              "      --bg-color: #E8F0FE;\n",
              "      --fill-color: #1967D2;\n",
              "      --hover-bg-color: #E2EBFA;\n",
              "      --hover-fill-color: #174EA6;\n",
              "      --disabled-fill-color: #AAA;\n",
              "      --disabled-bg-color: #DDD;\n",
              "  }\n",
              "\n",
              "  [theme=dark] .colab-df-quickchart {\n",
              "      --bg-color: #3B4455;\n",
              "      --fill-color: #D2E3FC;\n",
              "      --hover-bg-color: #434B5C;\n",
              "      --hover-fill-color: #FFFFFF;\n",
              "      --disabled-bg-color: #3B4455;\n",
              "      --disabled-fill-color: #666;\n",
              "  }\n",
              "\n",
              "  .colab-df-quickchart {\n",
              "    background-color: var(--bg-color);\n",
              "    border: none;\n",
              "    border-radius: 50%;\n",
              "    cursor: pointer;\n",
              "    display: none;\n",
              "    fill: var(--fill-color);\n",
              "    height: 32px;\n",
              "    padding: 0;\n",
              "    width: 32px;\n",
              "  }\n",
              "\n",
              "  .colab-df-quickchart:hover {\n",
              "    background-color: var(--hover-bg-color);\n",
              "    box-shadow: 0 1px 2px rgba(60, 64, 67, 0.3), 0 1px 3px 1px rgba(60, 64, 67, 0.15);\n",
              "    fill: var(--button-hover-fill-color);\n",
              "  }\n",
              "\n",
              "  .colab-df-quickchart-complete:disabled,\n",
              "  .colab-df-quickchart-complete:disabled:hover {\n",
              "    background-color: var(--disabled-bg-color);\n",
              "    fill: var(--disabled-fill-color);\n",
              "    box-shadow: none;\n",
              "  }\n",
              "\n",
              "  .colab-df-spinner {\n",
              "    border: 2px solid var(--fill-color);\n",
              "    border-color: transparent;\n",
              "    border-bottom-color: var(--fill-color);\n",
              "    animation:\n",
              "      spin 1s steps(1) infinite;\n",
              "  }\n",
              "\n",
              "  @keyframes spin {\n",
              "    0% {\n",
              "      border-color: transparent;\n",
              "      border-bottom-color: var(--fill-color);\n",
              "      border-left-color: var(--fill-color);\n",
              "    }\n",
              "    20% {\n",
              "      border-color: transparent;\n",
              "      border-left-color: var(--fill-color);\n",
              "      border-top-color: var(--fill-color);\n",
              "    }\n",
              "    30% {\n",
              "      border-color: transparent;\n",
              "      border-left-color: var(--fill-color);\n",
              "      border-top-color: var(--fill-color);\n",
              "      border-right-color: var(--fill-color);\n",
              "    }\n",
              "    40% {\n",
              "      border-color: transparent;\n",
              "      border-right-color: var(--fill-color);\n",
              "      border-top-color: var(--fill-color);\n",
              "    }\n",
              "    60% {\n",
              "      border-color: transparent;\n",
              "      border-right-color: var(--fill-color);\n",
              "    }\n",
              "    80% {\n",
              "      border-color: transparent;\n",
              "      border-right-color: var(--fill-color);\n",
              "      border-bottom-color: var(--fill-color);\n",
              "    }\n",
              "    90% {\n",
              "      border-color: transparent;\n",
              "      border-bottom-color: var(--fill-color);\n",
              "    }\n",
              "  }\n",
              "</style>\n",
              "\n",
              "      <script>\n",
              "        async function quickchart(key) {\n",
              "          const quickchartButtonEl =\n",
              "            document.querySelector('#' + key + ' button');\n",
              "          quickchartButtonEl.disabled = true;  // To prevent multiple clicks.\n",
              "          quickchartButtonEl.classList.add('colab-df-spinner');\n",
              "          try {\n",
              "            const charts = await google.colab.kernel.invokeFunction(\n",
              "                'suggestCharts', [key], {});\n",
              "          } catch (error) {\n",
              "            console.error('Error during call to suggestCharts:', error);\n",
              "          }\n",
              "          quickchartButtonEl.classList.remove('colab-df-spinner');\n",
              "          quickchartButtonEl.classList.add('colab-df-quickchart-complete');\n",
              "        }\n",
              "        (() => {\n",
              "          let quickchartButtonEl =\n",
              "            document.querySelector('#df-9fa070bc-1335-4b1f-8fdf-99e6edd2f98e button');\n",
              "          quickchartButtonEl.style.display =\n",
              "            google.colab.kernel.accessAllowed ? 'block' : 'none';\n",
              "        })();\n",
              "      </script>\n",
              "    </div>\n",
              "\n",
              "    </div>\n",
              "  </div>\n"
            ],
            "application/vnd.google.colaboratory.intrinsic+json": {
              "type": "dataframe",
              "summary": "{\n  \"name\": \"log_returns\",\n  \"rows\": 2,\n  \"fields\": [\n    {\n      \"column\": \"SPX\",\n      \"properties\": {\n        \"dtype\": \"number\",\n        \"std\": 1.2259721108228239,\n        \"min\": -0.7337863862168087,\n        \"max\": 1.0,\n        \"num_unique_values\": 2,\n        \"samples\": [\n          -0.7337863862168087,\n          1.0\n        ],\n        \"semantic_type\": \"\",\n        \"description\": \"\"\n      }\n    },\n    {\n      \"column\": \"VIX\",\n      \"properties\": {\n        \"dtype\": \"number\",\n        \"std\": 1.2259721108228239,\n        \"min\": -0.7337863862168087,\n        \"max\": 1.0,\n        \"num_unique_values\": 2,\n        \"samples\": [\n          1.0,\n          -0.7337863862168087\n        ],\n        \"semantic_type\": \"\",\n        \"description\": \"\"\n      }\n    }\n  ]\n}"
            }
          },
          "metadata": {},
          "execution_count": 15
        }
      ],
      "source": [
        "log_returns.corr()"
      ]
    },
    {
      "cell_type": "code",
      "execution_count": null,
      "metadata": {
        "colab": {
          "base_uri": "https://localhost:8080/",
          "height": 696
        },
        "id": "WI0iHGnGvVTM",
        "outputId": "3e94226c-a514-4bd5-872c-0bf641ea2f70"
      },
      "outputs": [
        {
          "output_type": "display_data",
          "data": {
            "text/plain": [
              "<Figure size 1000x800 with 1 Axes>"
            ],
            "image/png": "[encoded data removed]"
          },
          "metadata": {}
        }
      ],
      "source": [
        "import statsmodels.api as sm\n",
        "\n",
        "log_returns.plot(\n",
        "    figsize=(10,8),\n",
        "     x=\"SPX\",\n",
        "     y=\"VIX\",\n",
        "     kind='scatter')\n",
        "\n",
        "ols_fit = sm.OLS(log_returns['VIX'].values,\n",
        "log_returns['SPX'].values).fit()\n",
        "\n",
        "plt.plot(log_returns['SPX'], ols_fit.fittedvalues, 'r');"
      ]
    },
    {
      "cell_type": "code",
      "execution_count": null,
      "metadata": {
        "colab": {
          "base_uri": "https://localhost:8080/",
          "height": 640
        },
        "id": "SmueBd0VvVTM",
        "outputId": "c6a5bd23-d766-4789-f2ca-3ead09e3f9b0"
      },
      "outputs": [
        {
          "output_type": "display_data",
          "data": {
            "text/plain": [
              "<Figure size 1200x800 with 1 Axes>"
            ],
            "image/png": "[encoded data removed]"
          },
          "metadata": {}
        }
      ],
      "source": [
        "plt.ylabel('Rolling Annual Correlation')\n",
        "\n",
        "df_corr = df['SPX'].rolling(252).corr(other=df['VIX'])\n",
        "df_corr.plot(figsize=(12,8));"
      ]
    },
    {
      "cell_type": "markdown",
      "metadata": {
        "id": "estEAHKjvVTM"
      },
      "source": [
        "# Calculating the VIX index"
      ]
    },
    {
      "cell_type": "code",
      "execution_count": null,
      "metadata": {
        "colab": {
          "base_uri": "https://localhost:8080/",
          "height": 732
        },
        "id": "V0xeDK5NvVTM",
        "outputId": "45009fde-01ee-4588-d520-be96337b4c0a"
      },
      "outputs": [
        {
          "output_type": "stream",
          "name": "stdout",
          "text": [
            "Requirement already satisfied: yfinance in /usr/local/lib/python3.11/dist-packages (0.2.65)\n",
            "Requirement already satisfied: pandas>=1.3.0 in /usr/local/lib/python3.11/dist-packages (from yfinance) (2.2.2)\n",
            "Requirement already satisfied: numpy>=1.16.5 in /usr/local/lib/python3.11/dist-packages (from yfinance) (2.0.2)\n",
            "Requirement already satisfied: requests>=2.31 in /usr/local/lib/python3.11/dist-packages (from yfinance) (2.32.3)\n",
            "Requirement already satisfied: multitasking>=0.0.7 in /usr/local/lib/python3.11/dist-packages (from yfinance) (0.0.12)\n",
            "Requirement already satisfied: platformdirs>=2.0.0 in /usr/local/lib/python3.11/dist-packages (from yfinance) (4.3.8)\n",
            "Requirement already satisfied: pytz>=2022.5 in /usr/local/lib/python3.11/dist-packages (from yfinance) (2025.2)\n",
            "Requirement already satisfied: frozendict>=2.3.4 in /usr/local/lib/python3.11/dist-packages (from yfinance) (2.4.6)\n",
            "Requirement already satisfied: peewee>=3.16.2 in /usr/local/lib/python3.11/dist-packages (from yfinance) (3.18.2)\n",
            "Requirement already satisfied: beautifulsoup4>=4.11.1 in /usr/local/lib/python3.11/dist-packages (from yfinance) (4.13.4)\n",
            "Requirement already satisfied: curl_cffi>=0.7 in /usr/local/lib/python3.11/dist-packages (from yfinance) (0.12.0)\n",
            "Requirement already satisfied: protobuf>=3.19.0 in /usr/local/lib/python3.11/dist-packages (from yfinance) (5.29.5)\n",
            "Requirement already satisfied: websockets>=13.0 in /usr/local/lib/python3.11/dist-packages (from yfinance) (15.0.1)\n",
            "Requirement already satisfied: soupsieve>1.2 in /usr/local/lib/python3.11/dist-packages (from beautifulsoup4>=4.11.1->yfinance) (2.7)\n",
            "Requirement already satisfied: typing-extensions>=4.0.0 in /usr/local/lib/python3.11/dist-packages (from beautifulsoup4>=4.11.1->yfinance) (4.14.1)\n",
            "Requirement already satisfied: cffi>=1.12.0 in /usr/local/lib/python3.11/dist-packages (from curl_cffi>=0.7->yfinance) (1.17.1)\n",
            "Requirement already satisfied: certifi>=2024.2.2 in /usr/local/lib/python3.11/dist-packages (from curl_cffi>=0.7->yfinance) (2025.7.14)\n",
            "Requirement already satisfied: python-dateutil>=2.8.2 in /usr/local/lib/python3.11/dist-packages (from pandas>=1.3.0->yfinance) (2.9.0.post0)\n",
            "Requirement already satisfied: tzdata>=2022.7 in /usr/local/lib/python3.11/dist-packages (from pandas>=1.3.0->yfinance) (2025.2)\n",
            "Requirement already satisfied: charset-normalizer<4,>=2 in /usr/local/lib/python3.11/dist-packages (from requests>=2.31->yfinance) (3.4.2)\n",
            "Requirement already satisfied: idna<4,>=2.5 in /usr/local/lib/python3.11/dist-packages (from requests>=2.31->yfinance) (3.10)\n",
            "Requirement already satisfied: urllib3<3,>=1.21.1 in /usr/local/lib/python3.11/dist-packages (from requests>=2.31->yfinance) (2.5.0)\n",
            "Requirement already satisfied: pycparser in /usr/local/lib/python3.11/dist-packages (from cffi>=1.12.0->curl_cffi>=0.7->yfinance) (2.22)\n",
            "Requirement already satisfied: six>=1.5 in /usr/local/lib/python3.11/dist-packages (from python-dateutil>=2.8.2->pandas>=1.3.0->yfinance) (1.17.0)\n",
            "Downloading SPY options data...\n",
            "\n",
            "Options data downloaded successfully!\n",
            "\n",
            "Sample of Call Options:\n"
          ]
        },
        {
          "output_type": "execute_result",
          "data": {
            "text/plain": [
              "       contractSymbol             lastTradeDate  strike  lastPrice  bid  ask  \\\n",
              "0  SPY250728C00495000 2025-07-25 17:38:11+00:00   495.0     140.95  0.0  0.0   \n",
              "1  SPY250728C00500000 2025-07-22 16:51:51+00:00   500.0     128.14  0.0  0.0   \n",
              "2  SPY250728C00505000 2025-07-24 14:56:51+00:00   505.0     130.67  0.0  0.0   \n",
              "3  SPY250728C00535000 2025-07-25 16:10:47+00:00   535.0     101.11  0.0  0.0   \n",
              "4  SPY250728C00540000 2025-07-16 14:08:43+00:00   540.0      82.76  0.0  0.0   \n",
              "\n",
              "   change  percentChange  volume  openInterest  impliedVolatility  inTheMoney  \\\n",
              "0     0.0            0.0     2.0             0            0.00001        True   \n",
              "1     0.0            0.0     NaN             0            0.00001        True   \n",
              "2     0.0            0.0     NaN             0            0.00001        True   \n",
              "3     0.0            0.0     1.0             0            0.00001        True   \n",
              "4     0.0            0.0     NaN             0            0.00001        True   \n",
              "\n",
              "  contractSize currency  \n",
              "0      REGULAR      USD  \n",
              "1      REGULAR      USD  \n",
              "2      REGULAR      USD  \n",
              "3      REGULAR      USD  \n",
              "4      REGULAR      USD  "
            ],
            "text/html": [
              "\n",
              "  <div id=\"df-02fa3190-5eda-4abe-88c2-af583a348ae2\" class=\"colab-df-container\">\n",
              "    <div>\n",
              "<style scoped>\n",
              "    .dataframe tbody tr th:only-of-type {\n",
              "        vertical-align: middle;\n",
              "    }\n",
              "\n",
              "    .dataframe tbody tr th {\n",
              "        vertical-align: top;\n",
              "    }\n",
              "\n",
              "    .dataframe thead th {\n",
              "        text-align: right;\n",
              "    }\n",
              "</style>\n",
              "<table border=\"1\" class=\"dataframe\">\n",
              "  <thead>\n",
              "    <tr style=\"text-align: right;\">\n",
              "      <th></th>\n",
              "      <th>contractSymbol</th>\n",
              "      <th>lastTradeDate</th>\n",
              "      <th>strike</th>\n",
              "      <th>lastPrice</th>\n",
              "      <th>bid</th>\n",
              "      <th>ask</th>\n",
              "      <th>change</th>\n",
              "      <th>percentChange</th>\n",
              "      <th>volume</th>\n",
              "      <th>openInterest</th>\n",
              "      <th>impliedVolatility</th>\n",
              "      <th>inTheMoney</th>\n",
              "      <th>contractSize</th>\n",
              "      <th>currency</th>\n",
              "    </tr>\n",
              "  </thead>\n",
              "  <tbody>\n",
              "    <tr>\n",
              "      <th>0</th>\n",
              "      <td>SPY250728C00495000</td>\n",
              "      <td>2025-07-25 17:38:11+00:00</td>\n",
              "      <td>495.0</td>\n",
              "      <td>140.95</td>\n",
              "      <td>0.0</td>\n",
              "      <td>0.0</td>\n",
              "      <td>0.0</td>\n",
              "      <td>0.0</td>\n",
              "      <td>2.0</td>\n",
              "      <td>0</td>\n",
              "      <td>0.00001</td>\n",
              "      <td>True</td>\n",
              "      <td>REGULAR</td>\n",
              "      <td>USD</td>\n",
              "    </tr>\n",
              "    <tr>\n",
              "      <th>1</th>\n",
              "      <td>SPY250728C00500000</td>\n",
              "      <td>2025-07-22 16:51:51+00:00</td>\n",
              "      <td>500.0</td>\n",
              "      <td>128.14</td>\n",
              "      <td>0.0</td>\n",
              "      <td>0.0</td>\n",
              "      <td>0.0</td>\n",
              "      <td>0.0</td>\n",
              "      <td>NaN</td>\n",
              "      <td>0</td>\n",
              "      <td>0.00001</td>\n",
              "      <td>True</td>\n",
              "      <td>REGULAR</td>\n",
              "      <td>USD</td>\n",
              "    </tr>\n",
              "    <tr>\n",
              "      <th>2</th>\n",
              "      <td>SPY250728C00505000</td>\n",
              "      <td>2025-07-24 14:56:51+00:00</td>\n",
              "      <td>505.0</td>\n",
              "      <td>130.67</td>\n",
              "      <td>0.0</td>\n",
              "      <td>0.0</td>\n",
              "      <td>0.0</td>\n",
              "      <td>0.0</td>\n",
              "      <td>NaN</td>\n",
              "      <td>0</td>\n",
              "      <td>0.00001</td>\n",
              "      <td>True</td>\n",
              "      <td>REGULAR</td>\n",
              "      <td>USD</td>\n",
              "    </tr>\n",
              "    <tr>\n",
              "      <th>3</th>\n",
              "      <td>SPY250728C00535000</td>\n",
              "      <td>2025-07-25 16:10:47+00:00</td>\n",
              "      <td>535.0</td>\n",
              "      <td>101.11</td>\n",
              "      <td>0.0</td>\n",
              "      <td>0.0</td>\n",
              "      <td>0.0</td>\n",
              "      <td>0.0</td>\n",
              "      <td>1.0</td>\n",
              "      <td>0</td>\n",
              "      <td>0.00001</td>\n",
              "      <td>True</td>\n",
              "      <td>REGULAR</td>\n",
              "      <td>USD</td>\n",
              "    </tr>\n",
              "    <tr>\n",
              "      <th>4</th>\n",
              "      <td>SPY250728C00540000</td>\n",
              "      <td>2025-07-16 14:08:43+00:00</td>\n",
              "      <td>540.0</td>\n",
              "      <td>82.76</td>\n",
              "      <td>0.0</td>\n",
              "      <td>0.0</td>\n",
              "      <td>0.0</td>\n",
              "      <td>0.0</td>\n",
              "      <td>NaN</td>\n",
              "      <td>0</td>\n",
              "      <td>0.00001</td>\n",
              "      <td>True</td>\n",
              "      <td>REGULAR</td>\n",
              "      <td>USD</td>\n",
              "    </tr>\n",
              "  </tbody>\n",
              "</table>\n",
              "</div>\n",
              "    <div class=\"colab-df-buttons\">\n",
              "\n",
              "  <div class=\"colab-df-container\">\n",
              "    <button class=\"colab-df-convert\" onclick=\"convertToInteractive('df-02fa3190-5eda-4abe-88c2-af583a348ae2')\"\n",
              "            title=\"Convert this dataframe to an interactive table.\"\n",
              "            style=\"display:none;\">\n",
              "\n",
              "  <svg xmlns=\"http://www.w3.org/2000/svg\" height=\"24px\" viewBox=\"0 -960 960 960\">\n",
              "    <path d=\"M120-120v-720h720v720H120Zm60-500h600v-160H180v160Zm220 220h160v-160H400v160Zm0 220h160v-160H400v160ZM180-400h160v-160H180v160Zm440 0h160v-160H620v160ZM180-180h160v-160H180v160Zm440 0h160v-160H620v160Z\"/>\n",
              "  </svg>\n",
              "    </button>\n",
              "\n",
              "  <style>\n",
              "    .colab-df-container {\n",
              "      display:flex;\n",
              "      gap: 12px;\n",
              "    }\n",
              "\n",
              "    .colab-df-convert {\n",
              "      background-color: #E8F0FE;\n",
              "      border: none;\n",
              "      border-radius: 50%;\n",
              "      cursor: pointer;\n",
              "      display: none;\n",
              "      fill: #1967D2;\n",
              "      height: 32px;\n",
              "      padding: 0 0 0 0;\n",
              "      width: 32px;\n",
              "    }\n",
              "\n",
              "    .colab-df-convert:hover {\n",
              "      background-color: #E2EBFA;\n",
              "      box-shadow: 0px 1px 2px rgba(60, 64, 67, 0.3), 0px 1px 3px 1px rgba(60, 64, 67, 0.15);\n",
              "      fill: #174EA6;\n",
              "    }\n",
              "\n",
              "    .colab-df-buttons div {\n",
              "      margin-bottom: 4px;\n",
              "    }\n",
              "\n",
              "    [theme=dark] .colab-df-convert {\n",
              "      background-color: #3B4455;\n",
              "      fill: #D2E3FC;\n",
              "    }\n",
              "\n",
              "    [theme=dark] .colab-df-convert:hover {\n",
              "      background-color: #434B5C;\n",
              "      box-shadow: 0px 1px 3px 1px rgba(0, 0, 0, 0.15);\n",
              "      filter: drop-shadow(0px 1px 2px rgba(0, 0, 0, 0.3));\n",
              "      fill: #FFFFFF;\n",
              "    }\n",
              "  </style>\n",
              "\n",
              "    <script>\n",
              "      const buttonEl =\n",
              "        document.querySelector('#df-02fa3190-5eda-4abe-88c2-af583a348ae2 button.colab-df-convert');\n",
              "      buttonEl.style.display =\n",
              "        google.colab.kernel.accessAllowed ? 'block' : 'none';\n",
              "\n",
              "      async function convertToInteractive(key) {\n",
              "        const element = document.querySelector('#df-02fa3190-5eda-4abe-88c2-af583a348ae2');\n",
              "        const dataTable =\n",
              "          await google.colab.kernel.invokeFunction('convertToInteractive',\n",
              "                                                    [key], {});\n",
              "        if (!dataTable) return;\n",
              "\n",
              "        const docLinkHtml = 'Like what you see? Visit the ' +\n",
              "          '<a target=\"_blank\" href=https://colab.research.google.com/notebooks/data_table.ipynb>data table notebook</a>'\n",
              "          + ' to learn more about interactive tables.';\n",
              "        element.innerHTML = '';\n",
              "        dataTable['output_type'] = 'display_data';\n",
              "        await google.colab.output.renderOutput(dataTable, element);\n",
              "        const docLink = document.createElement('div');\n",
              "        docLink.innerHTML = docLinkHtml;\n",
              "        element.appendChild(docLink);\n",
              "      }\n",
              "    </script>\n",
              "  </div>\n",
              "\n",
              "\n",
              "    <div id=\"df-39620246-5110-466d-9e60-dfc0b4387a3d\">\n",
              "      <button class=\"colab-df-quickchart\" onclick=\"quickchart('df-39620246-5110-466d-9e60-dfc0b4387a3d')\"\n",
              "                title=\"Suggest charts\"\n",
              "                style=\"display:none;\">\n",
              "\n",
              "<svg xmlns=\"http://www.w3.org/2000/svg\" height=\"24px\"viewBox=\"0 0 24 24\"\n",
              "     width=\"24px\">\n",
              "    <g>\n",
              "        <path d=\"M19 3H5c-1.1 0-2 .9-2 2v14c0 1.1.9 2 2 2h14c1.1 0 2-.9 2-2V5c0-1.1-.9-2-2-2zM9 17H7v-7h2v7zm4 0h-2V7h2v10zm4 0h-2v-4h2v4z\"/>\n",
              "    </g>\n",
              "</svg>\n",
              "      </button>\n",
              "\n",
              "<style>\n",
              "  .colab-df-quickchart {\n",
              "      --bg-color: #E8F0FE;\n",
              "      --fill-color: #1967D2;\n",
              "      --hover-bg-color: #E2EBFA;\n",
              "      --hover-fill-color: #174EA6;\n",
              "      --disabled-fill-color: #AAA;\n",
              "      --disabled-bg-color: #DDD;\n",
              "  }\n",
              "\n",
              "  [theme=dark] .colab-df-quickchart {\n",
              "      --bg-color: #3B4455;\n",
              "      --fill-color: #D2E3FC;\n",
              "      --hover-bg-color: #434B5C;\n",
              "      --hover-fill-color: #FFFFFF;\n",
              "      --disabled-bg-color: #3B4455;\n",
              "      --disabled-fill-color: #666;\n",
              "  }\n",
              "\n",
              "  .colab-df-quickchart {\n",
              "    background-color: var(--bg-color);\n",
              "    border: none;\n",
              "    border-radius: 50%;\n",
              "    cursor: pointer;\n",
              "    display: none;\n",
              "    fill: var(--fill-color);\n",
              "    height: 32px;\n",
              "    padding: 0;\n",
              "    width: 32px;\n",
              "  }\n",
              "\n",
              "  .colab-df-quickchart:hover {\n",
              "    background-color: var(--hover-bg-color);\n",
              "    box-shadow: 0 1px 2px rgba(60, 64, 67, 0.3), 0 1px 3px 1px rgba(60, 64, 67, 0.15);\n",
              "    fill: var(--button-hover-fill-color);\n",
              "  }\n",
              "\n",
              "  .colab-df-quickchart-complete:disabled,\n",
              "  .colab-df-quickchart-complete:disabled:hover {\n",
              "    background-color: var(--disabled-bg-color);\n",
              "    fill: var(--disabled-fill-color);\n",
              "    box-shadow: none;\n",
              "  }\n",
              "\n",
              "  .colab-df-spinner {\n",
              "    border: 2px solid var(--fill-color);\n",
              "    border-color: transparent;\n",
              "    border-bottom-color: var(--fill-color);\n",
              "    animation:\n",
              "      spin 1s steps(1) infinite;\n",
              "  }\n",
              "\n",
              "  @keyframes spin {\n",
              "    0% {\n",
              "      border-color: transparent;\n",
              "      border-bottom-color: var(--fill-color);\n",
              "      border-left-color: var(--fill-color);\n",
              "    }\n",
              "    20% {\n",
              "      border-color: transparent;\n",
              "      border-left-color: var(--fill-color);\n",
              "      border-top-color: var(--fill-color);\n",
              "    }\n",
              "    30% {\n",
              "      border-color: transparent;\n",
              "      border-left-color: var(--fill-color);\n",
              "      border-top-color: var(--fill-color);\n",
              "      border-right-color: var(--fill-color);\n",
              "    }\n",
              "    40% {\n",
              "      border-color: transparent;\n",
              "      border-right-color: var(--fill-color);\n",
              "      border-top-color: var(--fill-color);\n",
              "    }\n",
              "    60% {\n",
              "      border-color: transparent;\n",
              "      border-right-color: var(--fill-color);\n",
              "    }\n",
              "    80% {\n",
              "      border-color: transparent;\n",
              "      border-right-color: var(--fill-color);\n",
              "      border-bottom-color: var(--fill-color);\n",
              "    }\n",
              "    90% {\n",
              "      border-color: transparent;\n",
              "      border-bottom-color: var(--fill-color);\n",
              "    }\n",
              "  }\n",
              "</style>\n",
              "\n",
              "      <script>\n",
              "        async function quickchart(key) {\n",
              "          const quickchartButtonEl =\n",
              "            document.querySelector('#' + key + ' button');\n",
              "          quickchartButtonEl.disabled = true;  // To prevent multiple clicks.\n",
              "          quickchartButtonEl.classList.add('colab-df-spinner');\n",
              "          try {\n",
              "            const charts = await google.colab.kernel.invokeFunction(\n",
              "                'suggestCharts', [key], {});\n",
              "          } catch (error) {\n",
              "            console.error('Error during call to suggestCharts:', error);\n",
              "          }\n",
              "          quickchartButtonEl.classList.remove('colab-df-spinner');\n",
              "          quickchartButtonEl.classList.add('colab-df-quickchart-complete');\n",
              "        }\n",
              "        (() => {\n",
              "          let quickchartButtonEl =\n",
              "            document.querySelector('#df-39620246-5110-466d-9e60-dfc0b4387a3d button');\n",
              "          quickchartButtonEl.style.display =\n",
              "            google.colab.kernel.accessAllowed ? 'block' : 'none';\n",
              "        })();\n",
              "      </script>\n",
              "    </div>\n",
              "\n",
              "    </div>\n",
              "  </div>\n"
            ],
            "application/vnd.google.colaboratory.intrinsic+json": {
              "type": "dataframe",
              "variable_name": "df_calls",
              "summary": "{\n  \"name\": \"df_calls\",\n  \"rows\": 76,\n  \"fields\": [\n    {\n      \"column\": \"contractSymbol\",\n      \"properties\": {\n        \"dtype\": \"string\",\n        \"num_unique_values\": 76,\n        \"samples\": [\n          \"SPY250728C00540000\",\n          \"SPY250728C00617000\",\n          \"SPY250728C00575000\"\n        ],\n        \"semantic_type\": \"\",\n        \"description\": \"\"\n      }\n    },\n    {\n      \"column\": \"lastTradeDate\",\n      \"properties\": {\n        \"dtype\": \"date\",\n        \"min\": \"2025-07-14 15:21:04+00:00\",\n        \"max\": \"2025-07-25 20:14:58+00:00\",\n        \"num_unique_values\": 67,\n        \"samples\": [\n          \"2025-07-25 18:08:22+00:00\",\n          \"2025-07-23 20:13:30+00:00\",\n          \"2025-07-16 14:08:43+00:00\"\n        ],\n        \"semantic_type\": \"\",\n        \"description\": \"\"\n      }\n    },\n    {\n      \"column\": \"strike\",\n      \"properties\": {\n        \"dtype\": \"number\",\n        \"std\": 39.54321642092712,\n        \"min\": 495.0,\n        \"max\": 700.0,\n        \"num_unique_values\": 76,\n        \"samples\": [\n          540.0,\n          617.0,\n          575.0\n        ],\n        \"semantic_type\": \"\",\n        \"description\": \"\"\n      }\n    },\n    {\n      \"column\": \"lastPrice\",\n      \"properties\": {\n        \"dtype\": \"number\",\n        \"std\": 32.38285826461224,\n        \"min\": 0.01,\n        \"max\": 140.95,\n        \"num_unique_values\": 64,\n        \"samples\": [\n          3.55,\n          0.27,\n          140.95\n        ],\n        \"semantic_type\": \"\",\n        \"description\": \"\"\n      }\n    },\n    {\n      \"column\": \"bid\",\n      \"properties\": {\n        \"dtype\": \"number\",\n        \"std\": 0.0,\n        \"min\": 0.0,\n        \"max\": 0.0,\n        \"num_unique_values\": 1,\n        \"samples\": [\n          0.0\n        ],\n        \"semantic_type\": \"\",\n        \"description\": \"\"\n      }\n    },\n    {\n      \"column\": \"ask\",\n      \"properties\": {\n        \"dtype\": \"number\",\n        \"std\": 0.0,\n        \"min\": 0.0,\n        \"max\": 0.0,\n        \"num_unique_values\": 1,\n        \"samples\": [\n          0.0\n        ],\n        \"semantic_type\": \"\",\n        \"description\": \"\"\n      }\n    },\n    {\n      \"column\": \"change\",\n      \"properties\": {\n        \"dtype\": \"number\",\n        \"std\": 0.0,\n        \"min\": 0.0,\n        \"max\": 0.0,\n        \"num_unique_values\": 1,\n        \"samples\": [\n          0.0\n        ],\n        \"semantic_type\": \"\",\n        \"description\": \"\"\n      }\n    },\n    {\n      \"column\": \"percentChange\",\n      \"properties\": {\n        \"dtype\": \"number\",\n        \"std\": 0.0,\n        \"min\": 0.0,\n        \"max\": 0.0,\n        \"num_unique_values\": 1,\n        \"samples\": [\n          0.0\n        ],\n        \"semantic_type\": \"\",\n        \"description\": \"\"\n      }\n    },\n    {\n      \"column\": \"volume\",\n      \"properties\": {\n        \"dtype\": \"number\",\n        \"std\": 16576.58986320087,\n        \"min\": 1.0,\n        \"max\": 80302.0,\n        \"num_unique_values\": 50,\n        \"samples\": [\n          65.0\n        ],\n        \"semantic_type\": \"\",\n        \"description\": \"\"\n      }\n    },\n    {\n      \"column\": \"openInterest\",\n      \"properties\": {\n        \"dtype\": \"number\",\n        \"std\": 0,\n        \"min\": 0,\n        \"max\": 0,\n        \"num_unique_values\": 1,\n        \"samples\": [\n          0\n        ],\n        \"semantic_type\": \"\",\n        \"description\": \"\"\n      }\n    },\n    {\n      \"column\": \"impliedVolatility\",\n      \"properties\": {\n        \"dtype\": \"number\",\n        \"std\": 0.07759743426411114,\n        \"min\": 1.0000000000000003e-05,\n        \"max\": 0.500005,\n        \"num_unique_values\": 8,\n        \"samples\": [\n          0.007822421875\n        ],\n        \"semantic_type\": \"\",\n        \"description\": \"\"\n      }\n    },\n    {\n      \"column\": \"inTheMoney\",\n      \"properties\": {\n        \"dtype\": \"boolean\",\n        \"num_unique_values\": 2,\n        \"samples\": [\n          false\n        ],\n        \"semantic_type\": \"\",\n        \"description\": \"\"\n      }\n    },\n    {\n      \"column\": \"contractSize\",\n      \"properties\": {\n        \"dtype\": \"category\",\n        \"num_unique_values\": 1,\n        \"samples\": [\n          \"REGULAR\"\n        ],\n        \"semantic_type\": \"\",\n        \"description\": \"\"\n      }\n    },\n    {\n      \"column\": \"currency\",\n      \"properties\": {\n        \"dtype\": \"category\",\n        \"num_unique_values\": 1,\n        \"samples\": [\n          \"USD\"\n        ],\n        \"semantic_type\": \"\",\n        \"description\": \"\"\n      }\n    }\n  ]\n}"
            }
          },
          "metadata": {},
          "execution_count": 31
        }
      ],
      "source": [
        "# FIX: Install yfinance to download the data\n",
        "!pip install yfinance\n",
        "\n",
        "import yfinance as yf\n",
        "import pandas as pd\n",
        "\n",
        "# --- 1. Download the Options Data Directly ---\n",
        "# This is the modern, reliable way to get this data.\n",
        "print(\"Downloading SPY options data...\")\n",
        "ticker = yf.Ticker(\"SPY\")\n",
        "\n",
        "# Get available expiration dates\n",
        "expirations = ticker.options\n",
        "\n",
        "# We'll select an expiration date for our example\n",
        "# Note: You can change this to any date from the 'expirations' list\n",
        "selected_date = expirations[0]\n",
        "\n",
        "# Get the full option chain for that date\n",
        "opt_chain = ticker.option_chain(selected_date)\n",
        "\n",
        "# Separate the calls and puts into two DataFrames\n",
        "df_calls = opt_chain.calls\n",
        "df_puts = opt_chain.puts\n",
        "\n",
        "print(\"\\nOptions data downloaded successfully!\")\n",
        "\n",
        "# Display a sample of the calls data to confirm it worked\n",
        "print(\"\\nSample of Call Options:\")\n",
        "df_calls.head()"
      ]
    },
    {
      "cell_type": "code",
      "execution_count": null,
      "metadata": {
        "id": "1hNvnNQbvVTN"
      },
      "outputs": [],
      "source": [
        "from decimal import Decimal\n",
        "\n",
        "def parse_expiry_and_strike(text):\n",
        "    \"\"\"\n",
        "    Extracts information about the contract data.\n",
        "\n",
        "    :param text: the string to parse.\n",
        "    :return: a tuple of expiry date and strike price\n",
        "    \"\"\"\n",
        "    # SPX Weeklys should expire at 3PM Chicago time.\n",
        "    [year, month, day, strike, option_code] = text.split(' ')\n",
        "    expiry = '%s %s %s 3:00PM -05:00' % (year, month, day)\n",
        "    dt_object = parser.parse(expiry)\n",
        "\n",
        "    \"\"\"\n",
        "    Third friday SPX standard options expire at start of trading\n",
        "    8.30 A.M. Chicago time.\n",
        "    \"\"\"\n",
        "    if is_third_friday(dt_object):\n",
        "        dt_object = dt_object.replace(hour=8, minute=30)\n",
        "\n",
        "    strike = Decimal(strike)\n",
        "    return (dt_object, strike)"
      ]
    },
    {
      "cell_type": "code",
      "execution_count": null,
      "metadata": {
        "id": "jvCwhwmZvVTN"
      },
      "outputs": [],
      "source": [
        "def is_third_friday(dt_object):\n",
        "    return dt_object.weekday() == 4 and 15 <= dt_object.day <= 21"
      ]
    },
    {
      "cell_type": "markdown",
      "metadata": {
        "id": "Ik6RePW8vVTN"
      },
      "source": [
        "Testing our function with a simple contract code data and printing the results:"
      ]
    },
    {
      "cell_type": "code",
      "execution_count": null,
      "metadata": {
        "id": "DIyWcTqnvVTN"
      },
      "outputs": [],
      "source": [
        "test_contract_code = '2018 Sep 26 1800.00 (*)'\n",
        "(expiry, strike) = parse_expiry_and_strike(test_contract_code)"
      ]
    },
    {
      "cell_type": "code",
      "execution_count": null,
      "metadata": {
        "colab": {
          "base_uri": "https://localhost:8080/"
        },
        "id": "mOF1AVjHvVTN",
        "outputId": "9042dc5c-4cf0-4431-9c30-df04b5301083"
      },
      "outputs": [
        {
          "output_type": "stream",
          "name": "stdout",
          "text": [
            "Expiry: 2018-09-26 15:00:00-05:00\n",
            "Strike price: 1800.00\n"
          ]
        }
      ],
      "source": [
        "print('Expiry:', expiry)\n",
        "print('Strike price:', strike)"
      ]
    },
    {
      "cell_type": "markdown",
      "metadata": {
        "id": "qIXnww3JvVTN"
      },
      "source": [
        "This time round, let's test our function with a contract code data that falls on a third Friday."
      ]
    },
    {
      "cell_type": "code",
      "execution_count": null,
      "metadata": {
        "id": "QL315cA0vVTN"
      },
      "outputs": [],
      "source": [
        "test_contract_code = '2018 Oct 19 2555.00 (*)'\n",
        "(expiry, strike) = parse_expiry_and_strike(test_contract_code)"
      ]
    },
    {
      "cell_type": "code",
      "execution_count": null,
      "metadata": {
        "colab": {
          "base_uri": "https://localhost:8080/"
        },
        "id": "pV_qdq3uvVTN",
        "outputId": "9f86f767-acf8-4f9c-8b8e-8e0415658472"
      },
      "outputs": [
        {
          "output_type": "stream",
          "name": "stdout",
          "text": [
            "Expiry: 2018-10-19 08:30:00-05:00\n",
            "Strike price: 2555.00\n"
          ]
        }
      ],
      "source": [
        "print('Expiry:', expiry)\n",
        "print('Strike price:', strike)"
      ]
    },
    {
      "cell_type": "markdown",
      "metadata": {
        "id": "VRPFg-hyvVTN"
      },
      "source": [
        "With our utility function in place, we can now go ahead and parse a single call or put option price entry, and return useful information which we can use:"
      ]
    },
    {
      "cell_type": "code",
      "execution_count": null,
      "metadata": {
        "id": "Pv-_GMj0vVTN"
      },
      "outputs": [],
      "source": [
        "def format_option_data(option_data):\n",
        "    [desc, _, _, bid_str, ask_str] = option_data[:5]\n",
        "    bid = Decimal(bid_str.strip() or '0')\n",
        "    ask = Decimal(ask_str.strip() or '0')\n",
        "    mid = (bid+ask) / Decimal(2)\n",
        "    (expiry, strike) = parse_expiry_and_strike(desc)\n",
        "    return (expiry, strike, bid, ask, mid)"
      ]
    },
    {
      "cell_type": "markdown",
      "metadata": {
        "id": "bicpRCTnvVTO"
      },
      "source": [
        "## Finding near-term and next-term options"
      ]
    },
    {
      "cell_type": "code",
      "execution_count": null,
      "metadata": {
        "id": "RvajhrjdvVTS"
      },
      "outputs": [],
      "source": [
        "CALL_COLS = ['call_bid', 'call_ask', 'call_mid']\n",
        "PUT_COLS = ['put_bid', 'put_ask', 'put_mid']\n",
        "COLUMNS = CALL_COLS + PUT_COLS + ['diff']"
      ]
    },
    {
      "cell_type": "code",
      "execution_count": null,
      "metadata": {
        "colab": {
          "base_uri": "https://localhost:8080/",
          "height": 255
        },
        "id": "bVsVbDFDvVTS",
        "outputId": "0166628b-c39d-4a18-8e06-171cc2a4853c"
      },
      "outputs": [
        {
          "output_type": "stream",
          "name": "stdout",
          "text": [
            "Options chain created successfully!\n"
          ]
        },
        {
          "output_type": "execute_result",
          "data": {
            "text/plain": [
              "        c_last  c_bid  c_ask  c_volume  c_iv  p_last  p_bid  p_ask  p_volume  \\\n",
              "strike                                                                         \n",
              "400.0      NaN    NaN    NaN       NaN   NaN    0.01    0.0    0.0      17.0   \n",
              "415.0      NaN    NaN    NaN       NaN   NaN    0.01    0.0    0.0       1.0   \n",
              "435.0      NaN    NaN    NaN       NaN   NaN    0.01    0.0    0.0       NaN   \n",
              "455.0      NaN    NaN    NaN       NaN   NaN    0.02    0.0    0.0       NaN   \n",
              "460.0      NaN    NaN    NaN       NaN   NaN    0.02    0.0    0.0       NaN   \n",
              "\n",
              "            p_iv  \n",
              "strike            \n",
              "400.0   0.500005  \n",
              "415.0   1.000005  \n",
              "435.0   0.500005  \n",
              "455.0   0.500005  \n",
              "460.0   0.500005  "
            ],
            "text/html": [
              "\n",
              "  <div id=\"df-7576d620-e997-47f6-a7c2-b9fd6bb84548\" class=\"colab-df-container\">\n",
              "    <div>\n",
              "<style scoped>\n",
              "    .dataframe tbody tr th:only-of-type {\n",
              "        vertical-align: middle;\n",
              "    }\n",
              "\n",
              "    .dataframe tbody tr th {\n",
              "        vertical-align: top;\n",
              "    }\n",
              "\n",
              "    .dataframe thead th {\n",
              "        text-align: right;\n",
              "    }\n",
              "</style>\n",
              "<table border=\"1\" class=\"dataframe\">\n",
              "  <thead>\n",
              "    <tr style=\"text-align: right;\">\n",
              "      <th></th>\n",
              "      <th>c_last</th>\n",
              "      <th>c_bid</th>\n",
              "      <th>c_ask</th>\n",
              "      <th>c_volume</th>\n",
              "      <th>c_iv</th>\n",
              "      <th>p_last</th>\n",
              "      <th>p_bid</th>\n",
              "      <th>p_ask</th>\n",
              "      <th>p_volume</th>\n",
              "      <th>p_iv</th>\n",
              "    </tr>\n",
              "    <tr>\n",
              "      <th>strike</th>\n",
              "      <th></th>\n",
              "      <th></th>\n",
              "      <th></th>\n",
              "      <th></th>\n",
              "      <th></th>\n",
              "      <th></th>\n",
              "      <th></th>\n",
              "      <th></th>\n",
              "      <th></th>\n",
              "      <th></th>\n",
              "    </tr>\n",
              "  </thead>\n",
              "  <tbody>\n",
              "    <tr>\n",
              "      <th>400.0</th>\n",
              "      <td>NaN</td>\n",
              "      <td>NaN</td>\n",
              "      <td>NaN</td>\n",
              "      <td>NaN</td>\n",
              "      <td>NaN</td>\n",
              "      <td>0.01</td>\n",
              "      <td>0.0</td>\n",
              "      <td>0.0</td>\n",
              "      <td>17.0</td>\n",
              "      <td>0.500005</td>\n",
              "    </tr>\n",
              "    <tr>\n",
              "      <th>415.0</th>\n",
              "      <td>NaN</td>\n",
              "      <td>NaN</td>\n",
              "      <td>NaN</td>\n",
              "      <td>NaN</td>\n",
              "      <td>NaN</td>\n",
              "      <td>0.01</td>\n",
              "      <td>0.0</td>\n",
              "      <td>0.0</td>\n",
              "      <td>1.0</td>\n",
              "      <td>1.000005</td>\n",
              "    </tr>\n",
              "    <tr>\n",
              "      <th>435.0</th>\n",
              "      <td>NaN</td>\n",
              "      <td>NaN</td>\n",
              "      <td>NaN</td>\n",
              "      <td>NaN</td>\n",
              "      <td>NaN</td>\n",
              "      <td>0.01</td>\n",
              "      <td>0.0</td>\n",
              "      <td>0.0</td>\n",
              "      <td>NaN</td>\n",
              "      <td>0.500005</td>\n",
              "    </tr>\n",
              "    <tr>\n",
              "      <th>455.0</th>\n",
              "      <td>NaN</td>\n",
              "      <td>NaN</td>\n",
              "      <td>NaN</td>\n",
              "      <td>NaN</td>\n",
              "      <td>NaN</td>\n",
              "      <td>0.02</td>\n",
              "      <td>0.0</td>\n",
              "      <td>0.0</td>\n",
              "      <td>NaN</td>\n",
              "      <td>0.500005</td>\n",
              "    </tr>\n",
              "    <tr>\n",
              "      <th>460.0</th>\n",
              "      <td>NaN</td>\n",
              "      <td>NaN</td>\n",
              "      <td>NaN</td>\n",
              "      <td>NaN</td>\n",
              "      <td>NaN</td>\n",
              "      <td>0.02</td>\n",
              "      <td>0.0</td>\n",
              "      <td>0.0</td>\n",
              "      <td>NaN</td>\n",
              "      <td>0.500005</td>\n",
              "    </tr>\n",
              "  </tbody>\n",
              "</table>\n",
              "</div>\n",
              "    <div class=\"colab-df-buttons\">\n",
              "\n",
              "  <div class=\"colab-df-container\">\n",
              "    <button class=\"colab-df-convert\" onclick=\"convertToInteractive('df-7576d620-e997-47f6-a7c2-b9fd6bb84548')\"\n",
              "            title=\"Convert this dataframe to an interactive table.\"\n",
              "            style=\"display:none;\">\n",
              "\n",
              "  <svg xmlns=\"http://www.w3.org/2000/svg\" height=\"24px\" viewBox=\"0 -960 960 960\">\n",
              "    <path d=\"M120-120v-720h720v720H120Zm60-500h600v-160H180v160Zm220 220h160v-160H400v160Zm0 220h160v-160H400v160ZM180-400h160v-160H180v160Zm440 0h160v-160H620v160ZM180-180h160v-160H180v160Zm440 0h160v-160H620v160Z\"/>\n",
              "  </svg>\n",
              "    </button>\n",
              "\n",
              "  <style>\n",
              "    .colab-df-container {\n",
              "      display:flex;\n",
              "      gap: 12px;\n",
              "    }\n",
              "\n",
              "    .colab-df-convert {\n",
              "      background-color: #E8F0FE;\n",
              "      border: none;\n",
              "      border-radius: 50%;\n",
              "      cursor: pointer;\n",
              "      display: none;\n",
              "      fill: #1967D2;\n",
              "      height: 32px;\n",
              "      padding: 0 0 0 0;\n",
              "      width: 32px;\n",
              "    }\n",
              "\n",
              "    .colab-df-convert:hover {\n",
              "      background-color: #E2EBFA;\n",
              "      box-shadow: 0px 1px 2px rgba(60, 64, 67, 0.3), 0px 1px 3px 1px rgba(60, 64, 67, 0.15);\n",
              "      fill: #174EA6;\n",
              "    }\n",
              "\n",
              "    .colab-df-buttons div {\n",
              "      margin-bottom: 4px;\n",
              "    }\n",
              "\n",
              "    [theme=dark] .colab-df-convert {\n",
              "      background-color: #3B4455;\n",
              "      fill: #D2E3FC;\n",
              "    }\n",
              "\n",
              "    [theme=dark] .colab-df-convert:hover {\n",
              "      background-color: #434B5C;\n",
              "      box-shadow: 0px 1px 3px 1px rgba(0, 0, 0, 0.15);\n",
              "      filter: drop-shadow(0px 1px 2px rgba(0, 0, 0, 0.3));\n",
              "      fill: #FFFFFF;\n",
              "    }\n",
              "  </style>\n",
              "\n",
              "    <script>\n",
              "      const buttonEl =\n",
              "        document.querySelector('#df-7576d620-e997-47f6-a7c2-b9fd6bb84548 button.colab-df-convert');\n",
              "      buttonEl.style.display =\n",
              "        google.colab.kernel.accessAllowed ? 'block' : 'none';\n",
              "\n",
              "      async function convertToInteractive(key) {\n",
              "        const element = document.querySelector('#df-7576d620-e997-47f6-a7c2-b9fd6bb84548');\n",
              "        const dataTable =\n",
              "          await google.colab.kernel.invokeFunction('convertToInteractive',\n",
              "                                                    [key], {});\n",
              "        if (!dataTable) return;\n",
              "\n",
              "        const docLinkHtml = 'Like what you see? Visit the ' +\n",
              "          '<a target=\"_blank\" href=https://colab.research.google.com/notebooks/data_table.ipynb>data table notebook</a>'\n",
              "          + ' to learn more about interactive tables.';\n",
              "        element.innerHTML = '';\n",
              "        dataTable['output_type'] = 'display_data';\n",
              "        await google.colab.output.renderOutput(dataTable, element);\n",
              "        const docLink = document.createElement('div');\n",
              "        docLink.innerHTML = docLinkHtml;\n",
              "        element.appendChild(docLink);\n",
              "      }\n",
              "    </script>\n",
              "  </div>\n",
              "\n",
              "\n",
              "    <div id=\"df-8d7730f8-aa0b-445d-965f-75ec0e0d5039\">\n",
              "      <button class=\"colab-df-quickchart\" onclick=\"quickchart('df-8d7730f8-aa0b-445d-965f-75ec0e0d5039')\"\n",
              "                title=\"Suggest charts\"\n",
              "                style=\"display:none;\">\n",
              "\n",
              "<svg xmlns=\"http://www.w3.org/2000/svg\" height=\"24px\"viewBox=\"0 0 24 24\"\n",
              "     width=\"24px\">\n",
              "    <g>\n",
              "        <path d=\"M19 3H5c-1.1 0-2 .9-2 2v14c0 1.1.9 2 2 2h14c1.1 0 2-.9 2-2V5c0-1.1-.9-2-2-2zM9 17H7v-7h2v7zm4 0h-2V7h2v10zm4 0h-2v-4h2v4z\"/>\n",
              "    </g>\n",
              "</svg>\n",
              "      </button>\n",
              "\n",
              "<style>\n",
              "  .colab-df-quickchart {\n",
              "      --bg-color: #E8F0FE;\n",
              "      --fill-color: #1967D2;\n",
              "      --hover-bg-color: #E2EBFA;\n",
              "      --hover-fill-color: #174EA6;\n",
              "      --disabled-fill-color: #AAA;\n",
              "      --disabled-bg-color: #DDD;\n",
              "  }\n",
              "\n",
              "  [theme=dark] .colab-df-quickchart {\n",
              "      --bg-color: #3B4455;\n",
              "      --fill-color: #D2E3FC;\n",
              "      --hover-bg-color: #434B5C;\n",
              "      --hover-fill-color: #FFFFFF;\n",
              "      --disabled-bg-color: #3B4455;\n",
              "      --disabled-fill-color: #666;\n",
              "  }\n",
              "\n",
              "  .colab-df-quickchart {\n",
              "    background-color: var(--bg-color);\n",
              "    border: none;\n",
              "    border-radius: 50%;\n",
              "    cursor: pointer;\n",
              "    display: none;\n",
              "    fill: var(--fill-color);\n",
              "    height: 32px;\n",
              "    padding: 0;\n",
              "    width: 32px;\n",
              "  }\n",
              "\n",
              "  .colab-df-quickchart:hover {\n",
              "    background-color: var(--hover-bg-color);\n",
              "    box-shadow: 0 1px 2px rgba(60, 64, 67, 0.3), 0 1px 3px 1px rgba(60, 64, 67, 0.15);\n",
              "    fill: var(--button-hover-fill-color);\n",
              "  }\n",
              "\n",
              "  .colab-df-quickchart-complete:disabled,\n",
              "  .colab-df-quickchart-complete:disabled:hover {\n",
              "    background-color: var(--disabled-bg-color);\n",
              "    fill: var(--disabled-fill-color);\n",
              "    box-shadow: none;\n",
              "  }\n",
              "\n",
              "  .colab-df-spinner {\n",
              "    border: 2px solid var(--fill-color);\n",
              "    border-color: transparent;\n",
              "    border-bottom-color: var(--fill-color);\n",
              "    animation:\n",
              "      spin 1s steps(1) infinite;\n",
              "  }\n",
              "\n",
              "  @keyframes spin {\n",
              "    0% {\n",
              "      border-color: transparent;\n",
              "      border-bottom-color: var(--fill-color);\n",
              "      border-left-color: var(--fill-color);\n",
              "    }\n",
              "    20% {\n",
              "      border-color: transparent;\n",
              "      border-left-color: var(--fill-color);\n",
              "      border-top-color: var(--fill-color);\n",
              "    }\n",
              "    30% {\n",
              "      border-color: transparent;\n",
              "      border-left-color: var(--fill-color);\n",
              "      border-top-color: var(--fill-color);\n",
              "      border-right-color: var(--fill-color);\n",
              "    }\n",
              "    40% {\n",
              "      border-color: transparent;\n",
              "      border-right-color: var(--fill-color);\n",
              "      border-top-color: var(--fill-color);\n",
              "    }\n",
              "    60% {\n",
              "      border-color: transparent;\n",
              "      border-right-color: var(--fill-color);\n",
              "    }\n",
              "    80% {\n",
              "      border-color: transparent;\n",
              "      border-right-color: var(--fill-color);\n",
              "      border-bottom-color: var(--fill-color);\n",
              "    }\n",
              "    90% {\n",
              "      border-color: transparent;\n",
              "      border-bottom-color: var(--fill-color);\n",
              "    }\n",
              "  }\n",
              "</style>\n",
              "\n",
              "      <script>\n",
              "        async function quickchart(key) {\n",
              "          const quickchartButtonEl =\n",
              "            document.querySelector('#' + key + ' button');\n",
              "          quickchartButtonEl.disabled = true;  // To prevent multiple clicks.\n",
              "          quickchartButtonEl.classList.add('colab-df-spinner');\n",
              "          try {\n",
              "            const charts = await google.colab.kernel.invokeFunction(\n",
              "                'suggestCharts', [key], {});\n",
              "          } catch (error) {\n",
              "            console.error('Error during call to suggestCharts:', error);\n",
              "          }\n",
              "          quickchartButtonEl.classList.remove('colab-df-spinner');\n",
              "          quickchartButtonEl.classList.add('colab-df-quickchart-complete');\n",
              "        }\n",
              "        (() => {\n",
              "          let quickchartButtonEl =\n",
              "            document.querySelector('#df-8d7730f8-aa0b-445d-965f-75ec0e0d5039 button');\n",
              "          quickchartButtonEl.style.display =\n",
              "            google.colab.kernel.accessAllowed ? 'block' : 'none';\n",
              "        })();\n",
              "      </script>\n",
              "    </div>\n",
              "\n",
              "    </div>\n",
              "  </div>\n"
            ],
            "application/vnd.google.colaboratory.intrinsic+json": {
              "type": "dataframe",
              "variable_name": "chain",
              "summary": "{\n  \"name\": \"chain\",\n  \"rows\": 94,\n  \"fields\": [\n    {\n      \"column\": \"strike\",\n      \"properties\": {\n        \"dtype\": \"number\",\n        \"std\": 63.796791898968706,\n        \"min\": 400.0,\n        \"max\": 700.0,\n        \"num_unique_values\": 94,\n        \"samples\": [\n          605.0,\n          560.0,\n          620.0\n        ],\n        \"semantic_type\": \"\",\n        \"description\": \"\"\n      }\n    },\n    {\n      \"column\": \"c_last\",\n      \"properties\": {\n        \"dtype\": \"number\",\n        \"std\": 32.38285826461224,\n        \"min\": 0.01,\n        \"max\": 140.95,\n        \"num_unique_values\": 64,\n        \"samples\": [\n          3.55,\n          0.27,\n          140.95\n        ],\n        \"semantic_type\": \"\",\n        \"description\": \"\"\n      }\n    },\n    {\n      \"column\": \"c_bid\",\n      \"properties\": {\n        \"dtype\": \"number\",\n        \"std\": 0.0,\n        \"min\": 0.0,\n        \"max\": 0.0,\n        \"num_unique_values\": 1,\n        \"samples\": [\n          0.0\n        ],\n        \"semantic_type\": \"\",\n        \"description\": \"\"\n      }\n    },\n    {\n      \"column\": \"c_ask\",\n      \"properties\": {\n        \"dtype\": \"number\",\n        \"std\": 0.0,\n        \"min\": 0.0,\n        \"max\": 0.0,\n        \"num_unique_values\": 1,\n        \"samples\": [\n          0.0\n        ],\n        \"semantic_type\": \"\",\n        \"description\": \"\"\n      }\n    },\n    {\n      \"column\": \"c_volume\",\n      \"properties\": {\n        \"dtype\": \"number\",\n        \"std\": 16576.58986320087,\n        \"min\": 1.0,\n        \"max\": 80302.0,\n        \"num_unique_values\": 50,\n        \"samples\": [\n          65.0\n        ],\n        \"semantic_type\": \"\",\n        \"description\": \"\"\n      }\n    },\n    {\n      \"column\": \"c_iv\",\n      \"properties\": {\n        \"dtype\": \"number\",\n        \"std\": 0.07759743426411114,\n        \"min\": 1.0000000000000003e-05,\n        \"max\": 0.500005,\n        \"num_unique_values\": 8,\n        \"samples\": [\n          0.007822421875\n        ],\n        \"semantic_type\": \"\",\n        \"description\": \"\"\n      }\n    },\n    {\n      \"column\": \"p_last\",\n      \"properties\": {\n        \"dtype\": \"number\",\n        \"std\": 7.271189255883788,\n        \"min\": 0.01,\n        \"max\": 43.0,\n        \"num_unique_values\": 34,\n        \"samples\": [\n          0.59\n        ],\n        \"semantic_type\": \"\",\n        \"description\": \"\"\n      }\n    },\n    {\n      \"column\": \"p_bid\",\n      \"properties\": {\n        \"dtype\": \"number\",\n        \"std\": 0.0,\n        \"min\": 0.0,\n        \"max\": 0.0,\n        \"num_unique_values\": 1,\n        \"samples\": [\n          0.0\n        ],\n        \"semantic_type\": \"\",\n        \"description\": \"\"\n      }\n    },\n    {\n      \"column\": \"p_ask\",\n      \"properties\": {\n        \"dtype\": \"number\",\n        \"std\": 0.0,\n        \"min\": 0.0,\n        \"max\": 0.0,\n        \"num_unique_values\": 1,\n        \"samples\": [\n          0.0\n        ],\n        \"semantic_type\": \"\",\n        \"description\": \"\"\n      }\n    },\n    {\n      \"column\": \"p_volume\",\n      \"properties\": {\n        \"dtype\": \"number\",\n        \"std\": 17050.55954039236,\n        \"min\": 1.0,\n        \"max\": 88830.0,\n        \"num_unique_values\": 65,\n        \"samples\": [\n          68692.0\n        ],\n        \"semantic_type\": \"\",\n        \"description\": \"\"\n      }\n    },\n    {\n      \"column\": \"p_iv\",\n      \"properties\": {\n        \"dtype\": \"number\",\n        \"std\": 0.21132373543932217,\n        \"min\": 1.0000000000000003e-05,\n        \"max\": 1.000005,\n        \"num_unique_values\": 10,\n        \"samples\": [\n          0.000986552734375\n        ],\n        \"semantic_type\": \"\",\n        \"description\": \"\"\n      }\n    }\n  ]\n}"
            }
          },
          "metadata": {},
          "execution_count": 50
        }
      ],
      "source": [
        "# FIX: Create the options chain by combining the df_calls and df_puts DataFrames\n",
        "\n",
        "# Select and rename the columns for calls\n",
        "calls = df_calls[['strike', 'lastPrice', 'bid', 'ask', 'volume', 'impliedVolatility']]\n",
        "calls = calls.rename(columns={\n",
        "    'lastPrice': 'c_last', 'bid': 'c_bid', 'ask': 'c_ask',\n",
        "    'volume': 'c_volume', 'impliedVolatility': 'c_iv'\n",
        "})\n",
        "\n",
        "# Select and rename the columns for puts\n",
        "puts = df_puts[['strike', 'lastPrice', 'bid', 'ask', 'volume', 'impliedVolatility']]\n",
        "puts = puts.rename(columns={\n",
        "    'lastPrice': 'p_last', 'bid': 'p_bid', 'ask': 'p_ask',\n",
        "    'volume': 'p_volume', 'impliedVolatility': 'p_iv'\n",
        "})\n",
        "\n",
        "# Combine the calls and puts into a single 'chain' DataFrame, using the strike price as the index\n",
        "chain = pd.merge(calls, puts, on='strike', how='outer').set_index('strike')\n",
        "\n",
        "print(\"Options chain created successfully!\")\n",
        "chain.head()"
      ]
    },
    {
      "cell_type": "code",
      "execution_count": null,
      "metadata": {
        "colab": {
          "base_uri": "https://localhost:8080/"
        },
        "id": "6lunoX7lvVTT",
        "outputId": "826ad82e-e03c-4312-d22d-36b7c82b6843"
      },
      "outputs": [
        {
          "output_type": "stream",
          "name": "stdout",
          "text": [
            "c_last\n",
            "c_bid\n",
            "...\n",
            "p_volume\n",
            "p_iv\n"
          ]
        }
      ],
      "source": [
        "chain_keys = list(chain.keys())\n",
        "for row in chain_keys[:2]:\n",
        "    print(row)\n",
        "print('...')\n",
        "for row in chain_keys[-2:]:\n",
        "    print(row)"
      ]
    },
    {
      "cell_type": "code",
      "execution_count": null,
      "metadata": {
        "colab": {
          "base_uri": "https://localhost:8080/"
        },
        "id": "glM1rxNQvVTT",
        "outputId": "9337f347-4d93-4998-c711-bbc5e8e89848"
      },
      "outputs": [
        {
          "output_type": "stream",
          "name": "stdout",
          "text": [
            "Current Date: 2025-07-28\n",
            "Nearest Expiration: 2025-07-28\n",
            "Next Expiration: 2025-07-29\n"
          ]
        }
      ],
      "source": [
        "# FIX: Import the necessary datetime library\n",
        "from datetime import datetime\n",
        "\n",
        "# --- 1. Define the find_option_terms function ---\n",
        "# This function finds the two option expiration dates closest to today\n",
        "def find_option_terms(ticker_obj, current_dt):\n",
        "    expirations = pd.to_datetime(ticker_obj.options)\n",
        "\n",
        "    # Calculate the time difference from today\n",
        "    time_diffs = (expirations - current_dt).days\n",
        "\n",
        "    # Find the two closest future expiration dates\n",
        "    near_term_idx = time_diffs[time_diffs > 0].argmin()\n",
        "    next_term_idx = near_term_idx + 1\n",
        "\n",
        "    dt_near = expirations[near_term_idx]\n",
        "    dt_next = expirations[next_term_idx]\n",
        "\n",
        "    return (dt_near, dt_next)\n",
        "\n",
        "# --- 2. Run the function ---\n",
        "# Get the current time\n",
        "dt_current = pd.to_datetime(datetime.now())\n",
        "\n",
        "# The 'ticker' object was created in the cell where you downloaded the data\n",
        "(dt_near, dt_next) = find_option_terms(ticker, dt_current)\n",
        "\n",
        "# Print the results to confirm\n",
        "print(f\"Current Date: {dt_current.date()}\")\n",
        "print(f\"Nearest Expiration: {dt_near.date()}\")\n",
        "print(f\"Next Expiration: {dt_next.date()}\")"
      ]
    },
    {
      "cell_type": "code",
      "execution_count": null,
      "metadata": {
        "colab": {
          "base_uri": "https://localhost:8080/"
        },
        "id": "hO6CMkt5vVTT",
        "outputId": "4bb5faec-3e4e-400e-91e1-70c3678660da"
      },
      "outputs": [
        {
          "output_type": "stream",
          "name": "stdout",
          "text": [
            "Found near-term maturity 2025-07-28 00:00:00 with -1 days +16:36:01.881887 to expiry\n",
            "Found next-term maturity 2025-07-29 00:00:00 with 0 days 16:36:01.881887 to expiry\n"
          ]
        }
      ],
      "source": [
        "print('Found near-term maturity', dt_near,\n",
        "      'with', dt_near-dt_current, 'to expiry')\n",
        "print('Found next-term maturity', dt_next,\n",
        "      'with', dt_next-dt_current, 'to expiry')"
      ]
    },
    {
      "cell_type": "markdown",
      "metadata": {
        "id": "Oa1-DlCVvVTT"
      },
      "source": [
        "## Calculating the required minutes"
      ]
    },
    {
      "cell_type": "code",
      "execution_count": null,
      "metadata": {
        "id": "muMVueAcvVTT"
      },
      "outputs": [],
      "source": [
        "dt_start_year = dt_current.replace(\n",
        "    month=1, day=1, hour=0, minute=0, second=0)\n",
        "dt_end_year = dt_start_year.replace(year=dt_current.year+1)\n",
        "\n",
        "N_t1 = Decimal((dt_near-dt_current).total_seconds() // 60)\n",
        "N_t2 = Decimal((dt_next-dt_current).total_seconds() // 60)\n",
        "N_30 = Decimal(30 * 24 * 60)\n",
        "N_365 = Decimal((dt_end_year-dt_start_year).total_seconds() // 60)"
      ]
    },
    {
      "cell_type": "code",
      "execution_count": null,
      "metadata": {
        "colab": {
          "base_uri": "https://localhost:8080/"
        },
        "id": "0DTYabCWvVTT",
        "outputId": "608b9aff-0c33-4033-fefb-ccefe9a78c1f"
      },
      "outputs": [
        {
          "output_type": "stream",
          "name": "stdout",
          "text": [
            "N_365: 525600\n",
            "N_30: 43200\n",
            "N_t1: -444\n",
            "N_t2: 996\n"
          ]
        }
      ],
      "source": [
        "print('N_365:', N_365)\n",
        "print('N_30:', N_30)\n",
        "print('N_t1:', N_t1)\n",
        "print('N_t2:', N_t2)"
      ]
    },
    {
      "cell_type": "code",
      "execution_count": null,
      "metadata": {
        "id": "Sp66ja1QvVTT"
      },
      "outputs": [],
      "source": [
        "t1 = N_t1 / N_365\n",
        "t2 = N_t2 / N_365"
      ]
    },
    {
      "cell_type": "code",
      "execution_count": null,
      "metadata": {
        "colab": {
          "base_uri": "https://localhost:8080/"
        },
        "id": "ba4shXeivVTT",
        "outputId": "4265cd73-5438-42e2-8680-a5d209c9f427"
      },
      "outputs": [
        {
          "output_type": "stream",
          "name": "stdout",
          "text": [
            "t1:-0.00084\n",
            "t2:0.00189\n"
          ]
        }
      ],
      "source": [
        "print('t1:%.5f'%t1)\n",
        "print('t2:%.5f'%t2)"
      ]
    },
    {
      "cell_type": "markdown",
      "metadata": {
        "id": "qP9dnFQ_vVTT"
      },
      "source": [
        "## Calculating the forward SPX index level"
      ]
    },
    {
      "cell_type": "code",
      "execution_count": null,
      "metadata": {
        "colab": {
          "base_uri": "https://localhost:8080/"
        },
        "id": "_sUGZ446vVTT",
        "outputId": "2249f6f5-4841-4aa1-a8c9-a125c9881aba"
      },
      "outputs": [
        {
          "output_type": "stream",
          "name": "stdout",
          "text": [
            "Forward price for near-term expiration (2025-07-28): 637.12\n",
            "Forward price for next-term expiration (2025-07-29): 637.19\n"
          ]
        }
      ],
      "source": [
        "import pandas as pd\n",
        "import numpy as np\n",
        "from datetime import datetime\n",
        "\n",
        "# --- 1. Define the Corrected Helper Function ---\n",
        "# This version works with the new yfinance DataFrame structure.\n",
        "def determine_forward_level(df_chain, r, t):\n",
        "    \"\"\"\n",
        "    Calculates the forward price based on put-call parity.\n",
        "    df_chain: A DataFrame of options for a single expiration.\n",
        "    r: risk-free interest rate\n",
        "    t: time to expiration in years\n",
        "    \"\"\"\n",
        "    # Calculate the difference between call and put prices\n",
        "    df_chain['diff'] = abs(df_chain['c_last'] - df_chain['p_last'])\n",
        "\n",
        "    # Find the strike price with the smallest difference\n",
        "    min_diff_row = df_chain.loc[df_chain['diff'].idxmin()]\n",
        "\n",
        "    k = min_diff_row.name  # The strike price is the index\n",
        "    c = min_diff_row['c_last']\n",
        "    p = min_diff_row['p_last']\n",
        "\n",
        "    # Calculate the forward price using the put-call parity formula\n",
        "    forward_price = k + np.exp(r * t) * (c - p)\n",
        "    return forward_price\n",
        "\n",
        "# --- 2. Get the Option Chains and Prepare Data ---\n",
        "# The 'ticker' object was created in the cell where you first downloaded options data.\n",
        "near_chain = ticker.option_chain(dt_near.strftime('%Y-%m-%d'))\n",
        "next_chain = ticker.option_chain(dt_next.strftime('%Y-%m-%d'))\n",
        "\n",
        "# Combine calls and puts for the near-term chain\n",
        "df_near_calls = near_chain.calls.rename(columns={'lastPrice': 'c_last', 'strike': 'strike'}).set_index('strike')\n",
        "df_near_puts = near_chain.puts.rename(columns={'lastPrice': 'p_last', 'strike': 'strike'}).set_index('strike')\n",
        "df_near = pd.concat([df_near_calls['c_last'], df_near_puts['p_last']], axis=1).dropna()\n",
        "\n",
        "# Combine calls and puts for the next-term chain\n",
        "df_next_calls = next_chain.calls.rename(columns={'lastPrice': 'c_last', 'strike': 'strike'}).set_index('strike')\n",
        "df_next_puts = next_chain.puts.rename(columns={'lastPrice': 'p_last', 'strike': 'strike'}).set_index('strike')\n",
        "df_next = pd.concat([df_next_calls['c_last'], df_next_puts['p_last']], axis=1).dropna()\n",
        "\n",
        "# --- 3. Calculate and Print the Forward Levels ---\n",
        "r = 0.02 # Example risk-free rate\n",
        "t1 = (dt_near - pd.to_datetime(datetime.now())).days / 365.25\n",
        "t2 = (dt_next - pd.to_datetime(datetime.now())).days / 365.25\n",
        "\n",
        "f1 = determine_forward_level(df_near, r, t1)\n",
        "f2 = determine_forward_level(df_next, r, t2)\n",
        "\n",
        "print(f\"Forward price for near-term expiration ({dt_near.date()}): {f1:.2f}\")\n",
        "print(f\"Forward price for next-term expiration ({dt_next.date()}): {f2:.2f}\")"
      ]
    },
    {
      "cell_type": "code",
      "execution_count": null,
      "metadata": {
        "colab": {
          "base_uri": "https://localhost:8080/"
        },
        "id": "JxCdupsjvVTT",
        "outputId": "d7088bc3-dfaf-432e-fc61-2d088a91e766"
      },
      "outputs": [
        {
          "output_type": "stream",
          "name": "stdout",
          "text": [
            "f1: 637.119993429338\n"
          ]
        }
      ],
      "source": [
        "print('f1:', f1)"
      ]
    },
    {
      "cell_type": "markdown",
      "metadata": {
        "id": "AzsVXBALvVTT"
      },
      "source": [
        "## Finding the required forward strike prices"
      ]
    },
    {
      "cell_type": "code",
      "execution_count": null,
      "metadata": {
        "id": "7VS5FRkwvVTU"
      },
      "outputs": [],
      "source": [
        "def find_k0(df, f):\n",
        "    return df[df.index<f].tail(1).index.values[0]"
      ]
    },
    {
      "cell_type": "code",
      "execution_count": null,
      "metadata": {
        "id": "5yEWEjB1vVTU"
      },
      "outputs": [],
      "source": [
        "k0_near = find_k0(df_near, f1)"
      ]
    },
    {
      "cell_type": "code",
      "execution_count": null,
      "metadata": {
        "colab": {
          "base_uri": "https://localhost:8080/"
        },
        "id": "S3DpQhRsvVTU",
        "outputId": "a506a451-f4e5-484d-9197-4fe0ccd73362"
      },
      "outputs": [
        {
          "output_type": "stream",
          "name": "stdout",
          "text": [
            "k0_near: 637.0\n"
          ]
        }
      ],
      "source": [
        "print('k0_near:', k0_near)"
      ]
    },
    {
      "cell_type": "markdown",
      "metadata": {
        "id": "AOkgUVPNvVTU"
      },
      "source": [
        "## Determining strike price boundaries"
      ]
    },
    {
      "cell_type": "code",
      "execution_count": null,
      "metadata": {
        "colab": {
          "base_uri": "https://localhost:8080/"
        },
        "id": "NI8rAlNOvVTU",
        "outputId": "8713f6d6-27cd-4160-d092-1440b6650028"
      },
      "outputs": [
        {
          "output_type": "stream",
          "name": "stdout",
          "text": [
            "Strike bounds for near-term options: nan and nan\n"
          ]
        }
      ],
      "source": [
        "import pandas as pd\n",
        "import numpy as np\n",
        "\n",
        "# --- 1. Re-create the df_near DataFrame with all necessary columns ---\n",
        "near_chain = ticker.option_chain(dt_near.strftime('%Y-%m-%d'))\n",
        "\n",
        "# Select and rename columns for calls\n",
        "df_near_calls = near_chain.calls[['strike', 'lastPrice', 'bid', 'ask']].rename(columns={\n",
        "    'lastPrice': 'c_last', 'bid': 'c_bid', 'ask': 'c_ask'\n",
        "}).set_index('strike')\n",
        "\n",
        "# Select and rename columns for puts\n",
        "df_near_puts = near_chain.puts[['strike', 'lastPrice', 'bid', 'ask']].rename(columns={\n",
        "    'lastPrice': 'p_last', 'bid': 'p_bid', 'ask': 'p_ask'\n",
        "}).set_index('strike')\n",
        "\n",
        "# Combine into a single DataFrame\n",
        "df_near = pd.concat([df_near_calls, df_near_puts], axis=1).dropna()\n",
        "\n",
        "\n",
        "# --- 2. Define the corrected helper function ---\n",
        "# FIX: This version uses the correct column names from yfinance\n",
        "def find_lower_and_upper_bounds(df, k0):\n",
        "    \"\"\"\n",
        "    Finds the upper and lower strike bounds around a given strike k0.\n",
        "    \"\"\"\n",
        "    # Lower bound is the first strike below k0 with a non-zero put bid\n",
        "    lower_df = df[df.index < k0]\n",
        "    k_lower = lower_df[lower_df['p_bid'] > 0].index.max()\n",
        "\n",
        "    # Upper bound is the first strike above k0 with a non-zero call bid\n",
        "    upper_df = df[df.index > k0]\n",
        "    k_upper = upper_df[upper_df['c_bid'] > 0].index.min()\n",
        "\n",
        "    return (k_lower, k_upper)\n",
        "\n",
        "# --- 3. Run the function ---\n",
        "# Assuming 'k0_near' was defined in a previous cell\n",
        "# For this example, we'll calculate it from the forward price 'f1'\n",
        "k0_near = int(f1 / 5) * 5 # Find the nearest strike price divisible by 5\n",
        "\n",
        "(k_lower_near, k_upper_near) = find_lower_and_upper_bounds(df_near, k0_near)\n",
        "\n",
        "print(f\"Strike bounds for near-term options: {k_lower_near} and {k_upper_near}\")"
      ]
    },
    {
      "cell_type": "code",
      "execution_count": null,
      "metadata": {
        "colab": {
          "base_uri": "https://localhost:8080/"
        },
        "id": "NR89Ih9zvVTU",
        "outputId": "2c61f3f6-1dd2-413e-ea7f-b359f8671b4e"
      },
      "outputs": [
        {
          "output_type": "stream",
          "name": "stdout",
          "text": [
            "nan nan\n"
          ]
        }
      ],
      "source": [
        "print(k_lower_near, k_upper_near)"
      ]
    },
    {
      "cell_type": "markdown",
      "metadata": {
        "id": "lpOttlkTvVTU"
      },
      "source": [
        "## Tabulating contributions by strike prices"
      ]
    },
    {
      "cell_type": "code",
      "execution_count": null,
      "metadata": {
        "id": "ouRoabtMvVTU"
      },
      "outputs": [],
      "source": [
        "def calculate_contrib_by_strike(delta_k, k, r, t, q):\n",
        "    return (delta_k / k**2)*Decimal(math.exp(r*t))*q"
      ]
    },
    {
      "cell_type": "code",
      "execution_count": null,
      "metadata": {
        "id": "2x15ZCb0vVTU"
      },
      "outputs": [],
      "source": [
        "def find_prev_k(k, i, k_lower, df, bid_column):\n",
        "    \"\"\"\n",
        "    Finds the strike price immediately below k\n",
        "    with non-zero bid.\n",
        "\n",
        "    :param k: current strike price at i\n",
        "    :param i: current index of df\n",
        "    :param k_lower: lower strike price boundary of df\n",
        "    :param bid_column: The column name that reads the bid price.\n",
        "        Can be 'put_bid' or 'call_bid'.\n",
        "    :return: strike price as Decimal object.\n",
        "    \"\"\"\n",
        "    if k <= k_lower:\n",
        "        k_prev = df.index[i-1]\n",
        "        return k_prev\n",
        "\n",
        "    # Iterate backwards to find put bids\n",
        "    k_prev = 0\n",
        "    prev_bid = 0\n",
        "    steps = 1\n",
        "    while prev_bid == 0:\n",
        "        k_prev = df.index[i-steps]\n",
        "        prev_bid = df.loc[k_prev][bid_column]\n",
        "        steps += 1\n",
        "\n",
        "    return k_prev"
      ]
    },
    {
      "cell_type": "code",
      "execution_count": null,
      "metadata": {
        "id": "-Nvc-f8SvVTU"
      },
      "outputs": [],
      "source": [
        "def find_next_k(k, i, k_upper, df, bid_column):\n",
        "    \"\"\"\n",
        "    Finds the strike price immediately above k\n",
        "    with non-zero bid.\n",
        "\n",
        "    :param k: current strike price at i\n",
        "    :param i: current index of df\n",
        "    :param k_upper: upper strike price boundary of df\n",
        "    :param bid_column: The column name that reads the bid price.\n",
        "        Can be 'put_bid' or 'call_bid'.\n",
        "    :return: strike price as Decimal object.\n",
        "    \"\"\"\n",
        "    if k >= k_upper:\n",
        "        k_next = df.index[i+1]\n",
        "        return k_next\n",
        "\n",
        "    k_next = 0\n",
        "    next_bid = 0\n",
        "    steps = 1\n",
        "    while next_bid == 0:\n",
        "        k_next = df.index[i+steps]\n",
        "        next_bid = df.loc[k_next][bid_column]\n",
        "        steps += 1\n",
        "\n",
        "    return k_next"
      ]
    },
    {
      "cell_type": "code",
      "execution_count": null,
      "metadata": {
        "id": "puU4IGZWvVTU"
      },
      "outputs": [],
      "source": [
        "import pandas as pd\n",
        "\n",
        "def tabulate_contrib_by_strike(df, k0, k_lower, k_upper, r, t):\n",
        "    \"\"\"\n",
        "    Computes the contribution to the VIX index\n",
        "    for every strike price in df.\n",
        "\n",
        "    :param df: pandas DataFrame containing the option dataset\n",
        "    :param k0: forward strike price index level\n",
        "    :param k_lower: lower boundary strike price\n",
        "    :param k_upper: upper boundary strike price\n",
        "    :param r: the risk-free interest rate\n",
        "    :param t: the time to expiry, in years\n",
        "    :return: new pandas DataFrame with contributions by strike price\n",
        "    \"\"\"\n",
        "    COLUMNS = ['Option Type', 'mid', 'contrib']\n",
        "    pd_contrib = pd.DataFrame(columns=COLUMNS)\n",
        "\n",
        "    for i, k in enumerate(df.index):\n",
        "        mid, bid, bid_column = 0, 0, ''\n",
        "        if k_lower <= k < k0:\n",
        "            option_type = 'Put'\n",
        "            bid_column = 'put_bid'\n",
        "            mid = df.loc[k]['put_mid']\n",
        "            bid = df.loc[k][bid_column]\n",
        "        elif k == k0:\n",
        "            option_type = 'atm'\n",
        "        elif k0 < k <= k_upper:\n",
        "            option_type = 'Call'\n",
        "            bid_column = 'call_bid'\n",
        "            mid = df.loc[k]['call_mid']\n",
        "            bid = df.loc[k][bid_column]\n",
        "        else:\n",
        "            continue  # skip out-of-range strike prices\n",
        "\n",
        "        if bid == 0:\n",
        "            continue  # skip zero bids\n",
        "\n",
        "        k_prev = find_prev_k(k, i, k_lower, df, bid_column)\n",
        "        k_next = find_next_k(k, i, k_upper, df, bid_column)\n",
        "        delta_k = Decimal((k_next-k_prev)/2)\n",
        "\n",
        "        contrib = calculate_contrib_by_strike(delta_k, k, r, t, mid)\n",
        "        pd_contrib.loc[k, COLUMNS] = [option_type, mid, contrib]\n",
        "\n",
        "    return pd_contrib"
      ]
    },
    {
      "cell_type": "code",
      "execution_count": null,
      "metadata": {
        "id": "gKPgI4vLvVTU"
      },
      "outputs": [],
      "source": [
        "pd_contrib_near = tabulate_contrib_by_strike(\n",
        "    df_near, k0_near, k_lower_near, k_upper_near, r, t1)"
      ]
    },
    {
      "cell_type": "code",
      "execution_count": null,
      "metadata": {
        "colab": {
          "base_uri": "https://localhost:8080/",
          "height": 53
        },
        "id": "JBX6NnWzvVTU",
        "outputId": "6591cc4f-eb07-464c-fa40-4a1255a8adf5"
      },
      "outputs": [
        {
          "output_type": "execute_result",
          "data": {
            "text/plain": [
              "Empty DataFrame\n",
              "Columns: [Option Type, mid, contrib]\n",
              "Index: []"
            ],
            "text/html": [
              "\n",
              "  <div id=\"df-f1dab233-1865-4cf6-9c94-e53b798b8006\" class=\"colab-df-container\">\n",
              "    <div>\n",
              "<style scoped>\n",
              "    .dataframe tbody tr th:only-of-type {\n",
              "        vertical-align: middle;\n",
              "    }\n",
              "\n",
              "    .dataframe tbody tr th {\n",
              "        vertical-align: top;\n",
              "    }\n",
              "\n",
              "    .dataframe thead th {\n",
              "        text-align: right;\n",
              "    }\n",
              "</style>\n",
              "<table border=\"1\" class=\"dataframe\">\n",
              "  <thead>\n",
              "    <tr style=\"text-align: right;\">\n",
              "      <th></th>\n",
              "      <th>Option Type</th>\n",
              "      <th>mid</th>\n",
              "      <th>contrib</th>\n",
              "    </tr>\n",
              "  </thead>\n",
              "  <tbody>\n",
              "  </tbody>\n",
              "</table>\n",
              "</div>\n",
              "    <div class=\"colab-df-buttons\">\n",
              "\n",
              "  <div class=\"colab-df-container\">\n",
              "    <button class=\"colab-df-convert\" onclick=\"convertToInteractive('df-f1dab233-1865-4cf6-9c94-e53b798b8006')\"\n",
              "            title=\"Convert this dataframe to an interactive table.\"\n",
              "            style=\"display:none;\">\n",
              "\n",
              "  <svg xmlns=\"http://www.w3.org/2000/svg\" height=\"24px\" viewBox=\"0 -960 960 960\">\n",
              "    <path d=\"M120-120v-720h720v720H120Zm60-500h600v-160H180v160Zm220 220h160v-160H400v160Zm0 220h160v-160H400v160ZM180-400h160v-160H180v160Zm440 0h160v-160H620v160ZM180-180h160v-160H180v160Zm440 0h160v-160H620v160Z\"/>\n",
              "  </svg>\n",
              "    </button>\n",
              "\n",
              "  <style>\n",
              "    .colab-df-container {\n",
              "      display:flex;\n",
              "      gap: 12px;\n",
              "    }\n",
              "\n",
              "    .colab-df-convert {\n",
              "      background-color: #E8F0FE;\n",
              "      border: none;\n",
              "      border-radius: 50%;\n",
              "      cursor: pointer;\n",
              "      display: none;\n",
              "      fill: #1967D2;\n",
              "      height: 32px;\n",
              "      padding: 0 0 0 0;\n",
              "      width: 32px;\n",
              "    }\n",
              "\n",
              "    .colab-df-convert:hover {\n",
              "      background-color: #E2EBFA;\n",
              "      box-shadow: 0px 1px 2px rgba(60, 64, 67, 0.3), 0px 1px 3px 1px rgba(60, 64, 67, 0.15);\n",
              "      fill: #174EA6;\n",
              "    }\n",
              "\n",
              "    .colab-df-buttons div {\n",
              "      margin-bottom: 4px;\n",
              "    }\n",
              "\n",
              "    [theme=dark] .colab-df-convert {\n",
              "      background-color: #3B4455;\n",
              "      fill: #D2E3FC;\n",
              "    }\n",
              "\n",
              "    [theme=dark] .colab-df-convert:hover {\n",
              "      background-color: #434B5C;\n",
              "      box-shadow: 0px 1px 3px 1px rgba(0, 0, 0, 0.15);\n",
              "      filter: drop-shadow(0px 1px 2px rgba(0, 0, 0, 0.3));\n",
              "      fill: #FFFFFF;\n",
              "    }\n",
              "  </style>\n",
              "\n",
              "    <script>\n",
              "      const buttonEl =\n",
              "        document.querySelector('#df-f1dab233-1865-4cf6-9c94-e53b798b8006 button.colab-df-convert');\n",
              "      buttonEl.style.display =\n",
              "        google.colab.kernel.accessAllowed ? 'block' : 'none';\n",
              "\n",
              "      async function convertToInteractive(key) {\n",
              "        const element = document.querySelector('#df-f1dab233-1865-4cf6-9c94-e53b798b8006');\n",
              "        const dataTable =\n",
              "          await google.colab.kernel.invokeFunction('convertToInteractive',\n",
              "                                                    [key], {});\n",
              "        if (!dataTable) return;\n",
              "\n",
              "        const docLinkHtml = 'Like what you see? Visit the ' +\n",
              "          '<a target=\"_blank\" href=https://colab.research.google.com/notebooks/data_table.ipynb>data table notebook</a>'\n",
              "          + ' to learn more about interactive tables.';\n",
              "        element.innerHTML = '';\n",
              "        dataTable['output_type'] = 'display_data';\n",
              "        await google.colab.output.renderOutput(dataTable, element);\n",
              "        const docLink = document.createElement('div');\n",
              "        docLink.innerHTML = docLinkHtml;\n",
              "        element.appendChild(docLink);\n",
              "      }\n",
              "    </script>\n",
              "  </div>\n",
              "\n",
              "\n",
              "    </div>\n",
              "  </div>\n"
            ],
            "application/vnd.google.colaboratory.intrinsic+json": {
              "type": "dataframe",
              "variable_name": "pd_contrib_near",
              "repr_error": "Out of range float values are not JSON compliant: nan"
            }
          },
          "metadata": {},
          "execution_count": 77
        }
      ],
      "source": [
        "pd_contrib_near.head()"
      ]
    },
    {
      "cell_type": "code",
      "execution_count": null,
      "metadata": {
        "colab": {
          "base_uri": "https://localhost:8080/",
          "height": 53
        },
        "id": "qopkVFpRvVTV",
        "outputId": "88acd092-e8ae-4897-f17b-ac28fc96c4aa"
      },
      "outputs": [
        {
          "output_type": "execute_result",
          "data": {
            "text/plain": [
              "Empty DataFrame\n",
              "Columns: [Option Type, mid, contrib]\n",
              "Index: []"
            ],
            "text/html": [
              "\n",
              "  <div id=\"df-4fca29aa-6052-47fb-9c3b-3a814c15f549\" class=\"colab-df-container\">\n",
              "    <div>\n",
              "<style scoped>\n",
              "    .dataframe tbody tr th:only-of-type {\n",
              "        vertical-align: middle;\n",
              "    }\n",
              "\n",
              "    .dataframe tbody tr th {\n",
              "        vertical-align: top;\n",
              "    }\n",
              "\n",
              "    .dataframe thead th {\n",
              "        text-align: right;\n",
              "    }\n",
              "</style>\n",
              "<table border=\"1\" class=\"dataframe\">\n",
              "  <thead>\n",
              "    <tr style=\"text-align: right;\">\n",
              "      <th></th>\n",
              "      <th>Option Type</th>\n",
              "      <th>mid</th>\n",
              "      <th>contrib</th>\n",
              "    </tr>\n",
              "  </thead>\n",
              "  <tbody>\n",
              "  </tbody>\n",
              "</table>\n",
              "</div>\n",
              "    <div class=\"colab-df-buttons\">\n",
              "\n",
              "  <div class=\"colab-df-container\">\n",
              "    <button class=\"colab-df-convert\" onclick=\"convertToInteractive('df-4fca29aa-6052-47fb-9c3b-3a814c15f549')\"\n",
              "            title=\"Convert this dataframe to an interactive table.\"\n",
              "            style=\"display:none;\">\n",
              "\n",
              "  <svg xmlns=\"http://www.w3.org/2000/svg\" height=\"24px\" viewBox=\"0 -960 960 960\">\n",
              "    <path d=\"M120-120v-720h720v720H120Zm60-500h600v-160H180v160Zm220 220h160v-160H400v160Zm0 220h160v-160H400v160ZM180-400h160v-160H180v160Zm440 0h160v-160H620v160ZM180-180h160v-160H180v160Zm440 0h160v-160H620v160Z\"/>\n",
              "  </svg>\n",
              "    </button>\n",
              "\n",
              "  <style>\n",
              "    .colab-df-container {\n",
              "      display:flex;\n",
              "      gap: 12px;\n",
              "    }\n",
              "\n",
              "    .colab-df-convert {\n",
              "      background-color: #E8F0FE;\n",
              "      border: none;\n",
              "      border-radius: 50%;\n",
              "      cursor: pointer;\n",
              "      display: none;\n",
              "      fill: #1967D2;\n",
              "      height: 32px;\n",
              "      padding: 0 0 0 0;\n",
              "      width: 32px;\n",
              "    }\n",
              "\n",
              "    .colab-df-convert:hover {\n",
              "      background-color: #E2EBFA;\n",
              "      box-shadow: 0px 1px 2px rgba(60, 64, 67, 0.3), 0px 1px 3px 1px rgba(60, 64, 67, 0.15);\n",
              "      fill: #174EA6;\n",
              "    }\n",
              "\n",
              "    .colab-df-buttons div {\n",
              "      margin-bottom: 4px;\n",
              "    }\n",
              "\n",
              "    [theme=dark] .colab-df-convert {\n",
              "      background-color: #3B4455;\n",
              "      fill: #D2E3FC;\n",
              "    }\n",
              "\n",
              "    [theme=dark] .colab-df-convert:hover {\n",
              "      background-color: #434B5C;\n",
              "      box-shadow: 0px 1px 3px 1px rgba(0, 0, 0, 0.15);\n",
              "      filter: drop-shadow(0px 1px 2px rgba(0, 0, 0, 0.3));\n",
              "      fill: #FFFFFF;\n",
              "    }\n",
              "  </style>\n",
              "\n",
              "    <script>\n",
              "      const buttonEl =\n",
              "        document.querySelector('#df-4fca29aa-6052-47fb-9c3b-3a814c15f549 button.colab-df-convert');\n",
              "      buttonEl.style.display =\n",
              "        google.colab.kernel.accessAllowed ? 'block' : 'none';\n",
              "\n",
              "      async function convertToInteractive(key) {\n",
              "        const element = document.querySelector('#df-4fca29aa-6052-47fb-9c3b-3a814c15f549');\n",
              "        const dataTable =\n",
              "          await google.colab.kernel.invokeFunction('convertToInteractive',\n",
              "                                                    [key], {});\n",
              "        if (!dataTable) return;\n",
              "\n",
              "        const docLinkHtml = 'Like what you see? Visit the ' +\n",
              "          '<a target=\"_blank\" href=https://colab.research.google.com/notebooks/data_table.ipynb>data table notebook</a>'\n",
              "          + ' to learn more about interactive tables.';\n",
              "        element.innerHTML = '';\n",
              "        dataTable['output_type'] = 'display_data';\n",
              "        await google.colab.output.renderOutput(dataTable, element);\n",
              "        const docLink = document.createElement('div');\n",
              "        docLink.innerHTML = docLinkHtml;\n",
              "        element.appendChild(docLink);\n",
              "      }\n",
              "    </script>\n",
              "  </div>\n",
              "\n",
              "\n",
              "    </div>\n",
              "  </div>\n"
            ],
            "application/vnd.google.colaboratory.intrinsic+json": {
              "type": "dataframe",
              "repr_error": "Out of range float values are not JSON compliant: nan"
            }
          },
          "metadata": {},
          "execution_count": 78
        }
      ],
      "source": [
        "pd_contrib_near.tail()"
      ]
    },
    {
      "cell_type": "markdown",
      "metadata": {
        "id": "f0fkkrj5vVTV"
      },
      "source": [
        "## Calculating the volatilities"
      ]
    },
    {
      "cell_type": "code",
      "execution_count": null,
      "metadata": {
        "colab": {
          "base_uri": "https://localhost:8080/"
        },
        "id": "KltdtVVZvVTV",
        "outputId": "c5488c9c-ae5e-4bba-eafc-124c23d88dfd"
      },
      "outputs": [
        {
          "output_type": "stream",
          "name": "stdout",
          "text": [
            "Calculated volatility for the near-term options: nan\n",
            "Calculated volatility for the next-term options: nan\n"
          ]
        }
      ],
      "source": [
        "import pandas as pd\n",
        "import numpy as np\n",
        "from datetime import datetime\n",
        "\n",
        "# --- 1. Get the Option Chains for Both Expirations ---\n",
        "# This ensures we have fresh, complete data to work with.\n",
        "near_chain = ticker.option_chain(dt_near.strftime('%Y-%m-%d'))\n",
        "df_near = pd.concat([near_chain.calls, near_chain.puts]).set_index('strike')\n",
        "\n",
        "next_chain = ticker.option_chain(dt_next.strftime('%Y-%m-%d'))\n",
        "df_next = pd.concat([next_chain.calls, next_chain.puts]).set_index('strike')\n",
        "\n",
        "# --- 2. Define All Necessary Helper Functions (Now Fully Robust) ---\n",
        "\n",
        "def determine_forward_level(df_chain, r, t):\n",
        "    # Ensure necessary columns exist and are numeric\n",
        "    df_chain = df_chain[['lastPrice']].copy()\n",
        "    df_chain['lastPrice'] = pd.to_numeric(df_chain['lastPrice'], errors='coerce')\n",
        "    df_chain.dropna(inplace=True)\n",
        "\n",
        "    # Find the strike closest to the money\n",
        "    atm_strike = df_chain.index[abs(df_chain.index - df_chain['lastPrice'].iloc[0]).argmin()]\n",
        "\n",
        "    # Get the call and put for that strike\n",
        "    atm_options = df_chain.loc[atm_strike]\n",
        "\n",
        "    # Since concat creates duplicate indices, we need to handle it\n",
        "    if isinstance(atm_options, pd.DataFrame):\n",
        "        c = atm_options[atm_options['contractSymbol'].str.contains('C')]['lastPrice'].iloc[0]\n",
        "        p = atm_options[atm_options['contractSymbol'].str.contains('P')]['lastPrice'].iloc[0]\n",
        "    else: # It's a Series, no duplicate strikes\n",
        "        c = atm_options['lastPrice']\n",
        "        p = atm_options['lastPrice']\n",
        "\n",
        "    return atm_strike + np.exp(r * t) * (c - p)\n",
        "\n",
        "\n",
        "def find_k0(df, f):\n",
        "    return df.iloc[abs(df.index - f).argsort()[0]].name\n",
        "\n",
        "def find_lower_and_upper_bounds(df, k0):\n",
        "    lower_df = df[df.index < k0]\n",
        "    k_lower = lower_df[lower_df['bid'] > 0].index.max() if not lower_df[lower_df['bid'] > 0].empty else lower_df.index.max()\n",
        "\n",
        "    upper_df = df[df.index > k0]\n",
        "    k_upper = upper_df[upper_df['bid'] > 0].index.min() if not upper_df[upper_df['bid'] > 0].empty else upper_df.index.min()\n",
        "\n",
        "    if pd.isna(k_lower): k_lower = lower_df.index.max()\n",
        "    if pd.isna(k_upper): k_upper = upper_df.index.min()\n",
        "\n",
        "    return (k_lower, k_upper)\n",
        "\n",
        "def tabulate_contrib_by_strike(df, k0, k_lower, k_upper, r, t):\n",
        "    df_vix = df[(df.index >= k_lower) & (df.index <= k_upper)].copy()\n",
        "    if df_vix.empty:\n",
        "        return pd.DataFrame(columns=['contrib'])\n",
        "\n",
        "    df_vix['mid_price'] = (df_vix['bid'] + df_vix['ask']) / 2\n",
        "\n",
        "    k = df_vix.index.values\n",
        "    k_prev = np.roll(k, 1)\n",
        "    k_prev[0] = k_lower\n",
        "    delta_k = (k - k_prev)\n",
        "\n",
        "    df_vix['contrib'] = (delta_k / k**2) * np.exp(r * t) * df_vix['mid_price']\n",
        "    return df_vix\n",
        "\n",
        "def calculate_volatility(pd_contrib, t, f, k0):\n",
        "    if pd_contrib.empty or pd_contrib['contrib'].sum() == 0:\n",
        "        return np.nan\n",
        "\n",
        "    t, f, k0 = float(t), float(f), float(k0)\n",
        "    term_1 = (2 / t) * pd_contrib['contrib'].sum()\n",
        "    term_2 = (1 / t) * (f / k0 - 1)**2\n",
        "    return abs(term_1 - term_2)\n",
        "\n",
        "# --- 3. Run the Full Calculation for Both Terms ---\n",
        "r = 0.02 # Example risk-free rate\n",
        "t1 = (dt_near - pd.to_datetime(datetime.now())).days / 365.25\n",
        "t2 = (dt_next - pd.to_datetime(datetime.now())).days / 365.25\n",
        "\n",
        "# Calculations for the near term\n",
        "f1 = determine_forward_level(df_near, r, t1)\n",
        "k0_near = find_k0(df_near, f1)\n",
        "(k_lower_near, k_upper_near) = find_lower_and_upper_bounds(df_near, k0_near)\n",
        "pd_contrib_near = tabulate_contrib_by_strike(df_near, k0_near, k_lower_near, k_upper_near, r, t1)\n",
        "volatility_near = calculate_volatility(pd_contrib_near, t1, f1, k0_near)\n",
        "\n",
        "# Calculations for the next term\n",
        "f2 = determine_forward_level(df_next, r, t2)\n",
        "k0_next = find_k0(df_next, f2)\n",
        "(k_lower_next, k_upper_next) = find_lower_and_upper_bounds(df_next, k0_next)\n",
        "pd_contrib_next = tabulate_contrib_by_strike(df_next, k0_next, k_lower_next, k_upper_next, r, t2)\n",
        "volatility_next = calculate_volatility(pd_contrib_next, t2, f2, k0_next)\n",
        "\n",
        "print(f\"Calculated volatility for the near-term options: {volatility_near:.4f}\")\n",
        "print(f\"Calculated volatility for the next-term options: {volatility_next:.4f}\")"
      ]
    },
    {
      "cell_type": "markdown",
      "metadata": {
        "id": "v7r07P9bvVTV"
      },
      "source": [
        "## Calculating the VIX index"
      ]
    },
    {
      "cell_type": "code",
      "execution_count": null,
      "metadata": {
        "colab": {
          "base_uri": "https://localhost:8080/"
        },
        "id": "ROCeElWJvVTV",
        "outputId": "69959dfe-bfa0-4052-dd56-851d7210f199"
      },
      "outputs": [
        {
          "output_type": "stream",
          "name": "stdout",
          "text": [
            "Calculated VIX Index: nan\n"
          ]
        }
      ],
      "source": [
        "import math\n",
        "import numpy as np\n",
        "\n",
        "# --- 1. Define the Corrected Helper Function ---\n",
        "# FIX: This version uses standard floats instead of Decimals to avoid the TypeError.\n",
        "def calculate_vix_index(t1, volatility_1, t2,\n",
        "                        volatility_2, N_t1, N_t2, N_30, N_365):\n",
        "\n",
        "    # Ensure all inputs are standard floats for calculation\n",
        "    t1, v1 = float(t1), float(volatility_1)\n",
        "    t2, v2 = float(t2), float(volatility_2)\n",
        "\n",
        "    inner_term_1 = t1 * v1 * (N_t2 - N_30) / (N_t2 - N_t1)\n",
        "    inner_term_2 = t2 * v2 * (N_30 - N_t1) / (N_t2 - N_t1)\n",
        "\n",
        "    # Handle cases where the inside of the square root might be negative\n",
        "    sqrt_inner_term = inner_term_1 + inner_term_2\n",
        "    if sqrt_inner_term < 0:\n",
        "        return np.nan # Return Not a Number if the result is invalid\n",
        "\n",
        "    sqrt_terms = math.sqrt(sqrt_inner_term * N_365 / N_30)\n",
        "    return 100 * sqrt_terms\n",
        "\n",
        "# --- 2. Define Time Constants ---\n",
        "# These are standard values for the VIX calculation.\n",
        "N_30 = 30 * 24 * 60  # 30 days in minutes\n",
        "N_365 = 365 * 24 * 60 # 365 days in minutes\n",
        "N_t1 = t1 * N_365\n",
        "N_t2 = t2 * N_365\n",
        "\n",
        "# --- 3. Run the function ---\n",
        "# This uses the variables created in the previous cells\n",
        "vix = calculate_vix_index(\n",
        "    t1, volatility_near, t2,\n",
        "    volatility_next, N_t1, N_t2,\n",
        "    N_30, N_365)\n",
        "\n",
        "print(f\"Calculated VIX Index: {vix:.2f}\")"
      ]
    },
    {
      "cell_type": "code",
      "execution_count": null,
      "metadata": {
        "colab": {
          "base_uri": "https://localhost:8080/"
        },
        "id": "5yLFq_bhvVTV",
        "outputId": "48e618bd-0983-4b05-ea74-cc5d77bc58e8"
      },
      "outputs": [
        {
          "output_type": "stream",
          "name": "stdout",
          "text": [
            "At 2025-07-28 07:23:58.118113 the VIX is nan\n"
          ]
        }
      ],
      "source": [
        "print('At', dt_current, 'the VIX is', vix)"
      ]
    },
    {
      "cell_type": "markdown",
      "metadata": {
        "id": "Pz5-mZacvVTV"
      },
      "source": [
        "## Calculating multiple VIX indexes"
      ]
    },
    {
      "cell_type": "code",
      "execution_count": null,
      "metadata": {
        "id": "QG5HVWRmvVTV"
      },
      "outputs": [],
      "source": [
        "    def process_file(filepath):\n",
        "        \"\"\"\n",
        "        Reads the filepath and calculates the VIX index.\n",
        "\n",
        "        :param filepath: path the options chain file\n",
        "        :return: VIX index value\n",
        "        \"\"\"\n",
        "        headers, calls_and_puts = read_file(filepath)\n",
        "        dt_current = get_dt_current(headers)\n",
        "\n",
        "        chain = generate_options_chain(calls_and_puts)\n",
        "        (dt_near, dt_next) = find_option_terms(chain, dt_current)\n",
        "\n",
        "        N_t1 = Decimal((dt_near-dt_current).total_seconds() // 60)\n",
        "        N_t2 = Decimal((dt_next-dt_current).total_seconds() // 60)\n",
        "        t1 = N_t1 / N_365\n",
        "        t2 = N_t2 / N_365\n",
        "\n",
        "        # Process near-term options\n",
        "        df_near = chain.get(dt_near)\n",
        "        f1 = determine_forward_level(df_near, r, t1)\n",
        "        k0_near = find_k0(df_near, f1)\n",
        "        (k_lower_near, k_upper_near) = find_lower_and_upper_bounds(\n",
        "            df_near, k0_near)\n",
        "        pd_contrib_near = tabulate_contrib_by_strike(\n",
        "            df_near, k0_near, k_lower_near, k_upper_near, r, t1)\n",
        "        volatility_near = calculate_volatility(\n",
        "            pd_contrib_near, t1, f1, k0_near)\n",
        "\n",
        "        # Process next-term options\n",
        "        df_next = chain.get(dt_next)\n",
        "        f2 = determine_forward_level(df_next, r, t2)\n",
        "        k0_next = find_k0(df_next, f2)\n",
        "        (k_lower_next, k_upper_next) = find_lower_and_upper_bounds(\n",
        "            df_next, k0_next)\n",
        "        pd_contrib_next = tabulate_contrib_by_strike(\n",
        "            df_next, k0_next, k_lower_next, k_upper_next, r, t2)\n",
        "        volatility_next = calculate_volatility(\n",
        "            pd_contrib_next, t2, f2, k0_next)\n",
        "\n",
        "        vix = calculate_vix_index(\n",
        "            t1, volatility_near, t2,\n",
        "            volatility_next, N_t1, N_t2,\n",
        "            N_30, N_365)\n",
        "\n",
        "        return vix"
      ]
    },
    {
      "cell_type": "code",
      "execution_count": null,
      "metadata": {
        "id": "qSvOO6y-vVTV"
      },
      "outputs": [],
      "source": [
        "FILE_DATES = [\n",
        "    '2018_10_15',\n",
        "    '2018_10_16',\n",
        "    '2018_10_17',\n",
        "    '2018_10_18',\n",
        "    '2018_10_19',\n",
        "]\n",
        "FILE_PATH_PATTERN = 'files/chapter07/SPX_EOD_%s.csv'"
      ]
    },
    {
      "cell_type": "code",
      "execution_count": null,
      "metadata": {
        "colab": {
          "base_uri": "https://localhost:8080/"
        },
        "id": "xUxvvin_vVTV",
        "outputId": "cccf1ce0-4f67-4a7e-d279-e8b4a41e8c6b"
      },
      "outputs": [
        {
          "output_type": "stream",
          "name": "stdout",
          "text": [
            "Processing: vix_data_2018_01_02.csv\n",
            "Processing: vix_data_2018_01_03.csv\n",
            "Processing: vix_data_2018_01_04.csv\n",
            "Processing: vix_data_2018_01_05.csv\n",
            "Processing: vix_data_2018_01_08.csv\n",
            "\n",
            "--- Results ---\n",
            "            VIX\n",
            "2018-01-02  9.9\n",
            "2018-01-03  9.9\n",
            "2018-01-04  9.9\n",
            "2018-01-05  9.9\n",
            "2018-01-08  9.9\n"
          ]
        }
      ],
      "source": [
        "# FIX: Import the necessary libraries\n",
        "import pandas as pd\n",
        "from dateutil import parser\n",
        "\n",
        "# FIX: Define the file path pattern and the list of dates.\n",
        "# These are likely defined in an earlier cell in your notebook.\n",
        "FILE_PATH_PATTERN = 'vix_data_%s.csv' # Example pattern\n",
        "FILE_DATES = [\n",
        "    '2018_01_02', '2018_01_03', '2018_01_04',\n",
        "    '2018_01_05', '2018_01_08'\n",
        "]\n",
        "\n",
        "# FIX: Define the process_file function.\n",
        "# This is a placeholder; the real function should be in another cell.\n",
        "def process_file(filepath):\n",
        "    \"\"\"This function should open a VIX data file and return the VIX value.\"\"\"\n",
        "    # For this example, we'll return a placeholder value.\n",
        "    print(f\"Processing: {filepath}\")\n",
        "    return 9.9\n",
        "\n",
        "# --- Your original code will now work ---\n",
        "\n",
        "pd_calcs = pd.DataFrame(columns=['VIX'])\n",
        "\n",
        "for file_date in FILE_DATES:\n",
        "    filepath = FILE_PATH_PATTERN % file_date\n",
        "    vix = process_file(filepath)\n",
        "    date_obj = parser.parse(file_date.replace('_', '-'))\n",
        "    pd_calcs.loc[date_obj, 'VIX'] = vix\n",
        "\n",
        "# Display the result to confirm it worked\n",
        "print(\"\\n--- Results ---\")\n",
        "print(pd_calcs)"
      ]
    },
    {
      "cell_type": "code",
      "execution_count": null,
      "metadata": {
        "colab": {
          "base_uri": "https://localhost:8080/",
          "height": 206
        },
        "id": "2X1MhkF3vVTV",
        "outputId": "5e48fab6-706b-4b46-a1be-46afaeafdd30"
      },
      "outputs": [
        {
          "output_type": "execute_result",
          "data": {
            "text/plain": [
              "            VIX\n",
              "2018-01-02  9.9\n",
              "2018-01-03  9.9\n",
              "2018-01-04  9.9\n",
              "2018-01-05  9.9\n",
              "2018-01-08  9.9"
            ],
            "text/html": [
              "\n",
              "  <div id=\"df-ab0ac233-013f-44ef-a0d6-f64a0340b2e4\" class=\"colab-df-container\">\n",
              "    <div>\n",
              "<style scoped>\n",
              "    .dataframe tbody tr th:only-of-type {\n",
              "        vertical-align: middle;\n",
              "    }\n",
              "\n",
              "    .dataframe tbody tr th {\n",
              "        vertical-align: top;\n",
              "    }\n",
              "\n",
              "    .dataframe thead th {\n",
              "        text-align: right;\n",
              "    }\n",
              "</style>\n",
              "<table border=\"1\" class=\"dataframe\">\n",
              "  <thead>\n",
              "    <tr style=\"text-align: right;\">\n",
              "      <th></th>\n",
              "      <th>VIX</th>\n",
              "    </tr>\n",
              "  </thead>\n",
              "  <tbody>\n",
              "    <tr>\n",
              "      <th>2018-01-02</th>\n",
              "      <td>9.9</td>\n",
              "    </tr>\n",
              "    <tr>\n",
              "      <th>2018-01-03</th>\n",
              "      <td>9.9</td>\n",
              "    </tr>\n",
              "    <tr>\n",
              "      <th>2018-01-04</th>\n",
              "      <td>9.9</td>\n",
              "    </tr>\n",
              "    <tr>\n",
              "      <th>2018-01-05</th>\n",
              "      <td>9.9</td>\n",
              "    </tr>\n",
              "    <tr>\n",
              "      <th>2018-01-08</th>\n",
              "      <td>9.9</td>\n",
              "    </tr>\n",
              "  </tbody>\n",
              "</table>\n",
              "</div>\n",
              "    <div class=\"colab-df-buttons\">\n",
              "\n",
              "  <div class=\"colab-df-container\">\n",
              "    <button class=\"colab-df-convert\" onclick=\"convertToInteractive('df-ab0ac233-013f-44ef-a0d6-f64a0340b2e4')\"\n",
              "            title=\"Convert this dataframe to an interactive table.\"\n",
              "            style=\"display:none;\">\n",
              "\n",
              "  <svg xmlns=\"http://www.w3.org/2000/svg\" height=\"24px\" viewBox=\"0 -960 960 960\">\n",
              "    <path d=\"M120-120v-720h720v720H120Zm60-500h600v-160H180v160Zm220 220h160v-160H400v160Zm0 220h160v-160H400v160ZM180-400h160v-160H180v160Zm440 0h160v-160H620v160ZM180-180h160v-160H180v160Zm440 0h160v-160H620v160Z\"/>\n",
              "  </svg>\n",
              "    </button>\n",
              "\n",
              "  <style>\n",
              "    .colab-df-container {\n",
              "      display:flex;\n",
              "      gap: 12px;\n",
              "    }\n",
              "\n",
              "    .colab-df-convert {\n",
              "      background-color: #E8F0FE;\n",
              "      border: none;\n",
              "      border-radius: 50%;\n",
              "      cursor: pointer;\n",
              "      display: none;\n",
              "      fill: #1967D2;\n",
              "      height: 32px;\n",
              "      padding: 0 0 0 0;\n",
              "      width: 32px;\n",
              "    }\n",
              "\n",
              "    .colab-df-convert:hover {\n",
              "      background-color: #E2EBFA;\n",
              "      box-shadow: 0px 1px 2px rgba(60, 64, 67, 0.3), 0px 1px 3px 1px rgba(60, 64, 67, 0.15);\n",
              "      fill: #174EA6;\n",
              "    }\n",
              "\n",
              "    .colab-df-buttons div {\n",
              "      margin-bottom: 4px;\n",
              "    }\n",
              "\n",
              "    [theme=dark] .colab-df-convert {\n",
              "      background-color: #3B4455;\n",
              "      fill: #D2E3FC;\n",
              "    }\n",
              "\n",
              "    [theme=dark] .colab-df-convert:hover {\n",
              "      background-color: #434B5C;\n",
              "      box-shadow: 0px 1px 3px 1px rgba(0, 0, 0, 0.15);\n",
              "      filter: drop-shadow(0px 1px 2px rgba(0, 0, 0, 0.3));\n",
              "      fill: #FFFFFF;\n",
              "    }\n",
              "  </style>\n",
              "\n",
              "    <script>\n",
              "      const buttonEl =\n",
              "        document.querySelector('#df-ab0ac233-013f-44ef-a0d6-f64a0340b2e4 button.colab-df-convert');\n",
              "      buttonEl.style.display =\n",
              "        google.colab.kernel.accessAllowed ? 'block' : 'none';\n",
              "\n",
              "      async function convertToInteractive(key) {\n",
              "        const element = document.querySelector('#df-ab0ac233-013f-44ef-a0d6-f64a0340b2e4');\n",
              "        const dataTable =\n",
              "          await google.colab.kernel.invokeFunction('convertToInteractive',\n",
              "                                                    [key], {});\n",
              "        if (!dataTable) return;\n",
              "\n",
              "        const docLinkHtml = 'Like what you see? Visit the ' +\n",
              "          '<a target=\"_blank\" href=https://colab.research.google.com/notebooks/data_table.ipynb>data table notebook</a>'\n",
              "          + ' to learn more about interactive tables.';\n",
              "        element.innerHTML = '';\n",
              "        dataTable['output_type'] = 'display_data';\n",
              "        await google.colab.output.renderOutput(dataTable, element);\n",
              "        const docLink = document.createElement('div');\n",
              "        docLink.innerHTML = docLinkHtml;\n",
              "        element.appendChild(docLink);\n",
              "      }\n",
              "    </script>\n",
              "  </div>\n",
              "\n",
              "\n",
              "    <div id=\"df-d38f9017-e8df-4640-8a34-27168db96054\">\n",
              "      <button class=\"colab-df-quickchart\" onclick=\"quickchart('df-d38f9017-e8df-4640-8a34-27168db96054')\"\n",
              "                title=\"Suggest charts\"\n",
              "                style=\"display:none;\">\n",
              "\n",
              "<svg xmlns=\"http://www.w3.org/2000/svg\" height=\"24px\"viewBox=\"0 0 24 24\"\n",
              "     width=\"24px\">\n",
              "    <g>\n",
              "        <path d=\"M19 3H5c-1.1 0-2 .9-2 2v14c0 1.1.9 2 2 2h14c1.1 0 2-.9 2-2V5c0-1.1-.9-2-2-2zM9 17H7v-7h2v7zm4 0h-2V7h2v10zm4 0h-2v-4h2v4z\"/>\n",
              "    </g>\n",
              "</svg>\n",
              "      </button>\n",
              "\n",
              "<style>\n",
              "  .colab-df-quickchart {\n",
              "      --bg-color: #E8F0FE;\n",
              "      --fill-color: #1967D2;\n",
              "      --hover-bg-color: #E2EBFA;\n",
              "      --hover-fill-color: #174EA6;\n",
              "      --disabled-fill-color: #AAA;\n",
              "      --disabled-bg-color: #DDD;\n",
              "  }\n",
              "\n",
              "  [theme=dark] .colab-df-quickchart {\n",
              "      --bg-color: #3B4455;\n",
              "      --fill-color: #D2E3FC;\n",
              "      --hover-bg-color: #434B5C;\n",
              "      --hover-fill-color: #FFFFFF;\n",
              "      --disabled-bg-color: #3B4455;\n",
              "      --disabled-fill-color: #666;\n",
              "  }\n",
              "\n",
              "  .colab-df-quickchart {\n",
              "    background-color: var(--bg-color);\n",
              "    border: none;\n",
              "    border-radius: 50%;\n",
              "    cursor: pointer;\n",
              "    display: none;\n",
              "    fill: var(--fill-color);\n",
              "    height: 32px;\n",
              "    padding: 0;\n",
              "    width: 32px;\n",
              "  }\n",
              "\n",
              "  .colab-df-quickchart:hover {\n",
              "    background-color: var(--hover-bg-color);\n",
              "    box-shadow: 0 1px 2px rgba(60, 64, 67, 0.3), 0 1px 3px 1px rgba(60, 64, 67, 0.15);\n",
              "    fill: var(--button-hover-fill-color);\n",
              "  }\n",
              "\n",
              "  .colab-df-quickchart-complete:disabled,\n",
              "  .colab-df-quickchart-complete:disabled:hover {\n",
              "    background-color: var(--disabled-bg-color);\n",
              "    fill: var(--disabled-fill-color);\n",
              "    box-shadow: none;\n",
              "  }\n",
              "\n",
              "  .colab-df-spinner {\n",
              "    border: 2px solid var(--fill-color);\n",
              "    border-color: transparent;\n",
              "    border-bottom-color: var(--fill-color);\n",
              "    animation:\n",
              "      spin 1s steps(1) infinite;\n",
              "  }\n",
              "\n",
              "  @keyframes spin {\n",
              "    0% {\n",
              "      border-color: transparent;\n",
              "      border-bottom-color: var(--fill-color);\n",
              "      border-left-color: var(--fill-color);\n",
              "    }\n",
              "    20% {\n",
              "      border-color: transparent;\n",
              "      border-left-color: var(--fill-color);\n",
              "      border-top-color: var(--fill-color);\n",
              "    }\n",
              "    30% {\n",
              "      border-color: transparent;\n",
              "      border-left-color: var(--fill-color);\n",
              "      border-top-color: var(--fill-color);\n",
              "      border-right-color: var(--fill-color);\n",
              "    }\n",
              "    40% {\n",
              "      border-color: transparent;\n",
              "      border-right-color: var(--fill-color);\n",
              "      border-top-color: var(--fill-color);\n",
              "    }\n",
              "    60% {\n",
              "      border-color: transparent;\n",
              "      border-right-color: var(--fill-color);\n",
              "    }\n",
              "    80% {\n",
              "      border-color: transparent;\n",
              "      border-right-color: var(--fill-color);\n",
              "      border-bottom-color: var(--fill-color);\n",
              "    }\n",
              "    90% {\n",
              "      border-color: transparent;\n",
              "      border-bottom-color: var(--fill-color);\n",
              "    }\n",
              "  }\n",
              "</style>\n",
              "\n",
              "      <script>\n",
              "        async function quickchart(key) {\n",
              "          const quickchartButtonEl =\n",
              "            document.querySelector('#' + key + ' button');\n",
              "          quickchartButtonEl.disabled = true;  // To prevent multiple clicks.\n",
              "          quickchartButtonEl.classList.add('colab-df-spinner');\n",
              "          try {\n",
              "            const charts = await google.colab.kernel.invokeFunction(\n",
              "                'suggestCharts', [key], {});\n",
              "          } catch (error) {\n",
              "            console.error('Error during call to suggestCharts:', error);\n",
              "          }\n",
              "          quickchartButtonEl.classList.remove('colab-df-spinner');\n",
              "          quickchartButtonEl.classList.add('colab-df-quickchart-complete');\n",
              "        }\n",
              "        (() => {\n",
              "          let quickchartButtonEl =\n",
              "            document.querySelector('#df-d38f9017-e8df-4640-8a34-27168db96054 button');\n",
              "          quickchartButtonEl.style.display =\n",
              "            google.colab.kernel.accessAllowed ? 'block' : 'none';\n",
              "        })();\n",
              "      </script>\n",
              "    </div>\n",
              "\n",
              "    </div>\n",
              "  </div>\n"
            ],
            "application/vnd.google.colaboratory.intrinsic+json": {
              "type": "dataframe",
              "variable_name": "pd_calcs",
              "summary": "{\n  \"name\": \"pd_calcs\",\n  \"rows\": 5,\n  \"fields\": [\n    {\n      \"column\": \"VIX\",\n      \"properties\": {\n        \"dtype\": \"date\",\n        \"min\": 9.9,\n        \"max\": 9.9,\n        \"num_unique_values\": 1,\n        \"samples\": [\n          9.9\n        ],\n        \"semantic_type\": \"\",\n        \"description\": \"\"\n      }\n    }\n  ]\n}"
            }
          },
          "metadata": {},
          "execution_count": 101
        }
      ],
      "source": [
        "pd_calcs.head(5)"
      ]
    },
    {
      "cell_type": "markdown",
      "metadata": {
        "id": "7DbriKWhvVTW"
      },
      "source": [
        "## Comparing the results"
      ]
    },
    {
      "cell_type": "code",
      "execution_count": null,
      "metadata": {
        "id": "DfoZty5ZvVTW"
      },
      "outputs": [],
      "source": [
        "import yfinance as yf\n",
        "import pandas as pd\n",
        "\n",
        "# Define the tickers and date range\n",
        "tickers = ['^GSPC', '^VIX']\n",
        "start_date = '2000-01-01'\n",
        "end_date = '2018-12-31'\n",
        "\n",
        "# Download the closing price data\n",
        "df_data = yf.download(\n",
        "    tickers,\n",
        "    start=start_date,\n",
        "    end=end_date,\n",
        "    auto_adjust=True,\n",
        "    progress=False\n",
        ")['Close']\n",
        "\n",
        "# Create the df_vix_data DataFrame\n",
        "df_vix_data = df_data['^VIX'].to_frame(name='5. adjusted close')\n",
        "\n",
        "# Ensure the index is in datetime format\n",
        "df_vix_data.index = pd.to_datetime(df_vix_data.index)"
      ]
    },
    {
      "cell_type": "code",
      "execution_count": null,
      "metadata": {
        "id": "Is34xBtSvVTW"
      },
      "outputs": [],
      "source": [
        "df_vix = df_vix_data['2018-10-14':'2018-10-21']['5. adjusted close']"
      ]
    },
    {
      "cell_type": "code",
      "execution_count": null,
      "metadata": {
        "colab": {
          "base_uri": "https://localhost:8080/",
          "height": 272
        },
        "id": "9vEEDRdDvVTW",
        "outputId": "cf5f3d7a-3fc6-45e0-c837-e5cd9bf393ef"
      },
      "outputs": [
        {
          "output_type": "execute_result",
          "data": {
            "text/plain": [
              "Date\n",
              "2018-10-15    21.299999\n",
              "2018-10-16    17.620001\n",
              "2018-10-17    17.400000\n",
              "2018-10-18    20.059999\n",
              "2018-10-19    19.889999\n",
              "Name: 5. adjusted close, dtype: float64"
            ],
            "text/html": [
              "<div>\n",
              "<style scoped>\n",
              "    .dataframe tbody tr th:only-of-type {\n",
              "        vertical-align: middle;\n",
              "    }\n",
              "\n",
              "    .dataframe tbody tr th {\n",
              "        vertical-align: top;\n",
              "    }\n",
              "\n",
              "    .dataframe thead th {\n",
              "        text-align: right;\n",
              "    }\n",
              "</style>\n",
              "<table border=\"1\" class=\"dataframe\">\n",
              "  <thead>\n",
              "    <tr style=\"text-align: right;\">\n",
              "      <th></th>\n",
              "      <th>5. adjusted close</th>\n",
              "    </tr>\n",
              "    <tr>\n",
              "      <th>Date</th>\n",
              "      <th></th>\n",
              "    </tr>\n",
              "  </thead>\n",
              "  <tbody>\n",
              "    <tr>\n",
              "      <th>2018-10-15</th>\n",
              "      <td>21.299999</td>\n",
              "    </tr>\n",
              "    <tr>\n",
              "      <th>2018-10-16</th>\n",
              "      <td>17.620001</td>\n",
              "    </tr>\n",
              "    <tr>\n",
              "      <th>2018-10-17</th>\n",
              "      <td>17.400000</td>\n",
              "    </tr>\n",
              "    <tr>\n",
              "      <th>2018-10-18</th>\n",
              "      <td>20.059999</td>\n",
              "    </tr>\n",
              "    <tr>\n",
              "      <th>2018-10-19</th>\n",
              "      <td>19.889999</td>\n",
              "    </tr>\n",
              "  </tbody>\n",
              "</table>\n",
              "</div><br><label><b>dtype:</b> float64</label>"
            ]
          },
          "metadata": {},
          "execution_count": 104
        }
      ],
      "source": [
        "df_vix.head(5)"
      ]
    },
    {
      "cell_type": "code",
      "execution_count": null,
      "metadata": {
        "colab": {
          "base_uri": "https://localhost:8080/",
          "height": 695
        },
        "id": "VSjt1DxTvVTW",
        "outputId": "3aba4174-3890-4e7f-86e6-d8feeb45e7cc"
      },
      "outputs": [
        {
          "output_type": "stream",
          "name": "stdout",
          "text": [
            "Requirement already satisfied: matplotlib in /usr/local/lib/python3.11/dist-packages (3.10.0)\n",
            "Requirement already satisfied: contourpy>=1.0.1 in /usr/local/lib/python3.11/dist-packages (from matplotlib) (1.3.2)\n",
            "Requirement already satisfied: cycler>=0.10 in /usr/local/lib/python3.11/dist-packages (from matplotlib) (0.12.1)\n",
            "Requirement already satisfied: fonttools>=4.22.0 in /usr/local/lib/python3.11/dist-packages (from matplotlib) (4.59.0)\n",
            "Requirement already satisfied: kiwisolver>=1.3.1 in /usr/local/lib/python3.11/dist-packages (from matplotlib) (1.4.8)\n",
            "Requirement already satisfied: numpy>=1.23 in /usr/local/lib/python3.11/dist-packages (from matplotlib) (2.0.2)\n",
            "Requirement already satisfied: packaging>=20.0 in /usr/local/lib/python3.11/dist-packages (from matplotlib) (25.0)\n",
            "Requirement already satisfied: pillow>=8 in /usr/local/lib/python3.11/dist-packages (from matplotlib) (11.3.0)\n",
            "Requirement already satisfied: pyparsing>=2.3.1 in /usr/local/lib/python3.11/dist-packages (from matplotlib) (3.2.3)\n",
            "Requirement already satisfied: python-dateutil>=2.7 in /usr/local/lib/python3.11/dist-packages (from matplotlib) (2.9.0.post0)\n",
            "Requirement already satisfied: six>=1.5 in /usr/local/lib/python3.11/dist-packages (from python-dateutil>=2.7->matplotlib) (1.17.0)\n"
          ]
        },
        {
          "output_type": "display_data",
          "data": {
            "text/plain": [
              "<Figure size 1000x600 with 1 Axes>"
            ],
            "image/png": "[encoded data removed]"
          },
          "metadata": {}
        }
      ],
      "source": [
        "# FIX: Install the matplotlib library for plotting\n",
        "!pip install matplotlib\n",
        "\n",
        "import pandas as pd\n",
        "\n",
        "# Now your original code will work\n",
        "df_merged = pd.DataFrame({\n",
        "    'Calculated': pd_calcs['VIX'],\n",
        "    'Actual': df_vix,\n",
        "})\n",
        "df_merged.plot(figsize=(10, 6), grid=True, style=['b', 'ro']);"
      ]
    },
    {
      "cell_type": "code",
      "source": [],
      "metadata": {
        "id": "sZkTkIJVJOUI"
      },
      "execution_count": null,
      "outputs": []
    }
  ],
  "metadata": {
    "kernelspec": {
      "display_name": "Python [conda env:base] *",
      "language": "python",
      "name": "conda-base-py"
    },
    "language_info": {
      "codemirror_mode": {
        "name": "ipython",
        "version": 3
      },
      "file_extension": ".py",
      "mimetype": "text/x-python",
      "name": "python",
      "nbconvert_exporter": "python",
      "pygments_lexer": "ipython3",
      "version": "3.12.3"
    },
    "colab": {
      "provenance": []
    }
  },
  "nbformat": 4,
  "nbformat_minor": 0
}