{
 "cells": [
  {
   "cell_type": "markdown",
   "metadata": {},
   "source": [
    "# The Zen of Python"
   ]
  },
  {
   "cell_type": "code",
   "execution_count": 1,
   "metadata": {},
   "outputs": [
    {
     "name": "stdout",
     "output_type": "stream",
     "text": [
      "The Zen of Python, by Tim Peters\n",
      "\n",
      "Beautiful is better than ugly.\n",
      "Explicit is better than implicit.\n",
      "Simple is better than complex.\n",
      "Complex is better than complicated.\n",
      "Flat is better than nested.\n",
      "Sparse is better than dense.\n",
      "Readability counts.\n",
      "Special cases aren't special enough to break the rules.\n",
      "Although practicality beats purity.\n",
      "Errors should never pass silently.\n",
      "Unless explicitly silenced.\n",
      "In the face of ambiguity, refuse the temptation to guess.\n",
      "There should be one-- and preferably only one --obvious way to do it.\n",
      "Although that way may not be obvious at first unless you're Dutch.\n",
      "Now is better than never.\n",
      "Although never is often better than *right* now.\n",
      "If the implementation is hard to explain, it's a bad idea.\n",
      "If the implementation is easy to explain, it may be a good idea.\n",
      "Namespaces are one honking great idea -- let's do more of those!\n"
     ]
    }
   ],
   "source": [
    "import this"
   ]
  },
  {
   "cell_type": "markdown",
   "metadata": {},
   "source": [
    "# Setting up Quandl for your environment"
   ]
  },
  {
   "cell_type": "code",
   "execution_count": 2,
   "metadata": {},
   "outputs": [
    {
     "name": "stdout",
     "output_type": "stream",
     "text": [
      "Channels:\n",
      " - defaults\n",
      "Platform: win-64\n",
      "Collecting package metadata (repodata.json): ...working... done\n",
      "Solving environment: ...working... done\n",
      "\n",
      "# All requested packages already installed.\n",
      "\n"
     ]
    }
   ],
   "source": [
    "# FIX: Use conda to install a version of numpy that is compatible with numba\n",
    "!conda install --yes numpy=1.26.4"
   ]
  },
  {
   "cell_type": "code",
   "execution_count": 14,
   "metadata": {},
   "outputs": [
    {
     "name": "stdout",
     "output_type": "stream",
     "text": [
      "Downloading ABN.AS data...\n"
     ]
    },
    {
     "name": "stderr",
     "output_type": "stream",
     "text": [
      "\n",
      "1 Failed download:\n",
      "['ABN.AS']: YFRateLimitError('Too Many Requests. Rate limited. Try after a while.')\n"
     ]
    },
    {
     "ename": "ValueError",
     "evalue": "Data download failed. Please wait a few minutes and try again.",
     "output_type": "error",
     "traceback": [
      "\u001b[31m---------------------------------------------------------------------------\u001b[39m",
      "\u001b[31mValueError\u001b[39m                                Traceback (most recent call last)",
      "\u001b[36mCell\u001b[39m\u001b[36m \u001b[39m\u001b[32mIn[14]\u001b[39m\u001b[32m, line 12\u001b[39m\n\u001b[32m      9\u001b[39m \u001b[38;5;66;03m# --- 2. Check if the Download was Successful ---\u001b[39;00m\n\u001b[32m     10\u001b[39m \u001b[38;5;66;03m# FIX: This check prevents errors if the download fails.\u001b[39;00m\n\u001b[32m     11\u001b[39m \u001b[38;5;28;01mif\u001b[39;00m df.empty:\n\u001b[32m---> \u001b[39m\u001b[32m12\u001b[39m     \u001b[38;5;28;01mraise\u001b[39;00m \u001b[38;5;167;01mValueError\u001b[39;00m(\u001b[33m\"\u001b[39m\u001b[33mData download failed. Please wait a few minutes and try again.\u001b[39m\u001b[33m\"\u001b[39m)\n\u001b[32m     14\u001b[39m \u001b[38;5;66;03m# --- 3. Prepare the Data for Plotting ---\u001b[39;00m\n\u001b[32m     15\u001b[39m prices = df[\u001b[33m'\u001b[39m\u001b[33mClose\u001b[39m\u001b[33m'\u001b[39m]\n",
      "\u001b[31mValueError\u001b[39m: Data download failed. Please wait a few minutes and try again."
     ]
    }
   ],
   "source": [
    "import yfinance as yf\n",
    "import matplotlib.pyplot as plt\n",
    "import pandas as pd\n",
    "\n",
    "# --- 1. Download the Data ---\n",
    "print(\"Downloading ABN.AS data...\")\n",
    "df = yf.download('ABN.AS', auto_adjust=True, progress=False)\n",
    "\n",
    "# --- 2. Check if the Download was Successful ---\n",
    "# FIX: This check prevents errors if the download fails.\n",
    "if df.empty:\n",
    "    raise ValueError(\"Data download failed. Please wait a few minutes and try again.\")\n",
    "\n",
    "# --- 3. Prepare the Data for Plotting ---\n",
    "prices = df['Close']\n",
    "volumes = df['Volume']\n",
    "print(\"Data downloaded successfully.\")\n",
    "\n",
    "# --- 4. Create the Plot ---\n",
    "fig, (ax1, ax2) = plt.subplots(\n",
    "    nrows=2,\n",
    "    ncols=1,\n",
    "    figsize=(12, 8),\n",
    "    sharex=True,\n",
    "    gridspec_kw={'height_ratios': [3, 1]}\n",
    ")\n",
    "\n",
    "# Top Plot (Price)\n",
    "prices.plot(ax=ax1, title='ABN Close Price', legend=False)\n",
    "ax1.set_ylabel('Price')\n",
    "ax1.legend(['Close'], loc='upper left')\n",
    "\n",
    "# Bottom Plot (Volume)\n",
    "volumes.plot.bar(ax=ax2, title='ABN Daily Trading Volume', color='gray')\n",
    "ax2.set_ylabel('Volume')\n",
    "\n",
    "# Final Touches\n",
    "plt.tight_layout()\n",
    "plt.show()"
   ]
  },
  {
   "cell_type": "markdown",
   "metadata": {},
   "source": [
    "## Plotting a candlestick chart"
   ]
  },
  {
   "cell_type": "code",
   "execution_count": null,
   "metadata": {},
   "outputs": [],
   "source": [
    "# FIX 1: Use conda to do a clean install of the necessary libraries.\n",
    "# This is more reliable than pip for complex scientific packages.\n",
    "!conda install --yes -c conda-forge numpy pandas matplotlib mplfinance yfinance\n",
    "\n",
    "# FIX 2: Restart your kernel AFTER the installation to load the new libraries.\n",
    "# You must do this manually: Kernel -> Restart & Clear Output.\n",
    "# Then, run this cell again.\n",
    "\n",
    "import yfinance as yf\n",
    "import mplfinance as mpf\n",
    "\n",
    "# FIX 3: Download the data and plot it directly.\n",
    "# The mplfinance library is designed to work with the yfinance DataFrame,\n",
    "# so the manual data conversion that was causing the error is not needed.\n",
    "df_subset = yf.download(\n",
    "    'ABN.AS',\n",
    "    start='2018-07-01',\n",
    "    end='2018-07-31',\n",
    "    progress=False\n",
    ")\n",
    "\n",
    "mpf.plot(\n",
    "    df_subset,\n",
    "    type='candle',\n",
    "    style='charles',\n",
    "    title='ABN AMRO Candlestick Chart - July 2018',\n",
    "    ylabel='Price (€)',\n",
    "    volume=True,\n",
    "    figsize=(10, 6)\n",
    ")"
   ]
  },
  {
   "cell_type": "code",
   "execution_count": null,
   "metadata": {},
   "outputs": [],
   "source": [
    "## Performing Financial Analytics"
   ]
  },
  {
   "cell_type": "code",
   "execution_count": null,
   "metadata": {},
   "outputs": [],
   "source": [
    "#Plotting returns"
   ]
  },
  {
   "cell_type": "code",
   "execution_count": null,
   "metadata": {},
   "outputs": [],
   "source": [
    "%matplotlib inline\n",
    "import quandl\n",
    "\n",
    "quandl.ApiConfig.api_key = QUANDL_API_KEY\n",
    "df = quandl.get('EURONEXT/ABN.4')\n",
    "daily_changes = df.pct_change(periods=1)\n",
    "daily_changes.plot();"
   ]
  },
  {
   "cell_type": "markdown",
   "metadata": {},
   "source": [
    "## Plotting cummulative returns"
   ]
  },
  {
   "cell_type": "code",
   "execution_count": null,
   "metadata": {},
   "outputs": [],
   "source": [
    "df_cumsum = daily_changes.cumsum()\n",
    "df_cumsum.plot();"
   ]
  },
  {
   "cell_type": "markdown",
   "metadata": {},
   "source": [
    "## Plotting Histograms"
   ]
  },
  {
   "cell_type": "code",
   "execution_count": null,
   "metadata": {},
   "outputs": [],
   "source": [
    "daily_changes.hist(bins=50, figsize=(8, 4));"
   ]
  },
  {
   "cell_type": "code",
   "execution_count": null,
   "metadata": {},
   "outputs": [],
   "source": [
    "daily_changes.describe()"
   ]
  },
  {
   "cell_type": "markdown",
   "metadata": {},
   "source": [
    "## Plotting volatility"
   ]
  },
  {
   "cell_type": "code",
   "execution_count": null,
   "metadata": {},
   "outputs": [],
   "source": [
    "df_filled = df.asfreq('D', method='ffill')\n",
    "df_returns = df_filled.pct_change()\n",
    "df_std = df_returns.rolling(window=30, min_periods=30).std()\n",
    "df_std.plot();"
   ]
  },
  {
   "cell_type": "markdown",
   "metadata": {},
   "source": [
    "## Quantile-Quantile Plot"
   ]
  },
  {
   "cell_type": "code",
   "execution_count": null,
   "metadata": {},
   "outputs": [],
   "source": [
    "%matplotlib inline\n",
    "import quandl\n",
    "from scipy import stats\n",
    "from scipy.stats import probplot\n",
    "\n",
    "quandl.ApiConfig.api_key = QUANDL_API_KEY\n",
    "df = quandl.get('EURONEXT/ABN.4')\n",
    "daily_changes = df.pct_change(periods=1).dropna()\n",
    "\n",
    "figure = plt.figure(figsize=(8,4))\n",
    "ax = figure.add_subplot(111)\n",
    "stats.probplot(daily_changes['Last'], dist='norm', plot=ax)\n",
    "plt.show();"
   ]
  },
  {
   "cell_type": "markdown",
   "metadata": {},
   "source": [
    "## Downloading multiple time series data"
   ]
  },
  {
   "cell_type": "code",
   "execution_count": null,
   "metadata": {},
   "outputs": [],
   "source": [
    "%matplotlib inline\n",
    "import quandl\n",
    "\n",
    "quandl.ApiConfig.api_key = QUANDL_API_KEY\n",
    "df = quandl.get(['EURONEXT/ABN.4', \n",
    "                 'EURONEXT/SANTA.4', \n",
    "                 'EURONEXT/KA.4'], \n",
    "                collapse='monthly', \n",
    "                start_date='2016-01-01', \n",
    "                end_date='2017-12-31')\n",
    "df.plot();"
   ]
  },
  {
   "cell_type": "markdown",
   "metadata": {},
   "source": [
    "## Displaying the Correlation Matrix\n"
   ]
  },
  {
   "cell_type": "code",
   "execution_count": null,
   "metadata": {},
   "outputs": [],
   "source": [
    "df.pct_change().corr()"
   ]
  },
  {
   "cell_type": "markdown",
   "metadata": {},
   "source": [
    "## Plotting Correlations"
   ]
  },
  {
   "cell_type": "code",
   "execution_count": null,
   "metadata": {},
   "outputs": [],
   "source": [
    "%matplotlib inline\n",
    "import quandl\n",
    "\n",
    "quandl.ApiConfig.api_key = QUANDL_API_KEY\n",
    "df = quandl.get(['EURONEXT/ABN.4', 'EURONEXT/SANTA.4'], \n",
    "                start_date='2016-01-01', \n",
    "                end_date='2017-12-31')\n",
    "\n",
    "df_filled = df.asfreq('D', method='ffill')\n",
    "daily_changes= df_filled.pct_change()\n",
    "abn_returns = daily_changes['EURONEXT/ABN - Last']\n",
    "santa_returns = daily_changes['EURONEXT/SANTA - Last']\n",
    "window = int(len(df_filled.index)/2)\n",
    "df_corrs = abn_returns\\\n",
    "    .rolling(window=window, min_periods=window)\\\n",
    "    .corr(other=santa_returns)\\\n",
    "    .dropna()\n",
    "df_corrs.plot(figsize=(12, 8));"
   ]
  },
  {
   "cell_type": "markdown",
   "metadata": {},
   "source": [
    "## Simple moving averages\n"
   ]
  },
  {
   "cell_type": "code",
   "execution_count": null,
   "metadata": {},
   "outputs": [],
   "source": [
    "%matplotlib inline\n",
    "import quandl\n",
    "import pandas as pd\n",
    "\n",
    "quandl.ApiConfig.api_key = QUANDL_API_KEY\n",
    "df = quandl.get('EURONEXT/ABN.4')\n",
    "\n",
    "df_filled = df.asfreq('D', method='ffill')\n",
    "df_last = df['Last']\n",
    "\n",
    "series_short = df_last.rolling(window=5, min_periods=5).mean()\n",
    "series_long = df_last.rolling(window=30, min_periods=30).mean()\n",
    "\n",
    "df_sma = pd.DataFrame(columns=['short', 'long'])\n",
    "df_sma['short'] = series_short\n",
    "df_sma['long'] = series_long\n",
    "df_sma.plot(figsize=(12, 8));"
   ]
  },
  {
   "cell_type": "markdown",
   "metadata": {},
   "source": [
    "## Exponential Moving Average\n"
   ]
  },
  {
   "cell_type": "code",
   "execution_count": null,
   "metadata": {},
   "outputs": [],
   "source": [
    "%matplotlib inline\n",
    "import quandl\n",
    "import pandas as pd\n",
    "\n",
    "quandl.ApiConfig.api_key = QUANDL_API_KEY\n",
    "df = quandl.get('EURONEXT/ABN.4')\n",
    "\n",
    "df_filled = df.asfreq('D', method='ffill')\n",
    "df_last = df['Last']\n",
    "\n",
    "series_short = df_last.ewm(span=5).mean()\n",
    "series_long = df_last.ewm(span=30).mean()\n",
    "\n",
    "df_sma = pd.DataFrame(columns=['short', 'long'])\n",
    "df_sma['short'] = series_short\n",
    "df_sma['long'] = series_long\n",
    "df_sma.plot(figsize=(12, 8));"
   ]
  }
 ],
 "metadata": {
  "kernelspec": {
   "display_name": "Python 3 (ipykernel)",
   "language": "python",
   "name": "python3"
  },
  "language_info": {
   "codemirror_mode": {
    "name": "ipython",
    "version": 3
   },
   "file_extension": ".py",
   "mimetype": "text/x-python",
   "name": "python",
   "nbconvert_exporter": "python",
   "pygments_lexer": "ipython3",
   "version": "3.11.13"
  }
 },
 "nbformat": 4,
 "nbformat_minor": 4
}
