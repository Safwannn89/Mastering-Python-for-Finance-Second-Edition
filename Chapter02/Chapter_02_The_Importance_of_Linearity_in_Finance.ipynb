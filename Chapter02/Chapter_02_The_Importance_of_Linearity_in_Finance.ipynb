{
  "cells": [
    {
      "cell_type": "markdown",
      "metadata": {
        "id": "HOjzuyrpevur"
      },
      "source": [
        "# The capital asset pricing model and the security market line"
      ]
    },
    {
      "cell_type": "code",
      "execution_count": null,
      "metadata": {
        "id": "gxoenImjevut"
      },
      "outputs": [],
      "source": [
        "import warnings\n",
        "warnings.filterwarnings(\"ignore\", category=UserWarning)"
      ]
    },
    {
      "cell_type": "code",
      "execution_count": null,
      "metadata": {
        "id": "R2iOlmKhevuu"
      },
      "outputs": [],
      "source": [
        "\"\"\"\n",
        "Linear regression with SciPy\n",
        "\"\"\"\n",
        "from scipy import stats\n",
        "\n",
        "stock_returns = [0.065, 0.0265, -0.0593, -0.001, 0.0346]\n",
        "mkt_returns = [0.055, -0.09, -0.041, 0.045, 0.022]\n",
        "beta, alpha, r_value, p_value, std_err = \\\n",
        "    stats.linregress(stock_returns, mkt_returns)"
      ]
    },
    {
      "cell_type": "code",
      "execution_count": null,
      "metadata": {
        "colab": {
          "base_uri": "https://localhost:8080/"
        },
        "id": "jyjsuUoCevuu",
        "outputId": "36941b78-5dab-4dd4-eef1-2f84cc0c108e"
      },
      "outputs": [
        {
          "output_type": "stream",
          "name": "stdout",
          "text": [
            "0.5077431878770808 -0.008481900352462384\n"
          ]
        }
      ],
      "source": [
        "print(beta, alpha)"
      ]
    },
    {
      "cell_type": "markdown",
      "metadata": {
        "id": "i--kJcgyevuv"
      },
      "source": [
        "# Multivariate linear regression of factor models"
      ]
    },
    {
      "cell_type": "code",
      "execution_count": null,
      "metadata": {
        "id": "mxATkDtGevuv"
      },
      "outputs": [],
      "source": [
        "\"\"\"\n",
        "Least squares regression with statsmodels\n",
        "\"\"\"\n",
        "import numpy as np\n",
        "import statsmodels.api as sm\n",
        "\n",
        "# Generate some sample data\n",
        "num_periods = 9\n",
        "all_values = np.array([np.random.random(8) \\\n",
        "                       for i in range(num_periods)])\n",
        "\n",
        "# Filter the data\n",
        "y_values = all_values[:, 0] # First column values as Y\n",
        "x_values = all_values[:, 1:] # All other values as X\n",
        "x_values = sm.add_constant(x_values) # Include the intercept\n",
        "results = sm.OLS(y_values, x_values).fit() # Regress and fit the model"
      ]
    },
    {
      "cell_type": "code",
      "execution_count": null,
      "metadata": {
        "colab": {
          "base_uri": "https://localhost:8080/"
        },
        "id": "r8qCNU4Devuv",
        "outputId": "d1f44ff7-6665-4ae0-c76f-38b7d106ea27"
      },
      "outputs": [
        {
          "output_type": "stream",
          "name": "stdout",
          "text": [
            "                            OLS Regression Results                            \n",
            "==============================================================================\n",
            "Dep. Variable:                      y   R-squared:                       0.834\n",
            "Model:                            OLS   Adj. R-squared:                 -0.327\n",
            "Method:                 Least Squares   F-statistic:                    0.7184\n",
            "Date:                Tue, 29 Jul 2025   Prob (F-statistic):              0.723\n",
            "Time:                        18:39:14   Log-Likelihood:                 4.4368\n",
            "No. Observations:                   9   AIC:                             7.126\n",
            "Df Residuals:                       1   BIC:                             8.704\n",
            "Df Model:                           7                                         \n",
            "Covariance Type:            nonrobust                                         \n",
            "==============================================================================\n",
            "                 coef    std err          t      P>|t|      [0.025      0.975]\n",
            "------------------------------------------------------------------------------\n",
            "const          0.4212      8.115      0.052      0.967    -102.688     103.530\n",
            "x1             0.1965      2.614      0.075      0.952     -33.022      33.414\n",
            "x2            -1.3042      6.164     -0.212      0.867     -79.628      77.019\n",
            "x3             0.3758      1.651      0.228      0.857     -20.600      21.352\n",
            "x4            -0.5774      2.403     -0.240      0.850     -31.114      29.959\n",
            "x5            -0.3591      2.778     -0.129      0.918     -35.659      34.941\n",
            "x6             0.4217      2.886      0.146      0.908     -36.252      37.096\n",
            "x7             1.5037      2.058      0.731      0.598     -24.644      27.651\n",
            "==============================================================================\n",
            "Omnibus:                        1.110   Durbin-Watson:                   1.932\n",
            "Prob(Omnibus):                  0.574   Jarque-Bera (JB):                0.772\n",
            "Skew:                           0.424   Prob(JB):                        0.680\n",
            "Kurtosis:                       1.844   Cond. No.                         138.\n",
            "==============================================================================\n",
            "\n",
            "Notes:\n",
            "[1] Standard Errors assume that the covariance matrix of the errors is correctly specified.\n"
          ]
        }
      ],
      "source": [
        "print(results.summary())"
      ]
    },
    {
      "cell_type": "code",
      "execution_count": null,
      "metadata": {
        "colab": {
          "base_uri": "https://localhost:8080/"
        },
        "id": "xfiTp4NDevuv",
        "outputId": "d9867216-d7b6-4b25-8b75-bab4d4795b22"
      },
      "outputs": [
        {
          "output_type": "stream",
          "name": "stdout",
          "text": [
            "[ 0.42124651  0.19645334 -1.30424896  0.37583113 -0.57744251 -0.3590552\n",
            "  0.42172085  1.50374351]\n"
          ]
        }
      ],
      "source": [
        "print(results.params)"
      ]
    },
    {
      "cell_type": "markdown",
      "metadata": {
        "id": "V7xnW_dWevuw"
      },
      "source": [
        "# Linear optimization"
      ]
    },
    {
      "cell_type": "markdown",
      "metadata": {
        "id": "8bFMW9RKevuw"
      },
      "source": [
        "## A maximization example with linear programming"
      ]
    },
    {
      "cell_type": "code",
      "execution_count": null,
      "metadata": {
        "colab": {
          "base_uri": "https://localhost:8080/"
        },
        "id": "uXXPPpAUevuw",
        "outputId": "77647ecb-a662-484a-931c-6ecfe7c1f74a"
      },
      "outputs": [
        {
          "output_type": "stream",
          "name": "stdout",
          "text": [
            "Collecting pulp\n",
            "  Downloading pulp-3.2.2-py3-none-any.whl.metadata (6.9 kB)\n",
            "Downloading pulp-3.2.2-py3-none-any.whl (16.4 MB)\n",
            "\u001b[2K   \u001b[90m━━━━━━━━━━━━━━━━━━━━━━━━━━━━━━━━━━━━━━━━\u001b[0m \u001b[32m16.4/16.4 MB\u001b[0m \u001b[31m37.9 MB/s\u001b[0m eta \u001b[36m0:00:00\u001b[0m\n",
            "\u001b[?25hInstalling collected packages: pulp\n",
            "Successfully installed pulp-3.2.2\n"
          ]
        }
      ],
      "source": [
        "# FIX: Install the pulp library for linear optimization\n",
        "!pip install pulp\n",
        "\n",
        "import pulp"
      ]
    },
    {
      "cell_type": "code",
      "execution_count": null,
      "metadata": {
        "colab": {
          "base_uri": "https://localhost:8080/"
        },
        "id": "0SOl50BDevuw",
        "outputId": "4201db81-8998-4259-f040-96424a34989c"
      },
      "outputs": [
        {
          "output_type": "execute_result",
          "data": {
            "text/plain": [
              "1"
            ]
          },
          "metadata": {},
          "execution_count": 8
        }
      ],
      "source": [
        "\"\"\"\n",
        "A linear optimization problem with 2 variables\n",
        "\"\"\"\n",
        "import pulp\n",
        "\n",
        "x = pulp.LpVariable('x', lowBound=0)\n",
        "y = pulp.LpVariable('y', lowBound=0)\n",
        "\n",
        "problem = pulp.LpProblem(\n",
        "    'A simple maximization objective',\n",
        "    pulp.LpMaximize)\n",
        "problem += 3*x + 2*y, 'The objective function'\n",
        "problem += 2*x + y <= 100, '1st constraint'\n",
        "problem += x + y <= 80, '2nd constraint'\n",
        "problem += x <= 40, '3rd constraint'\n",
        "problem.solve()"
      ]
    },
    {
      "cell_type": "code",
      "execution_count": null,
      "metadata": {
        "colab": {
          "base_uri": "https://localhost:8080/"
        },
        "id": "BSy18msVevuw",
        "outputId": "d477d635-f254-435d-f34f-465cc610f1c1"
      },
      "outputs": [
        {
          "output_type": "stream",
          "name": "stdout",
          "text": [
            "Maximization Results:\n",
            "x = 20.0\n",
            "y = 60.0\n"
          ]
        }
      ],
      "source": [
        "print(\"Maximization Results:\")\n",
        "for variable in problem.variables():\n",
        "    print(variable.name, '=', variable.varValue)"
      ]
    },
    {
      "cell_type": "markdown",
      "metadata": {
        "id": "l_c3xHtKevuw"
      },
      "source": [
        "## A minimization example with integer programming"
      ]
    },
    {
      "cell_type": "code",
      "execution_count": null,
      "metadata": {
        "id": "Wr1jWw15evuw"
      },
      "outputs": [],
      "source": [
        "\"\"\"\n",
        "An example of implementing an integer\n",
        "programming model with binary conditions\n",
        "\"\"\"\n",
        "import pulp\n",
        "\n",
        "dealers = ['X', 'Y', 'Z']\n",
        "variable_costs = {'X': 500, 'Y': 350, 'Z': 450}\n",
        "fixed_costs = {'X': 4000, 'Y': 2000, 'Z': 6000}\n",
        "\n",
        "# Define PuLP variables to solve\n",
        "quantities = pulp.LpVariable.dicts('quantity',\n",
        "                                   dealers,\n",
        "                                   lowBound=0,\n",
        "                                   cat=pulp.LpInteger)\n",
        "is_orders = pulp.LpVariable.dicts('orders',\n",
        "                                  dealers,\n",
        "                                  cat=pulp.LpBinary)"
      ]
    },
    {
      "cell_type": "code",
      "execution_count": null,
      "metadata": {
        "colab": {
          "base_uri": "https://localhost:8080/"
        },
        "id": "3ay_8vmnevuw",
        "outputId": "336f6f50-48ed-4d6b-ece4-4a8e9fbdfdc7"
      },
      "outputs": [
        {
          "output_type": "stream",
          "name": "stdout",
          "text": [
            "Optimal solution:\n",
            "orders_X = 0.0\n",
            "orders_Y = 1.0\n",
            "orders_Z = 1.0\n",
            "quantity_X = 0.0\n",
            "quantity_Y = 90.0\n",
            "quantity_Z = 60.0\n"
          ]
        }
      ],
      "source": [
        "import pulp\n",
        "\n",
        "# Initialize the model with constraints\n",
        "model = pulp.LpProblem('A cost minimization problem',\n",
        "                       pulp.LpMinimize)\n",
        "\n",
        "# FIX: The objective function is now linear.\n",
        "model += sum([\n",
        "    (variable_costs[i] * quantities[i] + fixed_costs[i] * is_orders[i])\n",
        "    for i in dealers\n",
        "]), 'Minimize portfolio cost'\n",
        "\n",
        "# --- The rest of the constraints are added below ---\n",
        "\n",
        "# Total contracts required\n",
        "model += sum([quantities[i] for i in dealers]) == 150, 'Total contracts required'\n",
        "\n",
        "# Boundary constraints for each dealer\n",
        "model += 30 <= quantities['X'] <= 100, 'Boundary of total volume of X'\n",
        "model += 30 <= quantities['Y'] <= 90, 'Boundary of total volume of Y'\n",
        "model += 30 <= quantities['Z'] <= 70, 'Boundary of total volume of Z'\n",
        "\n",
        "# FIX: Add constraints to link the 'is_orders' binary variable to the 'quantities'\n",
        "# This ensures that if any quantity is ordered from a dealer, the fixed cost is applied.\n",
        "for i in dealers:\n",
        "    model += quantities[i] <= 1000 * is_orders[i] # The \"big M\" method\n",
        "\n",
        "# Solve the (now correct) model\n",
        "model.solve()\n",
        "\n",
        "# Print the results\n",
        "print(\"Optimal solution:\")\n",
        "for v in model.variables():\n",
        "    print(f\"{v.name} = {v.varValue}\")"
      ]
    },
    {
      "cell_type": "code",
      "execution_count": null,
      "metadata": {
        "colab": {
          "base_uri": "https://localhost:8080/"
        },
        "id": "f4AKfdZgevux",
        "outputId": "1a6b5eca-506f-4e3f-a316-1089a7817171"
      },
      "outputs": [
        {
          "output_type": "execute_result",
          "data": {
            "text/plain": [
              "1"
            ]
          },
          "metadata": {},
          "execution_count": 12
        }
      ],
      "source": [
        "\"\"\"\n",
        "This is an example of implementing an\n",
        "IP model with binary variables the correct way.\n",
        "\"\"\"\n",
        "# Initialize the model with constraints\n",
        "model = pulp.LpProblem('A cost minimization problem',\n",
        "                       pulp.LpMinimize)\n",
        "model += sum(\n",
        "    [variable_costs[i]*quantities[i] + \\\n",
        "         fixed_costs[i]*is_orders[i] for i in dealers])\\\n",
        "    , 'Minimize portfolio cost'\n",
        "model += sum([quantities[i] for i in dealers]) == 150\\\n",
        "    ,  'Total contracts required'\n",
        "model += is_orders['X']*30 <= quantities['X'] <= \\\n",
        "    is_orders['X']*100, 'Boundary of total volume of X'\n",
        "model += is_orders['Y']*30 <= quantities['Y'] <= \\\n",
        "    is_orders['Y']*90, 'Boundary of total volume of Y'\n",
        "model += is_orders['Z']*30 <= quantities['Z'] <= \\\n",
        "    is_orders['Z']*70, 'Boundary of total volume of Z'\n",
        "model.solve()"
      ]
    },
    {
      "cell_type": "code",
      "execution_count": null,
      "metadata": {
        "colab": {
          "base_uri": "https://localhost:8080/"
        },
        "id": "gESfQtyCevux",
        "outputId": "2fe2af84-51cf-422b-a4eb-4b716c315973"
      },
      "outputs": [
        {
          "output_type": "stream",
          "name": "stdout",
          "text": [
            "Minimization Results:\n",
            "orders_X = 0.0\n",
            "orders_Y = 1.0\n",
            "orders_Z = 1.0\n",
            "quantity_X = 0.0\n",
            "quantity_Y = 90.0\n",
            "quantity_Z = 60.0\n",
            "Total cost: 66500.0\n"
          ]
        }
      ],
      "source": [
        "print('Minimization Results:')\n",
        "for variable in model.variables():\n",
        "    print(variable, '=', variable.varValue)\n",
        "\n",
        "print('Total cost:',  pulp.value(model.objective))"
      ]
    },
    {
      "cell_type": "markdown",
      "metadata": {
        "id": "CRyNkNOYevux"
      },
      "source": [
        "# Solving linear equations using matrices"
      ]
    },
    {
      "cell_type": "code",
      "execution_count": null,
      "metadata": {
        "id": "Gip44oTZevux"
      },
      "outputs": [],
      "source": [
        "\"\"\"\n",
        "Linear algebra with NumPy matrices\n",
        "\"\"\"\n",
        "import numpy as np\n",
        "\n",
        "A = np.array([[2, 1, 1],[1, 3, 2],[1, 0, 0]])\n",
        "B = np.array([4, 5, 6])"
      ]
    },
    {
      "cell_type": "markdown",
      "metadata": {
        "id": "HVb4NF0eevux"
      },
      "source": [
        "Use the `linalg.solve` function of NumPy to solve a system of linear scalar\n",
        "equations:"
      ]
    },
    {
      "cell_type": "code",
      "execution_count": null,
      "metadata": {
        "colab": {
          "base_uri": "https://localhost:8080/"
        },
        "id": "0FuMjZ09evux",
        "outputId": "7ef4d775-8113-4f8a-cdb5-e69e730a8194"
      },
      "outputs": [
        {
          "output_type": "stream",
          "name": "stdout",
          "text": [
            "[  6.  15. -23.]\n"
          ]
        }
      ],
      "source": [
        "print(np.linalg.solve(A, B))"
      ]
    },
    {
      "cell_type": "markdown",
      "metadata": {
        "id": "oo5ejOMEevux"
      },
      "source": [
        "# The LU decomposition"
      ]
    },
    {
      "cell_type": "code",
      "execution_count": null,
      "metadata": {
        "id": "etU-F9nlevux"
      },
      "outputs": [],
      "source": [
        "\"\"\"\n",
        "LU decomposition with SciPy\n",
        "\"\"\"\n",
        "import numpy as np\n",
        "import scipy.linalg as linalg\n",
        "\n",
        "# Define A and B\n",
        "A = np.array([\n",
        "    [2., 1., 1.],\n",
        "    [1., 3., 2.],\n",
        "    [1., 0., 0.]\n",
        "])\n",
        "B = np.array([4., 5., 6.])\n",
        "\n",
        "# Perform"
      ]
    },
    {
      "cell_type": "code",
      "execution_count": null,
      "metadata": {
        "colab": {
          "base_uri": "https://localhost:8080/"
        },
        "id": "62QrVqZzevux",
        "outputId": "f34a5e63-56ab-4fbe-9369-441070f1146a"
      },
      "outputs": [
        {
          "output_type": "stream",
          "name": "stdout",
          "text": [
            "x\n"
          ]
        }
      ],
      "source": [
        "print(x)"
      ]
    },
    {
      "cell_type": "code",
      "execution_count": null,
      "metadata": {
        "colab": {
          "base_uri": "https://localhost:8080/"
        },
        "id": "ydn1jIwIevux",
        "outputId": "a570b0b3-f83d-424e-bddf-f173c852e462"
      },
      "outputs": [
        {
          "output_type": "stream",
          "name": "stdout",
          "text": [
            "P=\n",
            " [[1. 0. 0.]\n",
            " [0. 1. 0.]\n",
            " [0. 0. 1.]]\n",
            "L=\n",
            " [[ 1.   0.   0. ]\n",
            " [ 0.5  1.   0. ]\n",
            " [ 0.5 -0.2  1. ]]\n",
            "U=\n",
            " [[ 2.   1.   1. ]\n",
            " [ 0.   2.5  1.5]\n",
            " [ 0.   0.  -0.2]]\n"
          ]
        }
      ],
      "source": [
        "import scipy\n",
        "\n",
        "P, L, U = scipy.linalg.lu(A)\n",
        "\n",
        "print('P=\\n', P)\n",
        "print('L=\\n', L)\n",
        "print('U=\\n', U)"
      ]
    },
    {
      "cell_type": "markdown",
      "metadata": {
        "id": "yBz_maMsevux"
      },
      "source": [
        "# The Cholesky decomposition"
      ]
    },
    {
      "cell_type": "code",
      "execution_count": null,
      "metadata": {
        "id": "d_8B9A5xevux"
      },
      "outputs": [],
      "source": [
        "\"\"\"\n",
        "Cholesky decomposition with NumPy\n",
        "\"\"\"\n",
        "import numpy as np\n",
        "\n",
        "A = np.array([\n",
        "    [10., -1., 2., 0.],\n",
        "    [-1., 11., -1., 3.],\n",
        "    [2., -1., 10., -1.],\n",
        "    [0., 3., -1., 8.]])\n",
        "B = np.array([6., 25., -11., 15.])\n",
        "\n",
        "L = np.linalg.cholesky(A)"
      ]
    },
    {
      "cell_type": "code",
      "execution_count": null,
      "metadata": {
        "colab": {
          "base_uri": "https://localhost:8080/"
        },
        "id": "1t6Vkxb5evux",
        "outputId": "ca6ed952-1d48-4d2c-a44c-0e177ddbe7e4"
      },
      "outputs": [
        {
          "output_type": "stream",
          "name": "stdout",
          "text": [
            "[[ 3.16227766  0.          0.          0.        ]\n",
            " [-0.31622777  3.3015148   0.          0.        ]\n",
            " [ 0.63245553 -0.24231301  3.08889696  0.        ]\n",
            " [ 0.          0.9086738  -0.25245792  2.6665665 ]]\n"
          ]
        }
      ],
      "source": [
        "print(L)"
      ]
    },
    {
      "cell_type": "code",
      "execution_count": null,
      "metadata": {
        "colab": {
          "base_uri": "https://localhost:8080/"
        },
        "id": "LS3zW0KPevux",
        "outputId": "b6f57970-7ac4-401d-8cb7-b0c3bfa27e03"
      },
      "outputs": [
        {
          "output_type": "stream",
          "name": "stdout",
          "text": [
            "[[10. -1.  2.  0.]\n",
            " [-1. 11. -1.  3.]\n",
            " [ 2. -1. 10. -1.]\n",
            " [ 0.  3. -1.  8.]]\n"
          ]
        }
      ],
      "source": [
        "print(np.dot(L, L.T.conj()))  # A=L.L*"
      ]
    },
    {
      "cell_type": "code",
      "execution_count": null,
      "metadata": {
        "id": "WMWnk3TYevux"
      },
      "outputs": [],
      "source": [
        "y = np.linalg.solve(L, B)  # L.L*.x=B; When L*.x=y, then L.y=B"
      ]
    },
    {
      "cell_type": "code",
      "execution_count": null,
      "metadata": {
        "id": "DMr7e95Yevuy"
      },
      "outputs": [],
      "source": [
        "x = np.linalg.solve(L.T.conj(), y)  # x=L*'.y"
      ]
    },
    {
      "cell_type": "code",
      "execution_count": null,
      "metadata": {
        "colab": {
          "base_uri": "https://localhost:8080/"
        },
        "id": "8h6zwJEeevuy",
        "outputId": "9445e6ba-19c4-44a0-e017-2619416a4d86"
      },
      "outputs": [
        {
          "output_type": "stream",
          "name": "stdout",
          "text": [
            "[ 1.  2. -1.  1.]\n"
          ]
        }
      ],
      "source": [
        "print(x)"
      ]
    },
    {
      "cell_type": "code",
      "execution_count": null,
      "metadata": {
        "colab": {
          "base_uri": "https://localhost:8080/"
        },
        "id": "4Wr3dv7eevuy",
        "outputId": "5784e20e-9f21-44ab-a2d4-ca4eab912047"
      },
      "outputs": [
        {
          "output_type": "stream",
          "name": "stdout",
          "text": [
            "[  6.  25. -11.  15.]\n"
          ]
        }
      ],
      "source": [
        "# FIX: Use the modern '@' operator for matrix multiplication instead of np.mat\n",
        "# This calculates B = Ax to verify the solution.\n",
        "print(A @ x)"
      ]
    },
    {
      "cell_type": "markdown",
      "metadata": {
        "id": "8u2DaT0jevuy"
      },
      "source": [
        "# The QR decomposition"
      ]
    },
    {
      "cell_type": "code",
      "execution_count": null,
      "metadata": {
        "id": "eB2M2DVfevuy"
      },
      "outputs": [],
      "source": [
        "\"\"\"\n",
        "QR decomposition with scipy\n",
        "\"\"\"\n",
        "import numpy as np\n",
        "import scipy.linalg as linalg\n",
        "\n",
        "\n",
        "A = np.array([\n",
        "    [2., 1., 1.],\n",
        "    [1., 3., 2.],\n",
        "    [1., 0., 0]])\n",
        "B = np.array([4., 5., 6.])\n",
        "\n",
        "Q, R = scipy.linalg.qr(A)  # QR decomposition\n",
        "y = np.dot(Q.T, B)  # Let y=Q'.B\n",
        "x = scipy.linalg.solve(R, y)  # Solve Rx=y"
      ]
    },
    {
      "cell_type": "code",
      "execution_count": null,
      "metadata": {
        "colab": {
          "base_uri": "https://localhost:8080/"
        },
        "id": "JSDNuESdevuy",
        "outputId": "a664a73c-940c-4d5c-ed58-c5c11f7a330e"
      },
      "outputs": [
        {
          "output_type": "stream",
          "name": "stdout",
          "text": [
            "[  6.  15. -23.]\n"
          ]
        }
      ],
      "source": [
        "print(x)"
      ]
    },
    {
      "cell_type": "markdown",
      "metadata": {
        "id": "XF18BqaOevuy"
      },
      "source": [
        "# Solving with other matrix algebra methods"
      ]
    },
    {
      "cell_type": "markdown",
      "metadata": {
        "id": "RO22Y64Aevuy"
      },
      "source": [
        "## The Jacobi method"
      ]
    },
    {
      "cell_type": "code",
      "execution_count": null,
      "metadata": {
        "id": "VExNKiWfevu1"
      },
      "outputs": [],
      "source": [
        "\"\"\"\n",
        "Solve Ax=B with the Jacobi method\n",
        "\"\"\"\n",
        "import numpy as np\n",
        "\n",
        "def jacobi(A, B, n, tol=1e-10):\n",
        "    # Initializes x with zeroes with same shape and type as B\n",
        "    x = np.zeros_like(B)\n",
        "\n",
        "    for iter_count in range(n):\n",
        "        x_new = np.zeros_like(x)\n",
        "        for i in range(A.shape[0]):\n",
        "            s1 = np.dot(A[i, :i], x[:i])\n",
        "            s2 = np.dot(A[i, i + 1:], x[i + 1:])\n",
        "            x_new[i] = (B[i] - s1 - s2) / A[i, i]\n",
        "\n",
        "        if np.allclose(x, x_new, tol):\n",
        "            break\n",
        "\n",
        "        x = x_new\n",
        "\n",
        "    return x"
      ]
    },
    {
      "cell_type": "code",
      "execution_count": null,
      "metadata": {
        "id": "AWj4JX9vevu1"
      },
      "outputs": [],
      "source": [
        "A = np.array([\n",
        "    [10., -1., 2., 0.],\n",
        "    [-1., 11., -1., 3.],\n",
        "    [2., -1., 10., -1.],\n",
        "    [0.0, 3., -1., 8.]])\n",
        "B = np.array([6., 25., -11., 15.])\n",
        "n = 25"
      ]
    },
    {
      "cell_type": "code",
      "execution_count": null,
      "metadata": {
        "colab": {
          "base_uri": "https://localhost:8080/"
        },
        "id": "V03NcIkDevu1",
        "outputId": "15e87e21-8cbc-41fa-d4bb-bb57d76289ad"
      },
      "outputs": [
        {
          "output_type": "stream",
          "name": "stdout",
          "text": [
            "x = [ 1.  2. -1.  1.]\n"
          ]
        }
      ],
      "source": [
        "x = jacobi(A, B, n)\n",
        "print('x', '=', x)"
      ]
    },
    {
      "cell_type": "markdown",
      "metadata": {
        "id": "ccQ33_-zevu2"
      },
      "source": [
        "# The Gauss-Seidel method"
      ]
    },
    {
      "cell_type": "code",
      "execution_count": null,
      "metadata": {
        "id": "iKBfTXdrevu2"
      },
      "outputs": [],
      "source": [
        "\"\"\"\n",
        "Solve Ax=B with the Gauss-Seidel method\n",
        "\"\"\"\n",
        "import numpy as np\n",
        "\n",
        "\n",
        "def gauss(A, B, n, tol=1e-10):\n",
        "    L = np.tril(A)  # returns the lower triangular matrix of A\n",
        "    U = A-L  # decompose A = L + U\n",
        "    L_inv = np.linalg.inv(L)\n",
        "    x = np.zeros_like(B)\n",
        "\n",
        "    for i in range(n):\n",
        "        Ux = np.dot(U, x)\n",
        "        x_new = np.dot(L_inv, B - Ux)\n",
        "\n",
        "        if np.allclose(x, x_new, tol):\n",
        "            break\n",
        "\n",
        "        x = x_new\n",
        "\n",
        "    return x"
      ]
    },
    {
      "cell_type": "code",
      "execution_count": null,
      "metadata": {
        "id": "GWsaRNBeevu2"
      },
      "outputs": [],
      "source": [
        "A = np.array([\n",
        "    [10., -1., 2., 0.],\n",
        "    [-1., 11., -1., 3.],\n",
        "    [2., -1., 10., -1.],\n",
        "    [0.0, 3., -1., 8.]])\n",
        "B = np.array([6., 25., -11., 15.])\n",
        "n = 100\n",
        "x = gauss(A, B, n)"
      ]
    },
    {
      "cell_type": "code",
      "execution_count": null,
      "metadata": {
        "colab": {
          "base_uri": "https://localhost:8080/"
        },
        "id": "b0JvT8mBevu2",
        "outputId": "28b0132c-5085-4899-87ae-a1dc741f5caf"
      },
      "outputs": [
        {
          "output_type": "stream",
          "name": "stdout",
          "text": [
            "x = [ 1.  2. -1.  1.]\n"
          ]
        }
      ],
      "source": [
        "print('x', '=', x)"
      ]
    }
  ],
  "metadata": {
    "kernelspec": {
      "display_name": "Python 3 (ipykernel)",
      "language": "python",
      "name": "python3"
    },
    "language_info": {
      "codemirror_mode": {
        "name": "ipython",
        "version": 3
      },
      "file_extension": ".py",
      "mimetype": "text/x-python",
      "name": "python",
      "nbconvert_exporter": "python",
      "pygments_lexer": "ipython3",
      "version": "3.11.13"
    },
    "colab": {
      "provenance": []
    }
  },
  "nbformat": 4,
  "nbformat_minor": 0
}