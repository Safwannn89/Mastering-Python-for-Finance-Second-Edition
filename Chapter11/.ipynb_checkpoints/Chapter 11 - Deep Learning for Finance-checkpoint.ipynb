{
 "cells": [
  {
   "cell_type": "markdown",
   "metadata": {},
   "source": [
    "# Requirements"
   ]
  },
  {
   "cell_type": "markdown",
   "metadata": {},
   "source": [
    "- Python 3.6.2 (NOT python 3.7)\n",
    "- Sign up for an Intrinio account at https://intrinio.com/ and obtain an API key. Subscription to the 'US Fundamentals and Stock Prices' subscription (free, trial or paid) is required.\n",
    "\n",
    "Python libaries:\n",
    "- TensorFlow r1.13 \n",
    "- keras\n",
    "- requests\n",
    "- pandas\n",
    "- matplotlib\n",
    "- seaborn"
   ]
  },
  {
   "cell_type": "markdown",
   "metadata": {},
   "source": [
    "# A deep learning price prediction model with TensorFlow"
   ]
  },
  {
   "cell_type": "markdown",
   "metadata": {},
   "source": [
    "## Download the dataset"
   ]
  },
  {
   "cell_type": "code",
   "execution_count": 4,
   "metadata": {},
   "outputs": [
    {
     "name": "stdout",
     "output_type": "stream",
     "text": [
      "Requirement already satisfied: yfinance in c:\\users\\lenovo\\anaconda3\\envs\\finance_modern\\lib\\site-packages (0.2.57)\n",
      "Requirement already satisfied: pandas-ta in c:\\users\\lenovo\\anaconda3\\envs\\finance_modern\\lib\\site-packages (0.3.14b0)\n",
      "Requirement already satisfied: pandas>=1.3.0 in c:\\users\\lenovo\\anaconda3\\envs\\finance_modern\\lib\\site-packages (from yfinance) (2.3.1)\n",
      "Requirement already satisfied: numpy>=1.16.5 in c:\\users\\lenovo\\anaconda3\\envs\\finance_modern\\lib\\site-packages (from yfinance) (1.26.4)\n",
      "Requirement already satisfied: requests>=2.31 in c:\\users\\lenovo\\anaconda3\\envs\\finance_modern\\lib\\site-packages (from yfinance) (2.32.4)\n",
      "Requirement already satisfied: multitasking>=0.0.7 in c:\\users\\lenovo\\anaconda3\\envs\\finance_modern\\lib\\site-packages (from yfinance) (0.0.12)\n",
      "Requirement already satisfied: platformdirs>=2.0.0 in c:\\users\\lenovo\\anaconda3\\envs\\finance_modern\\lib\\site-packages (from yfinance) (4.3.8)\n",
      "Requirement already satisfied: pytz>=2022.5 in c:\\users\\lenovo\\anaconda3\\envs\\finance_modern\\lib\\site-packages (from yfinance) (2025.2)\n",
      "Requirement already satisfied: frozendict>=2.3.4 in c:\\users\\lenovo\\anaconda3\\envs\\finance_modern\\lib\\site-packages (from yfinance) (2.4.6)\n",
      "Requirement already satisfied: peewee>=3.16.2 in c:\\users\\lenovo\\anaconda3\\envs\\finance_modern\\lib\\site-packages (from yfinance) (3.18.2)\n",
      "Requirement already satisfied: beautifulsoup4>=4.11.1 in c:\\users\\lenovo\\anaconda3\\envs\\finance_modern\\lib\\site-packages (from yfinance) (4.13.4)\n",
      "Requirement already satisfied: soupsieve>1.2 in c:\\users\\lenovo\\anaconda3\\envs\\finance_modern\\lib\\site-packages (from beautifulsoup4>=4.11.1->yfinance) (2.7)\n",
      "Requirement already satisfied: typing-extensions>=4.0.0 in c:\\users\\lenovo\\anaconda3\\envs\\finance_modern\\lib\\site-packages (from beautifulsoup4>=4.11.1->yfinance) (4.14.1)\n",
      "Requirement already satisfied: python-dateutil>=2.8.2 in c:\\users\\lenovo\\anaconda3\\envs\\finance_modern\\lib\\site-packages (from pandas>=1.3.0->yfinance) (2.9.0.post0)\n",
      "Requirement already satisfied: tzdata>=2022.7 in c:\\users\\lenovo\\anaconda3\\envs\\finance_modern\\lib\\site-packages (from pandas>=1.3.0->yfinance) (2025.2)\n",
      "Requirement already satisfied: six>=1.5 in c:\\users\\lenovo\\anaconda3\\envs\\finance_modern\\lib\\site-packages (from python-dateutil>=2.8.2->pandas>=1.3.0->yfinance) (1.17.0)\n",
      "Requirement already satisfied: charset_normalizer<4,>=2 in c:\\users\\lenovo\\anaconda3\\envs\\finance_modern\\lib\\site-packages (from requests>=2.31->yfinance) (3.4.2)\n",
      "Requirement already satisfied: idna<4,>=2.5 in c:\\users\\lenovo\\anaconda3\\envs\\finance_modern\\lib\\site-packages (from requests>=2.31->yfinance) (3.10)\n",
      "Requirement already satisfied: urllib3<3,>=1.21.1 in c:\\users\\lenovo\\anaconda3\\envs\\finance_modern\\lib\\site-packages (from requests>=2.31->yfinance) (2.5.0)\n",
      "Requirement already satisfied: certifi>=2017.4.17 in c:\\users\\lenovo\\anaconda3\\envs\\finance_modern\\lib\\site-packages (from requests>=2.31->yfinance) (2025.7.14)\n",
      "Downloading OHLCV data for AAPL...\n"
     ]
    },
    {
     "name": "stderr",
     "output_type": "stream",
     "text": [
      "\n",
      "1 Failed download:\n",
      "['AAPL']: YFRateLimitError('Too Many Requests. Rate limited. Try after a while.')\n"
     ]
    },
    {
     "ename": "ValueError",
     "evalue": "Data download failed. Please wait a few minutes and try again due to rate limiting.",
     "output_type": "error",
     "traceback": [
      "\u001b[31m---------------------------------------------------------------------------\u001b[39m",
      "\u001b[31mValueError\u001b[39m                                Traceback (most recent call last)",
      "\u001b[36mCell\u001b[39m\u001b[36m \u001b[39m\u001b[32mIn[4]\u001b[39m\u001b[32m, line 25\u001b[39m\n\u001b[32m     23\u001b[39m \u001b[38;5;66;03m# FIX: Check if the download was successful before proceeding\u001b[39;00m\n\u001b[32m     24\u001b[39m \u001b[38;5;28;01mif\u001b[39;00m prices_df.empty:\n\u001b[32m---> \u001b[39m\u001b[32m25\u001b[39m     \u001b[38;5;28;01mraise\u001b[39;00m \u001b[38;5;167;01mValueError\u001b[39;00m(\u001b[33m\"\u001b[39m\u001b[33mData download failed. Please wait a few minutes and try again due to rate limiting.\u001b[39m\u001b[33m\"\u001b[39m)\n\u001b[32m     27\u001b[39m \u001b[38;5;66;03m# FIX: Flatten the column headers if they are a MultiIndex\u001b[39;00m\n\u001b[32m     28\u001b[39m \u001b[38;5;28;01mif\u001b[39;00m \u001b[38;5;28misinstance\u001b[39m(prices_df.columns, pd.MultiIndex):\n",
      "\u001b[31mValueError\u001b[39m: Data download failed. Please wait a few minutes and try again due to rate limiting."
     ]
    }
   ],
   "source": [
    "# FIX: Install the modern pandas-ta library\n",
    "!pip install yfinance pandas-ta\n",
    "\n",
    "import yfinance as yf\n",
    "import pandas_ta as ta\n",
    "import pandas as pd\n",
    "\n",
    "# --- 1. Define Parameters ---\n",
    "ticker = 'AAPL'\n",
    "start_date = '2020-01-01'\n",
    "end_date = '2021-12-31'\n",
    "\n",
    "# --- 2. Download Raw Price Data ---\n",
    "print(f\"Downloading OHLCV data for {ticker}...\")\n",
    "prices_df = yf.download(\n",
    "    ticker,\n",
    "    start=start_date,\n",
    "    end=end_date,\n",
    "    auto_adjust=True,\n",
    "    progress=False\n",
    ")\n",
    "\n",
    "# FIX: Check if the download was successful before proceeding\n",
    "if prices_df.empty:\n",
    "    raise ValueError(\"Data download failed. Please wait a few minutes and try again due to rate limiting.\")\n",
    "\n",
    "# FIX: Flatten the column headers if they are a MultiIndex\n",
    "if isinstance(prices_df.columns, pd.MultiIndex):\n",
    "    prices_df.columns = prices_df.columns.get_level_values(0)\n",
    "\n",
    "# FIX: Clean the column names to be simple and lowercase, which is best practice\n",
    "prices_df.columns = [col.lower() for col in prices_df.columns]\n",
    "\n",
    "# --- 3. Calculate All Technical Indicators using pandas-ta ---\n",
    "print(\"Calculating technical indicators...\")\n",
    "\n",
    "# Create a new DataFrame for the indicators\n",
    "df_indicators = pd.DataFrame(index=prices_df.index)\n",
    "\n",
    "# FIX: Explicitly tell the functions which columns to use.\n",
    "# This solves both the AttributeError and the previous ValueError.\n",
    "df_indicators['rsi'] = prices_df.ta.rsi(close=prices_df['close'], length=14)\n",
    "df_indicators['wr'] = prices_df.ta.willr(high=prices_df['high'], low=prices_df['low'], close=prices_df['close'], length=14)\n",
    "df_indicators['ao'] = prices_df.ta.ao(high=prices_df['high'], low=prices_df['low'], fast=5, slow=34).iloc[:, 0]\n",
    "df_indicators['sma_5d'] = prices_df.ta.sma(close=prices_df['close'], length=5)\n",
    "df_indicators['sma_15d'] = prices_df.ta.sma(close=prices_df['close'], length=15)\n",
    "df_indicators['sma_30d'] = prices_df.ta.sma(close=prices_df['close'], length=30)\n",
    "df_indicators['vwap'] = prices_df.ta.vwap(high=prices_df['high'], low=prices_df['low'], close=prices_df['close'], volume=prices_df['volume'])\n",
    "df_indicators['adtv'] = prices_df.ta.ad(high=prices_df['high'], low=prices_df['low'], close=prices_df['close'], volume=prices_df['volume'])\n",
    "\n",
    "print(\"All indicators calculated successfully.\")\n",
    "\n",
    "# Display a sample of the final indicators to confirm\n",
    "df_indicators.tail()"
   ]
  },
  {
   "cell_type": "code",
   "execution_count": null,
   "metadata": {},
   "outputs": [],
   "source": []
  }
 ],
 "metadata": {
  "kernelspec": {
   "display_name": "Python (Modern Finance)",
   "language": "python",
   "name": "finance_modern"
  },
  "language_info": {
   "codemirror_mode": {
    "name": "ipython",
    "version": 3
   },
   "file_extension": ".py",
   "mimetype": "text/x-python",
   "name": "python",
   "nbconvert_exporter": "python",
   "pygments_lexer": "ipython3",
   "version": "3.11.13"
  }
 },
 "nbformat": 4,
 "nbformat_minor": 4
}
