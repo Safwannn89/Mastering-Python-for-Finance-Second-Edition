{
  "cells": [
    {
      "cell_type": "markdown",
      "metadata": {
        "id": "VfSEYdVy-sC7"
      },
      "source": [
        "# Requirements"
      ]
    },
    {
      "cell_type": "markdown",
      "metadata": {
        "id": "7iUnMa2--sC9"
      },
      "source": [
        "- Python 3.6.2 (NOT python 3.7)\n",
        "- Sign up for an Intrinio account at https://intrinio.com/ and obtain an API key. Subscription to the 'US Fundamentals and Stock Prices' subscription (free, trial or paid) is required.\n",
        "\n",
        "Python libaries:\n",
        "- TensorFlow r1.13\n",
        "- keras\n",
        "- requests\n",
        "- pandas\n",
        "- matplotlib\n",
        "- seaborn"
      ]
    },
    {
      "cell_type": "markdown",
      "metadata": {
        "id": "AOyuZdJl-sC-"
      },
      "source": [
        "# A deep learning price prediction model with TensorFlow"
      ]
    },
    {
      "cell_type": "markdown",
      "metadata": {
        "id": "_6oU5JQR-sC-"
      },
      "source": [
        "## Download the dataset"
      ]
    },
    {
      "cell_type": "markdown",
      "metadata": {
        "id": "ADBrIA1J-sC-"
      },
      "source": [
        "### NOTE: Replaced Original Data Loading Section\n",
        "\n",
        "The original cells for data loading and technical indicator calculation (from the Intrinio API) have been removed and replaced with the single code block below.\n",
        "\n",
        "**Reason:** The original code relied on the Intrinio API, which requires a paid subscription for technical indicator data, causing errors. This new block uses the free `yfinance` and `pandas-ta` libraries to download the raw price data and calculate the same indicators locally. This is a more modern and robust approach that does not require a paid API key."
      ]
    },
    {
      "cell_type": "code",
      "execution_count": null,
      "metadata": {
        "colab": {
          "base_uri": "https://localhost:8080/",
          "height": 654
        },
        "id": "aENlzOek-sC-",
        "outputId": "ba8fc9d5-6ec5-47b4-ddcb-da36c64c1310"
      },
      "outputs": [
        {
          "output_type": "stream",
          "name": "stdout",
          "text": [
            "Requirement already satisfied: numpy==1.26.4 in /usr/local/lib/python3.11/dist-packages (1.26.4)\n",
            "Requirement already satisfied: pandas==2.2.2 in /usr/local/lib/python3.11/dist-packages (2.2.2)\n",
            "Requirement already satisfied: yfinance==0.2.57 in /usr/local/lib/python3.11/dist-packages (0.2.57)\n",
            "Requirement already satisfied: pandas-ta==0.3.14b0 in /usr/local/lib/python3.11/dist-packages (0.3.14b0)\n",
            "Requirement already satisfied: python-dateutil>=2.8.2 in /usr/local/lib/python3.11/dist-packages (from pandas==2.2.2) (2.9.0.post0)\n",
            "Requirement already satisfied: pytz>=2020.1 in /usr/local/lib/python3.11/dist-packages (from pandas==2.2.2) (2025.2)\n",
            "Requirement already satisfied: tzdata>=2022.7 in /usr/local/lib/python3.11/dist-packages (from pandas==2.2.2) (2025.2)\n",
            "Requirement already satisfied: requests>=2.31 in /usr/local/lib/python3.11/dist-packages (from yfinance==0.2.57) (2.32.3)\n",
            "Requirement already satisfied: multitasking>=0.0.7 in /usr/local/lib/python3.11/dist-packages (from yfinance==0.2.57) (0.0.12)\n",
            "Requirement already satisfied: platformdirs>=2.0.0 in /usr/local/lib/python3.11/dist-packages (from yfinance==0.2.57) (4.3.8)\n",
            "Requirement already satisfied: frozendict>=2.3.4 in /usr/local/lib/python3.11/dist-packages (from yfinance==0.2.57) (2.4.6)\n",
            "Requirement already satisfied: peewee>=3.16.2 in /usr/local/lib/python3.11/dist-packages (from yfinance==0.2.57) (3.18.2)\n",
            "Requirement already satisfied: beautifulsoup4>=4.11.1 in /usr/local/lib/python3.11/dist-packages (from yfinance==0.2.57) (4.13.4)\n",
            "Requirement already satisfied: soupsieve>1.2 in /usr/local/lib/python3.11/dist-packages (from beautifulsoup4>=4.11.1->yfinance==0.2.57) (2.7)\n",
            "Requirement already satisfied: typing-extensions>=4.0.0 in /usr/local/lib/python3.11/dist-packages (from beautifulsoup4>=4.11.1->yfinance==0.2.57) (4.14.1)\n",
            "Requirement already satisfied: six>=1.5 in /usr/local/lib/python3.11/dist-packages (from python-dateutil>=2.8.2->pandas==2.2.2) (1.17.0)\n",
            "Requirement already satisfied: charset-normalizer<4,>=2 in /usr/local/lib/python3.11/dist-packages (from requests>=2.31->yfinance==0.2.57) (3.4.2)\n",
            "Requirement already satisfied: idna<4,>=2.5 in /usr/local/lib/python3.11/dist-packages (from requests>=2.31->yfinance==0.2.57) (3.10)\n",
            "Requirement already satisfied: urllib3<3,>=1.21.1 in /usr/local/lib/python3.11/dist-packages (from requests>=2.31->yfinance==0.2.57) (2.5.0)\n",
            "Requirement already satisfied: certifi>=2017.4.17 in /usr/local/lib/python3.11/dist-packages (from requests>=2.31->yfinance==0.2.57) (2025.7.14)\n",
            "Downloading OHLCV data for AAPL...\n"
          ]
        },
        {
          "output_type": "stream",
          "name": "stderr",
          "text": [
            "ERROR:yfinance:\n",
            "1 Failed download:\n",
            "ERROR:yfinance:['AAPL']: YFRateLimitError('Too Many Requests. Rate limited. Try after a while.')\n"
          ]
        },
        {
          "output_type": "error",
          "ename": "ValueError",
          "evalue": "Data download failed. The DataFrame is empty. Please check your ticker and internet connection.",
          "traceback": [
            "\u001b[0;31m---------------------------------------------------------------------------\u001b[0m",
            "\u001b[0;31mValueError\u001b[0m                                Traceback (most recent call last)",
            "\u001b[0;32m/tmp/ipython-input-4-3135361160.py\u001b[0m in \u001b[0;36m<cell line: 0>\u001b[0;34m()\u001b[0m\n\u001b[1;32m     38\u001b[0m \u001b[0;31m# --- 3. Check if the Download was Successful ---\u001b[0m\u001b[0;34m\u001b[0m\u001b[0;34m\u001b[0m\u001b[0m\n\u001b[1;32m     39\u001b[0m \u001b[0;32mif\u001b[0m \u001b[0mprices_df\u001b[0m\u001b[0;34m.\u001b[0m\u001b[0mempty\u001b[0m\u001b[0;34m:\u001b[0m\u001b[0;34m\u001b[0m\u001b[0;34m\u001b[0m\u001b[0m\n\u001b[0;32m---> 40\u001b[0;31m     \u001b[0;32mraise\u001b[0m \u001b[0mValueError\u001b[0m\u001b[0;34m(\u001b[0m\u001b[0;34m\"Data download failed. The DataFrame is empty. Please check your ticker and internet connection.\"\u001b[0m\u001b[0;34m)\u001b[0m\u001b[0;34m\u001b[0m\u001b[0;34m\u001b[0m\u001b[0m\n\u001b[0m\u001b[1;32m     41\u001b[0m \u001b[0;34m\u001b[0m\u001b[0m\n\u001b[1;32m     42\u001b[0m \u001b[0;31m# --- 4. Calculate All Technical Indicators ---\u001b[0m\u001b[0;34m\u001b[0m\u001b[0;34m\u001b[0m\u001b[0m\n",
            "\u001b[0;31mValueError\u001b[0m: Data download failed. The DataFrame is empty. Please check your ticker and internet connection."
          ]
        }
      ],
      "source": [
        "# FIX: This single block replaces the entire original data loading and\n",
        "# feature engineering section from the notebook.\n",
        "#\n",
        "# REASONING:\n",
        "# 1. Paid API -> Free Alternative: The original code used the Intrinio API,\n",
        "#    which requires a paid subscription for technical indicators. This new\n",
        "#    code uses the free yfinance and pandas-ta libraries to achieve the same result.\n",
        "# 2. Outdated Code: The original code had multiple bugs and used outdated\n",
        "#    library imports that are not compatible with modern environments like Colab.\n",
        "# 3. Simplicity: This single, self-contained block is more robust and easier\n",
        "#    to read and debug than the previous multi-cell approach.\n",
        "\n",
        "# FIX 1: Install specific, compatible versions of all libraries in the clean environment.\n",
        "# This creates a stable environment and prevents all version conflicts.\n",
        "!pip install numpy==1.26.4 pandas==2.2.2 yfinance==0.2.57 pandas-ta==0.3.14b0\n",
        "\n",
        "# FIX 2: Import all libraries AFTER the correct versions are installed.\n",
        "import yfinance as yf\n",
        "import pandas_ta as ta\n",
        "import pandas as pd\n",
        "import numpy as np\n",
        "\n",
        "# --- 1. Define Parameters ---\n",
        "ticker = 'AAPL'\n",
        "start_date = '2013-01-01'\n",
        "end_date = '2018-12-31'\n",
        "\n",
        "# --- 2. Download Raw Price Data ---\n",
        "print(f\"Downloading OHLCV data for {ticker}...\")\n",
        "prices_df = yf.download(\n",
        "    ticker,\n",
        "    start=start_date,\n",
        "    end=end_date,\n",
        "    auto_adjust=True,\n",
        "    progress=False\n",
        ")\n",
        "\n",
        "# --- 3. Check if the Download was Successful ---\n",
        "if prices_df.empty:\n",
        "    raise ValueError(\"Data download failed. The DataFrame is empty. Please check your ticker and internet connection.\")\n",
        "\n",
        "# --- 4. Calculate All Technical Indicators ---\n",
        "print(\"Calculating technical indicators...\")\n",
        "\n",
        "# Use the pandas-ta extension to directly add all indicators to the DataFrame.\n",
        "# This is a clean and efficient method.\n",
        "prices_df.ta.rsi(length=14, append=True)\n",
        "prices_df.ta.willr(length=14, append=True)\n",
        "prices_df.ta.ao(fast=5, slow=34, append=True)\n",
        "prices_df.ta.sma(length=5, append=True)\n",
        "prices_df.ta.sma(length=15, append=True)\n",
        "prices_df.ta.sma(length=30, append=True)\n",
        "prices_df.ta.vwap(append=True)\n",
        "prices_df.ta.ad(append=True)\n",
        "\n",
        "# --- 5. Prepare the Final DataFrame for the Model ---\n",
        "df = prices_df.rename(columns={\n",
        "    'RSI_14': 'rsi',\n",
        "    'WILLR_14': 'wr',\n",
        "    'AO_5_34': 'ao',\n",
        "    'SMA_5': 'sma_5d',\n",
        "    'SMA_15': 'sma_15d',\n",
        "    'SMA_30': 'sma_30d',\n",
        "    'VWAP_D': 'vwap',\n",
        "    'AD': 'adtv',\n",
        "    'Close': 'adj_close_price'\n",
        "}).dropna()\n",
        "\n",
        "print(\"All indicators calculated successfully.\")\n",
        "df.tail()"
      ]
    }
  ],
  "metadata": {
    "kernelspec": {
      "display_name": "Python (Modern Finance)",
      "language": "python",
      "name": "finance_modern"
    },
    "language_info": {
      "codemirror_mode": {
        "name": "ipython",
        "version": 3
      },
      "file_extension": ".py",
      "mimetype": "text/x-python",
      "name": "python",
      "nbconvert_exporter": "python",
      "pygments_lexer": "ipython3",
      "version": "3.11.13"
    },
    "colab": {
      "provenance": []
    }
  },
  "nbformat": 4,
  "nbformat_minor": 0
}