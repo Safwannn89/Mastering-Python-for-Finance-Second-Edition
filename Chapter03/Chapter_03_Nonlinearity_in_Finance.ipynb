{
  "cells": [
    {
      "cell_type": "markdown",
      "metadata": {
        "id": "g724n7fugaYr"
      },
      "source": [
        "# Incremental search"
      ]
    },
    {
      "cell_type": "code",
      "execution_count": null,
      "metadata": {
        "id": "NLUMN0wZgaYs"
      },
      "outputs": [],
      "source": [
        "import warnings\n",
        "warnings.filterwarnings(\"ignore\", category=RuntimeWarning)"
      ]
    },
    {
      "cell_type": "code",
      "execution_count": null,
      "metadata": {
        "id": "emEcZgvIgaYt"
      },
      "outputs": [],
      "source": [
        "\"\"\"\n",
        "An incremental search algorithm\n",
        "\"\"\"\n",
        "import numpy as np\n",
        "\n",
        "def incremental_search(func, a, b, dx):\n",
        "    \"\"\"\n",
        "    :param func: The function to solve\n",
        "    :param a: The left boundary x-axis value\n",
        "    :param b: The right boundary x-axis value\n",
        "    :param dx: The incremental value in searching\n",
        "    :return:\n",
        "        The x-axis value of the root,\n",
        "        number of iterations used\n",
        "    \"\"\"\n",
        "    fa = func(a)\n",
        "    c = a + dx\n",
        "    fc = func(c)\n",
        "    n = 1\n",
        "    while np.sign(fa) == np.sign(fc):\n",
        "        if a >= b:\n",
        "            return a - dx, n\n",
        "\n",
        "        a = c\n",
        "        fa = fc\n",
        "        c = a + dx\n",
        "        fc = func(c)\n",
        "        n += 1\n",
        "\n",
        "    if fa == 0:\n",
        "        return a, n\n",
        "    elif fc == 0:\n",
        "        return c, n\n",
        "    else:\n",
        "        return (a + c)/2., n"
      ]
    },
    {
      "cell_type": "code",
      "execution_count": null,
      "metadata": {
        "id": "Qw9hJLrFgaYt",
        "outputId": "f27b4c3b-6a1c-4e78-98dd-53dc5d7a2087",
        "colab": {
          "base_uri": "https://localhost:8080/"
        }
      },
      "outputs": [
        {
          "output_type": "stream",
          "name": "stdout",
          "text": [
            "Root is: 1.2414999999999783\n",
            "Iterations: 6242\n"
          ]
        }
      ],
      "source": [
        "# The keyword 'lambda' creates an anonymous function\n",
        "# with input argument x\n",
        "y = lambda x: x**3 + 2.*x**2 - 5.\n",
        "root, iterations = incremental_search (y, -5., 5., 0.001)\n",
        "print(\"Root is:\", root)\n",
        "print(\"Iterations:\", iterations)"
      ]
    },
    {
      "cell_type": "markdown",
      "metadata": {
        "id": "Z9zadeeBgaYu"
      },
      "source": [
        "# The bisection method"
      ]
    },
    {
      "cell_type": "code",
      "execution_count": null,
      "metadata": {
        "id": "k5VsUlRygaYu"
      },
      "outputs": [],
      "source": [
        "\"\"\"\n",
        "The bisection method\n",
        "\"\"\"\n",
        "def bisection(func, a, b, tol=0.1, maxiter=10):\n",
        "    \"\"\"\n",
        "    :param func: The function to solve\n",
        "    :param a: The x-axis value where f(a)<0\n",
        "    :param b: The x-axis value where f(b)>0\n",
        "    :param tol: The precision of the solution\n",
        "    :param maxiter: Maximum number of iterations\n",
        "    :return:\n",
        "        The x-axis value of the root,\n",
        "        number of iterations used\n",
        "    \"\"\"\n",
        "    c = (a+b)*0.5  # Declare c as the midpoint ab\n",
        "    n = 1  # Start with 1 iteration\n",
        "    while n <= maxiter:\n",
        "        c = (a+b)*0.5\n",
        "        if func(c) == 0 or abs(a-b)*0.5 < tol:\n",
        "            # Root is found or is very close\n",
        "            return c, n\n",
        "\n",
        "        n += 1\n",
        "        if func(c) < 0:\n",
        "            a = c\n",
        "        else:\n",
        "            b = c\n",
        "\n",
        "    return c, n"
      ]
    },
    {
      "cell_type": "code",
      "execution_count": null,
      "metadata": {
        "id": "jI0udzZ3gaYu",
        "outputId": "324a722b-df44-45aa-b775-d60d5a7c8c1a",
        "colab": {
          "base_uri": "https://localhost:8080/"
        }
      },
      "outputs": [
        {
          "output_type": "stream",
          "name": "stdout",
          "text": [
            "Root is: 1.241903305053711\n",
            "Iterations: 20\n"
          ]
        }
      ],
      "source": [
        "y = lambda x: x**3 + 2.*x**2 - 5\n",
        "root, iterations = bisection(y, -5, 5, 0.00001, 100)\n",
        "print(\"Root is:\", root)\n",
        "print(\"Iterations:\", iterations)"
      ]
    },
    {
      "cell_type": "markdown",
      "metadata": {
        "id": "NxTB8RzogaYu"
      },
      "source": [
        "# Newton's method"
      ]
    },
    {
      "cell_type": "code",
      "execution_count": null,
      "metadata": {
        "id": "OnCC2Jh8gaYu"
      },
      "outputs": [],
      "source": [
        "\"\"\"\n",
        "The Newton-Raphson method\n",
        "\"\"\"\n",
        "def newton(func, df, x, tol=0.001, maxiter=100):\n",
        "    \"\"\"\n",
        "    :param func: The function to solve\n",
        "    :param df: The derivative function of f\n",
        "    :param x: Initial guess value of x\n",
        "    :param tol: The precision of the solution\n",
        "    :param maxiter: Maximum number of iterations\n",
        "    :return:\n",
        "        The x-axis value of the root,\n",
        "        number of iterations used\n",
        "    \"\"\"\n",
        "    n = 1\n",
        "    while n <= maxiter:\n",
        "        x1 = x - func(x)/df(x)\n",
        "        if abs(x1 - x) < tol: # Root is very close\n",
        "            return x1, n\n",
        "\n",
        "        x = x1\n",
        "        n += 1\n",
        "\n",
        "    return None, n"
      ]
    },
    {
      "cell_type": "code",
      "execution_count": null,
      "metadata": {
        "id": "nbqA2V_LgaYu",
        "outputId": "381bcc79-da75-498c-c8b7-bb8cae24b900",
        "colab": {
          "base_uri": "https://localhost:8080/"
        }
      },
      "outputs": [
        {
          "output_type": "stream",
          "name": "stdout",
          "text": [
            "Root is: 1.241896563034502\n",
            "Iterations: 7\n"
          ]
        }
      ],
      "source": [
        "y = lambda x: x**3 + 2.*x**2 - 5.\n",
        "dy = lambda x: 3.*x**2. + 4.*x\n",
        "root, iterations = newton(y, dy, 5.0, 0.00001, 100)\n",
        "print(\"Root is:\", root)\n",
        "print(\"Iterations:\", iterations)"
      ]
    },
    {
      "cell_type": "markdown",
      "metadata": {
        "id": "RIz4Z0k7gaYv"
      },
      "source": [
        "# The secant method"
      ]
    },
    {
      "cell_type": "code",
      "execution_count": null,
      "metadata": {
        "id": "LiJoJIVAgaYv"
      },
      "outputs": [],
      "source": [
        "\"\"\"\n",
        "The secant root-finding method\n",
        "\"\"\"\n",
        "def secant(func, a, b, tol=0.001, maxiter=100):\n",
        "    \"\"\"\n",
        "    :param func: The function to solve\n",
        "    :param a: Initial x-axis guess value\n",
        "    :param b: Initial x-axis guess value, where b>a\n",
        "    :param tol: The precision of the solution\n",
        "    :param maxiter: Maximum number of iterations\n",
        "    :return:\n",
        "        The x-axis value of the root,\n",
        "        number of iterations used\n",
        "    \"\"\"\n",
        "    n = 1\n",
        "    while n <= maxiter:\n",
        "        c = b - func(b)*((b-a)/(func(b)-func(a)))\n",
        "        if abs(c-b) < tol:\n",
        "            return c, n\n",
        "\n",
        "        a = b\n",
        "        b = c\n",
        "        n += 1\n",
        "\n",
        "    return None, n"
      ]
    },
    {
      "cell_type": "code",
      "execution_count": null,
      "metadata": {
        "id": "elcTnrH9gaYv",
        "outputId": "d14718c1-d968-45c7-f7da-7e47fc38acce",
        "colab": {
          "base_uri": "https://localhost:8080/"
        }
      },
      "outputs": [
        {
          "output_type": "stream",
          "name": "stdout",
          "text": [
            "Root is: 1.2418965622558549\n",
            "Iterations: 14\n"
          ]
        }
      ],
      "source": [
        "y = lambda x: x**3 + 2.*x**2 - 5.\n",
        "root, iterations = secant(y, -5.0, 5.0, 0.00001, 100)\n",
        "print(\"Root is:\", root)\n",
        "print(\"Iterations:\", iterations)"
      ]
    },
    {
      "cell_type": "markdown",
      "metadata": {
        "id": "n5f8STDmgaYv"
      },
      "source": [
        "# SciPy implementations"
      ]
    },
    {
      "cell_type": "markdown",
      "metadata": {
        "id": "82f0S021gaYv"
      },
      "source": [
        "## Root-finding scalar functions"
      ]
    },
    {
      "cell_type": "code",
      "execution_count": null,
      "metadata": {
        "id": "QC5VbZ5cgaYv",
        "outputId": "c62a6330-20fe-4afb-a355-ca8d68a16e93",
        "colab": {
          "base_uri": "https://localhost:8080/"
        }
      },
      "outputs": [
        {
          "output_type": "stream",
          "name": "stdout",
          "text": [
            "Bisection method: 1.241903305053711\n",
            "Newton's method: 1.2418965630344798\n",
            "Secant method: 1.2418965630344803\n",
            "Brent's method: 1.241896563034559\n"
          ]
        }
      ],
      "source": [
        "\"\"\"\n",
        "Documentation at\n",
        "http://docs.scipy.org/doc/scipy/reference/optimize.html\n",
        "\"\"\"\n",
        "import scipy.optimize as optimize\n",
        "\n",
        "y = lambda x: x**3 + 2.*x**2 - 5.\n",
        "dy = lambda x: 3.*x**2 + 4.*x\n",
        "\n",
        "# Call method: bisect(f, a, b[, args, xtol, rtol, maxiter, ...])\n",
        "print(\"Bisection method:\", optimize.bisect(y, -5., 5., xtol=0.00001))\n",
        "\n",
        "# Call method: newton(func, x0[, fprime, args, tol, ...])\n",
        "print(\"Newton's method:\", optimize.newton(y, 5., fprime=dy))\n",
        "# When fprime=None, then the secant method is used.\n",
        "print(\"Secant method:\", optimize.newton(y, 5.))\n",
        "\n",
        "# Call method: brentq(f, a, b[, args, xtol, rtol, maxiter, ...])\n",
        "print(\"Brent's method:\", optimize.brentq(y, -5., 5.))"
      ]
    },
    {
      "cell_type": "markdown",
      "metadata": {
        "id": "SBXa7xHRgaYv"
      },
      "source": [
        "## General nonlinear solvers"
      ]
    },
    {
      "cell_type": "code",
      "execution_count": null,
      "metadata": {
        "id": "UC6yrZ5igaYv",
        "outputId": "be39019e-6385-4486-b74c-da322e7adc3f",
        "colab": {
          "base_uri": "https://localhost:8080/"
        }
      },
      "outputs": [
        {
          "output_type": "stream",
          "name": "stdout",
          "text": [
            "[1.24189656]\n"
          ]
        }
      ],
      "source": [
        "import scipy.optimize as optimize\n",
        "\n",
        "y = lambda x: x**3 + 2.*x**2 - 5.\n",
        "dy = lambda x: 3.*x**2 + 4.*x\n",
        "\n",
        "print(optimize.fsolve(y, 5., fprime=dy))"
      ]
    },
    {
      "cell_type": "code",
      "execution_count": null,
      "metadata": {
        "id": "D0vSNf-9gaYv",
        "outputId": "f8e5118b-1400-414f-ae16-dc754d5c4fc8",
        "colab": {
          "base_uri": "https://localhost:8080/"
        }
      },
      "outputs": [
        {
          "output_type": "stream",
          "name": "stdout",
          "text": [
            " message: The solution converged.\n",
            " success: True\n",
            "  status: 1\n",
            "     fun: [ 3.553e-15]\n",
            "       x: [ 1.242e+00]\n",
            "  method: hybr\n",
            "    nfev: 14\n",
            "    fjac: [[-1.000e+00]]\n",
            "       r: [-9.595e+00]\n",
            "     qtf: [-3.736e-09]\n"
          ]
        }
      ],
      "source": [
        "print(optimize.root(y, 5.))"
      ]
    },
    {
      "cell_type": "code",
      "execution_count": null,
      "metadata": {
        "id": "uU3TODLwgaYv",
        "outputId": "97da424e-8ced-4385-a997-aba93b1310d4",
        "colab": {
          "base_uri": "https://localhost:8080/"
        }
      },
      "outputs": [
        {
          "output_type": "stream",
          "name": "stdout",
          "text": [
            "[-1.33306553]\n"
          ]
        }
      ],
      "source": [
        "print(optimize.fsolve(y, -5., fprime=dy))"
      ]
    },
    {
      "cell_type": "code",
      "execution_count": null,
      "metadata": {
        "id": "vxPX6_yOgaYv",
        "outputId": "77803179-86d7-4af1-9fbf-e595e091ee57",
        "colab": {
          "base_uri": "https://localhost:8080/"
        }
      },
      "outputs": [
        {
          "output_type": "stream",
          "name": "stdout",
          "text": [
            " message: The iteration is not making good progress, as measured by the \n",
            "           improvement from the last ten iterations.\n",
            " success: False\n",
            "  status: 5\n",
            "     fun: [-3.815e+00]\n",
            "       x: [-1.333e+00]\n",
            "  method: hybr\n",
            "    nfev: 30\n",
            "    fjac: [[-1.000e+00]]\n",
            "       r: [-4.615e-03]\n",
            "     qtf: [ 3.815e+00]\n"
          ]
        }
      ],
      "source": [
        "print(optimize.root(y, -5.))"
      ]
    }
  ],
  "metadata": {
    "kernelspec": {
      "display_name": "Python 3 (ipykernel)",
      "language": "python",
      "name": "python3"
    },
    "language_info": {
      "codemirror_mode": {
        "name": "ipython",
        "version": 3
      },
      "file_extension": ".py",
      "mimetype": "text/x-python",
      "name": "python",
      "nbconvert_exporter": "python",
      "pygments_lexer": "ipython3",
      "version": "3.11.13"
    },
    "colab": {
      "provenance": []
    }
  },
  "nbformat": 4,
  "nbformat_minor": 0
}